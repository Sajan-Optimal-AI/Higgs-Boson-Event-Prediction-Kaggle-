{
  "nbformat": 4,
  "nbformat_minor": 0,
  "metadata": {
    "colab": {
      "provenance": []
    },
    "kernelspec": {
      "name": "python3",
      "display_name": "Python 3"
    },
    "language_info": {
      "name": "python"
    },
    "gpuClass": "standard"
  },
  "cells": [
    {
      "cell_type": "markdown",
      "source": [
        "#Step 1: Importing all the necessary libraries"
      ],
      "metadata": {
        "id": "BoQoJh1-ORQP"
      }
    },
    {
      "cell_type": "code",
      "execution_count": null,
      "metadata": {
        "id": "i5Ban9nQOG1C"
      },
      "outputs": [],
      "source": [
        "## All the basic ones we need are copy pasted here (we may not use it all! and import some later depending on the data!)\n",
        "import pandas as pd\n",
        "import numpy as np\n",
        "import matplotlib.pyplot as plt\n",
        "from matplotlib import rcParams\n",
        "\n",
        "import seaborn as sns\n",
        "from collections import Counter\n",
        "import warnings\n",
        "warnings.filterwarnings(\"ignore\")\n",
        "import math\n",
        "\n",
        "from sklearn.preprocessing import LabelEncoder,normalize,MinMaxScaler,StandardScaler\n",
        "from sklearn.feature_selection import mutual_info_classif,SelectKBest\n",
        "from sklearn.metrics import f1_score\n",
        "from sklearn.model_selection import cross_val_score,train_test_split\n",
        "from sklearn.metrics import confusion_matrix,roc_auc_score,roc_curve,classification_report,accuracy_score\n",
        "import seaborn as sns\n",
        "from sklearn.model_selection import GridSearchCV\n",
        "import pickle\n"
      ]
    },
    {
      "cell_type": "markdown",
      "source": [
        "#Step 2 : Read the dataset and perform Feature Engineering via EDA"
      ],
      "metadata": {
        "id": "OuNP4tFzOl4T"
      }
    },
    {
      "cell_type": "code",
      "source": [
        "## Reading data using pandas library\n",
        "train = pd.read_csv('/content/drive/MyDrive/ML for Physics Applications/Content/Beginner Program/Notebooks/Week 9/Higgs Boston/Datasets/training.csv')\n",
        "test = pd.read_csv('/content/drive/MyDrive/ML for Physics Applications/Content/Beginner Program/Notebooks/Week 9/Higgs Boston/Datasets/test.csv')\n",
        "\n",
        "## Printing the shape of training and testing dataset\n",
        "print(\"Train - \", train.shape,\"\\nTest - \", test.shape)"
      ],
      "metadata": {
        "colab": {
          "base_uri": "https://localhost:8080/"
        },
        "id": "QsjbubDqOipa",
        "outputId": "871952e7-db28-4162-87ad-0c3e9480420f"
      },
      "execution_count": null,
      "outputs": [
        {
          "output_type": "stream",
          "name": "stdout",
          "text": [
            "Train -  (250000, 33) \n",
            "Test -  (550000, 31)\n"
          ]
        }
      ]
    },
    {
      "cell_type": "code",
      "source": [
        "display( train.head(), test.head())"
      ],
      "metadata": {
        "colab": {
          "base_uri": "https://localhost:8080/",
          "height": 518
        },
        "id": "c2bYtD-2Pljh",
        "outputId": "d78a2ace-48e3-48bc-87d3-63ba90591bd6"
      },
      "execution_count": null,
      "outputs": [
        {
          "output_type": "display_data",
          "data": {
            "text/plain": [
              "   EventId  DER_mass_MMC  DER_mass_transverse_met_lep  DER_mass_vis  DER_pt_h  \\\n",
              "0   100000       138.470                       51.655        97.827    27.980   \n",
              "1   100001       160.937                       68.768       103.235    48.146   \n",
              "2   100002      -999.000                      162.172       125.953    35.635   \n",
              "3   100003       143.905                       81.417        80.943     0.414   \n",
              "4   100004       175.864                       16.915       134.805    16.405   \n",
              "\n",
              "   DER_deltaeta_jet_jet  DER_mass_jet_jet  DER_prodeta_jet_jet  \\\n",
              "0                  0.91           124.711                2.666   \n",
              "1               -999.00          -999.000             -999.000   \n",
              "2               -999.00          -999.000             -999.000   \n",
              "3               -999.00          -999.000             -999.000   \n",
              "4               -999.00          -999.000             -999.000   \n",
              "\n",
              "   DER_deltar_tau_lep  DER_pt_tot  ...  PRI_jet_num  PRI_jet_leading_pt  \\\n",
              "0               3.064      41.928  ...            2              67.435   \n",
              "1               3.473       2.078  ...            1              46.226   \n",
              "2               3.148       9.336  ...            1              44.251   \n",
              "3               3.310       0.414  ...            0            -999.000   \n",
              "4               3.891      16.405  ...            0            -999.000   \n",
              "\n",
              "   PRI_jet_leading_eta  PRI_jet_leading_phi  PRI_jet_subleading_pt  \\\n",
              "0                2.150                0.444                 46.062   \n",
              "1                0.725                1.158               -999.000   \n",
              "2                2.053               -2.028               -999.000   \n",
              "3             -999.000             -999.000               -999.000   \n",
              "4             -999.000             -999.000               -999.000   \n",
              "\n",
              "   PRI_jet_subleading_eta  PRI_jet_subleading_phi  PRI_jet_all_pt    Weight  \\\n",
              "0                    1.24                  -2.475         113.497  0.002653   \n",
              "1                 -999.00                -999.000          46.226  2.233584   \n",
              "2                 -999.00                -999.000          44.251  2.347389   \n",
              "3                 -999.00                -999.000          -0.000  5.446378   \n",
              "4                 -999.00                -999.000           0.000  6.245333   \n",
              "\n",
              "   Label  \n",
              "0      s  \n",
              "1      b  \n",
              "2      b  \n",
              "3      b  \n",
              "4      b  \n",
              "\n",
              "[5 rows x 33 columns]"
            ],
            "text/html": [
              "\n",
              "  <div id=\"df-1b53f11b-d992-4175-85a2-b99e033f1d40\">\n",
              "    <div class=\"colab-df-container\">\n",
              "      <div>\n",
              "<style scoped>\n",
              "    .dataframe tbody tr th:only-of-type {\n",
              "        vertical-align: middle;\n",
              "    }\n",
              "\n",
              "    .dataframe tbody tr th {\n",
              "        vertical-align: top;\n",
              "    }\n",
              "\n",
              "    .dataframe thead th {\n",
              "        text-align: right;\n",
              "    }\n",
              "</style>\n",
              "<table border=\"1\" class=\"dataframe\">\n",
              "  <thead>\n",
              "    <tr style=\"text-align: right;\">\n",
              "      <th></th>\n",
              "      <th>EventId</th>\n",
              "      <th>DER_mass_MMC</th>\n",
              "      <th>DER_mass_transverse_met_lep</th>\n",
              "      <th>DER_mass_vis</th>\n",
              "      <th>DER_pt_h</th>\n",
              "      <th>DER_deltaeta_jet_jet</th>\n",
              "      <th>DER_mass_jet_jet</th>\n",
              "      <th>DER_prodeta_jet_jet</th>\n",
              "      <th>DER_deltar_tau_lep</th>\n",
              "      <th>DER_pt_tot</th>\n",
              "      <th>...</th>\n",
              "      <th>PRI_jet_num</th>\n",
              "      <th>PRI_jet_leading_pt</th>\n",
              "      <th>PRI_jet_leading_eta</th>\n",
              "      <th>PRI_jet_leading_phi</th>\n",
              "      <th>PRI_jet_subleading_pt</th>\n",
              "      <th>PRI_jet_subleading_eta</th>\n",
              "      <th>PRI_jet_subleading_phi</th>\n",
              "      <th>PRI_jet_all_pt</th>\n",
              "      <th>Weight</th>\n",
              "      <th>Label</th>\n",
              "    </tr>\n",
              "  </thead>\n",
              "  <tbody>\n",
              "    <tr>\n",
              "      <th>0</th>\n",
              "      <td>100000</td>\n",
              "      <td>138.470</td>\n",
              "      <td>51.655</td>\n",
              "      <td>97.827</td>\n",
              "      <td>27.980</td>\n",
              "      <td>0.91</td>\n",
              "      <td>124.711</td>\n",
              "      <td>2.666</td>\n",
              "      <td>3.064</td>\n",
              "      <td>41.928</td>\n",
              "      <td>...</td>\n",
              "      <td>2</td>\n",
              "      <td>67.435</td>\n",
              "      <td>2.150</td>\n",
              "      <td>0.444</td>\n",
              "      <td>46.062</td>\n",
              "      <td>1.24</td>\n",
              "      <td>-2.475</td>\n",
              "      <td>113.497</td>\n",
              "      <td>0.002653</td>\n",
              "      <td>s</td>\n",
              "    </tr>\n",
              "    <tr>\n",
              "      <th>1</th>\n",
              "      <td>100001</td>\n",
              "      <td>160.937</td>\n",
              "      <td>68.768</td>\n",
              "      <td>103.235</td>\n",
              "      <td>48.146</td>\n",
              "      <td>-999.00</td>\n",
              "      <td>-999.000</td>\n",
              "      <td>-999.000</td>\n",
              "      <td>3.473</td>\n",
              "      <td>2.078</td>\n",
              "      <td>...</td>\n",
              "      <td>1</td>\n",
              "      <td>46.226</td>\n",
              "      <td>0.725</td>\n",
              "      <td>1.158</td>\n",
              "      <td>-999.000</td>\n",
              "      <td>-999.00</td>\n",
              "      <td>-999.000</td>\n",
              "      <td>46.226</td>\n",
              "      <td>2.233584</td>\n",
              "      <td>b</td>\n",
              "    </tr>\n",
              "    <tr>\n",
              "      <th>2</th>\n",
              "      <td>100002</td>\n",
              "      <td>-999.000</td>\n",
              "      <td>162.172</td>\n",
              "      <td>125.953</td>\n",
              "      <td>35.635</td>\n",
              "      <td>-999.00</td>\n",
              "      <td>-999.000</td>\n",
              "      <td>-999.000</td>\n",
              "      <td>3.148</td>\n",
              "      <td>9.336</td>\n",
              "      <td>...</td>\n",
              "      <td>1</td>\n",
              "      <td>44.251</td>\n",
              "      <td>2.053</td>\n",
              "      <td>-2.028</td>\n",
              "      <td>-999.000</td>\n",
              "      <td>-999.00</td>\n",
              "      <td>-999.000</td>\n",
              "      <td>44.251</td>\n",
              "      <td>2.347389</td>\n",
              "      <td>b</td>\n",
              "    </tr>\n",
              "    <tr>\n",
              "      <th>3</th>\n",
              "      <td>100003</td>\n",
              "      <td>143.905</td>\n",
              "      <td>81.417</td>\n",
              "      <td>80.943</td>\n",
              "      <td>0.414</td>\n",
              "      <td>-999.00</td>\n",
              "      <td>-999.000</td>\n",
              "      <td>-999.000</td>\n",
              "      <td>3.310</td>\n",
              "      <td>0.414</td>\n",
              "      <td>...</td>\n",
              "      <td>0</td>\n",
              "      <td>-999.000</td>\n",
              "      <td>-999.000</td>\n",
              "      <td>-999.000</td>\n",
              "      <td>-999.000</td>\n",
              "      <td>-999.00</td>\n",
              "      <td>-999.000</td>\n",
              "      <td>-0.000</td>\n",
              "      <td>5.446378</td>\n",
              "      <td>b</td>\n",
              "    </tr>\n",
              "    <tr>\n",
              "      <th>4</th>\n",
              "      <td>100004</td>\n",
              "      <td>175.864</td>\n",
              "      <td>16.915</td>\n",
              "      <td>134.805</td>\n",
              "      <td>16.405</td>\n",
              "      <td>-999.00</td>\n",
              "      <td>-999.000</td>\n",
              "      <td>-999.000</td>\n",
              "      <td>3.891</td>\n",
              "      <td>16.405</td>\n",
              "      <td>...</td>\n",
              "      <td>0</td>\n",
              "      <td>-999.000</td>\n",
              "      <td>-999.000</td>\n",
              "      <td>-999.000</td>\n",
              "      <td>-999.000</td>\n",
              "      <td>-999.00</td>\n",
              "      <td>-999.000</td>\n",
              "      <td>0.000</td>\n",
              "      <td>6.245333</td>\n",
              "      <td>b</td>\n",
              "    </tr>\n",
              "  </tbody>\n",
              "</table>\n",
              "<p>5 rows × 33 columns</p>\n",
              "</div>\n",
              "      <button class=\"colab-df-convert\" onclick=\"convertToInteractive('df-1b53f11b-d992-4175-85a2-b99e033f1d40')\"\n",
              "              title=\"Convert this dataframe to an interactive table.\"\n",
              "              style=\"display:none;\">\n",
              "        \n",
              "  <svg xmlns=\"http://www.w3.org/2000/svg\" height=\"24px\"viewBox=\"0 0 24 24\"\n",
              "       width=\"24px\">\n",
              "    <path d=\"M0 0h24v24H0V0z\" fill=\"none\"/>\n",
              "    <path d=\"M18.56 5.44l.94 2.06.94-2.06 2.06-.94-2.06-.94-.94-2.06-.94 2.06-2.06.94zm-11 1L8.5 8.5l.94-2.06 2.06-.94-2.06-.94L8.5 2.5l-.94 2.06-2.06.94zm10 10l.94 2.06.94-2.06 2.06-.94-2.06-.94-.94-2.06-.94 2.06-2.06.94z\"/><path d=\"M17.41 7.96l-1.37-1.37c-.4-.4-.92-.59-1.43-.59-.52 0-1.04.2-1.43.59L10.3 9.45l-7.72 7.72c-.78.78-.78 2.05 0 2.83L4 21.41c.39.39.9.59 1.41.59.51 0 1.02-.2 1.41-.59l7.78-7.78 2.81-2.81c.8-.78.8-2.07 0-2.86zM5.41 20L4 18.59l7.72-7.72 1.47 1.35L5.41 20z\"/>\n",
              "  </svg>\n",
              "      </button>\n",
              "      \n",
              "  <style>\n",
              "    .colab-df-container {\n",
              "      display:flex;\n",
              "      flex-wrap:wrap;\n",
              "      gap: 12px;\n",
              "    }\n",
              "\n",
              "    .colab-df-convert {\n",
              "      background-color: #E8F0FE;\n",
              "      border: none;\n",
              "      border-radius: 50%;\n",
              "      cursor: pointer;\n",
              "      display: none;\n",
              "      fill: #1967D2;\n",
              "      height: 32px;\n",
              "      padding: 0 0 0 0;\n",
              "      width: 32px;\n",
              "    }\n",
              "\n",
              "    .colab-df-convert:hover {\n",
              "      background-color: #E2EBFA;\n",
              "      box-shadow: 0px 1px 2px rgba(60, 64, 67, 0.3), 0px 1px 3px 1px rgba(60, 64, 67, 0.15);\n",
              "      fill: #174EA6;\n",
              "    }\n",
              "\n",
              "    [theme=dark] .colab-df-convert {\n",
              "      background-color: #3B4455;\n",
              "      fill: #D2E3FC;\n",
              "    }\n",
              "\n",
              "    [theme=dark] .colab-df-convert:hover {\n",
              "      background-color: #434B5C;\n",
              "      box-shadow: 0px 1px 3px 1px rgba(0, 0, 0, 0.15);\n",
              "      filter: drop-shadow(0px 1px 2px rgba(0, 0, 0, 0.3));\n",
              "      fill: #FFFFFF;\n",
              "    }\n",
              "  </style>\n",
              "\n",
              "      <script>\n",
              "        const buttonEl =\n",
              "          document.querySelector('#df-1b53f11b-d992-4175-85a2-b99e033f1d40 button.colab-df-convert');\n",
              "        buttonEl.style.display =\n",
              "          google.colab.kernel.accessAllowed ? 'block' : 'none';\n",
              "\n",
              "        async function convertToInteractive(key) {\n",
              "          const element = document.querySelector('#df-1b53f11b-d992-4175-85a2-b99e033f1d40');\n",
              "          const dataTable =\n",
              "            await google.colab.kernel.invokeFunction('convertToInteractive',\n",
              "                                                     [key], {});\n",
              "          if (!dataTable) return;\n",
              "\n",
              "          const docLinkHtml = 'Like what you see? Visit the ' +\n",
              "            '<a target=\"_blank\" href=https://colab.research.google.com/notebooks/data_table.ipynb>data table notebook</a>'\n",
              "            + ' to learn more about interactive tables.';\n",
              "          element.innerHTML = '';\n",
              "          dataTable['output_type'] = 'display_data';\n",
              "          await google.colab.output.renderOutput(dataTable, element);\n",
              "          const docLink = document.createElement('div');\n",
              "          docLink.innerHTML = docLinkHtml;\n",
              "          element.appendChild(docLink);\n",
              "        }\n",
              "      </script>\n",
              "    </div>\n",
              "  </div>\n",
              "  "
            ]
          },
          "metadata": {}
        },
        {
          "output_type": "display_data",
          "data": {
            "text/plain": [
              "   EventId  DER_mass_MMC  DER_mass_transverse_met_lep  DER_mass_vis  DER_pt_h  \\\n",
              "0   350000      -999.000                       79.589        23.916     3.036   \n",
              "1   350001       106.398                       67.490        87.949    49.994   \n",
              "2   350002       117.794                       56.226        96.358     4.137   \n",
              "3   350003       135.861                       30.604        97.288     9.104   \n",
              "4   350004        74.159                       82.772        58.731    89.646   \n",
              "\n",
              "   DER_deltaeta_jet_jet  DER_mass_jet_jet  DER_prodeta_jet_jet  \\\n",
              "0              -999.000          -999.000             -999.000   \n",
              "1              -999.000          -999.000             -999.000   \n",
              "2              -999.000          -999.000             -999.000   \n",
              "3              -999.000          -999.000             -999.000   \n",
              "4                 1.347           536.663               -0.339   \n",
              "\n",
              "   DER_deltar_tau_lep  DER_pt_tot  ...  PRI_met_phi  PRI_met_sumet  \\\n",
              "0               0.903       3.036  ...        2.022         98.556   \n",
              "1               2.048       2.679  ...       -1.138        176.251   \n",
              "2               2.755       4.137  ...       -1.868        111.505   \n",
              "3               2.811       9.104  ...        1.172        164.707   \n",
              "4               1.028      77.213  ...       -0.231        869.614   \n",
              "\n",
              "   PRI_jet_num  PRI_jet_leading_pt  PRI_jet_leading_eta  PRI_jet_leading_phi  \\\n",
              "0            0            -999.000             -999.000             -999.000   \n",
              "1            1              47.575               -0.553               -0.849   \n",
              "2            0            -999.000             -999.000             -999.000   \n",
              "3            0            -999.000             -999.000             -999.000   \n",
              "4            3             254.085               -1.013               -0.334   \n",
              "\n",
              "   PRI_jet_subleading_pt  PRI_jet_subleading_eta  PRI_jet_subleading_phi  \\\n",
              "0               -999.000                -999.000                -999.000   \n",
              "1               -999.000                -999.000                -999.000   \n",
              "2               -999.000                -999.000                -999.000   \n",
              "3               -999.000                -999.000                -999.000   \n",
              "4                185.857                   0.335                   2.587   \n",
              "\n",
              "   PRI_jet_all_pt  \n",
              "0          -0.000  \n",
              "1          47.575  \n",
              "2           0.000  \n",
              "3           0.000  \n",
              "4         599.213  \n",
              "\n",
              "[5 rows x 31 columns]"
            ],
            "text/html": [
              "\n",
              "  <div id=\"df-f88a91f7-26d7-4720-9dce-6c4125d6c705\">\n",
              "    <div class=\"colab-df-container\">\n",
              "      <div>\n",
              "<style scoped>\n",
              "    .dataframe tbody tr th:only-of-type {\n",
              "        vertical-align: middle;\n",
              "    }\n",
              "\n",
              "    .dataframe tbody tr th {\n",
              "        vertical-align: top;\n",
              "    }\n",
              "\n",
              "    .dataframe thead th {\n",
              "        text-align: right;\n",
              "    }\n",
              "</style>\n",
              "<table border=\"1\" class=\"dataframe\">\n",
              "  <thead>\n",
              "    <tr style=\"text-align: right;\">\n",
              "      <th></th>\n",
              "      <th>EventId</th>\n",
              "      <th>DER_mass_MMC</th>\n",
              "      <th>DER_mass_transverse_met_lep</th>\n",
              "      <th>DER_mass_vis</th>\n",
              "      <th>DER_pt_h</th>\n",
              "      <th>DER_deltaeta_jet_jet</th>\n",
              "      <th>DER_mass_jet_jet</th>\n",
              "      <th>DER_prodeta_jet_jet</th>\n",
              "      <th>DER_deltar_tau_lep</th>\n",
              "      <th>DER_pt_tot</th>\n",
              "      <th>...</th>\n",
              "      <th>PRI_met_phi</th>\n",
              "      <th>PRI_met_sumet</th>\n",
              "      <th>PRI_jet_num</th>\n",
              "      <th>PRI_jet_leading_pt</th>\n",
              "      <th>PRI_jet_leading_eta</th>\n",
              "      <th>PRI_jet_leading_phi</th>\n",
              "      <th>PRI_jet_subleading_pt</th>\n",
              "      <th>PRI_jet_subleading_eta</th>\n",
              "      <th>PRI_jet_subleading_phi</th>\n",
              "      <th>PRI_jet_all_pt</th>\n",
              "    </tr>\n",
              "  </thead>\n",
              "  <tbody>\n",
              "    <tr>\n",
              "      <th>0</th>\n",
              "      <td>350000</td>\n",
              "      <td>-999.000</td>\n",
              "      <td>79.589</td>\n",
              "      <td>23.916</td>\n",
              "      <td>3.036</td>\n",
              "      <td>-999.000</td>\n",
              "      <td>-999.000</td>\n",
              "      <td>-999.000</td>\n",
              "      <td>0.903</td>\n",
              "      <td>3.036</td>\n",
              "      <td>...</td>\n",
              "      <td>2.022</td>\n",
              "      <td>98.556</td>\n",
              "      <td>0</td>\n",
              "      <td>-999.000</td>\n",
              "      <td>-999.000</td>\n",
              "      <td>-999.000</td>\n",
              "      <td>-999.000</td>\n",
              "      <td>-999.000</td>\n",
              "      <td>-999.000</td>\n",
              "      <td>-0.000</td>\n",
              "    </tr>\n",
              "    <tr>\n",
              "      <th>1</th>\n",
              "      <td>350001</td>\n",
              "      <td>106.398</td>\n",
              "      <td>67.490</td>\n",
              "      <td>87.949</td>\n",
              "      <td>49.994</td>\n",
              "      <td>-999.000</td>\n",
              "      <td>-999.000</td>\n",
              "      <td>-999.000</td>\n",
              "      <td>2.048</td>\n",
              "      <td>2.679</td>\n",
              "      <td>...</td>\n",
              "      <td>-1.138</td>\n",
              "      <td>176.251</td>\n",
              "      <td>1</td>\n",
              "      <td>47.575</td>\n",
              "      <td>-0.553</td>\n",
              "      <td>-0.849</td>\n",
              "      <td>-999.000</td>\n",
              "      <td>-999.000</td>\n",
              "      <td>-999.000</td>\n",
              "      <td>47.575</td>\n",
              "    </tr>\n",
              "    <tr>\n",
              "      <th>2</th>\n",
              "      <td>350002</td>\n",
              "      <td>117.794</td>\n",
              "      <td>56.226</td>\n",
              "      <td>96.358</td>\n",
              "      <td>4.137</td>\n",
              "      <td>-999.000</td>\n",
              "      <td>-999.000</td>\n",
              "      <td>-999.000</td>\n",
              "      <td>2.755</td>\n",
              "      <td>4.137</td>\n",
              "      <td>...</td>\n",
              "      <td>-1.868</td>\n",
              "      <td>111.505</td>\n",
              "      <td>0</td>\n",
              "      <td>-999.000</td>\n",
              "      <td>-999.000</td>\n",
              "      <td>-999.000</td>\n",
              "      <td>-999.000</td>\n",
              "      <td>-999.000</td>\n",
              "      <td>-999.000</td>\n",
              "      <td>0.000</td>\n",
              "    </tr>\n",
              "    <tr>\n",
              "      <th>3</th>\n",
              "      <td>350003</td>\n",
              "      <td>135.861</td>\n",
              "      <td>30.604</td>\n",
              "      <td>97.288</td>\n",
              "      <td>9.104</td>\n",
              "      <td>-999.000</td>\n",
              "      <td>-999.000</td>\n",
              "      <td>-999.000</td>\n",
              "      <td>2.811</td>\n",
              "      <td>9.104</td>\n",
              "      <td>...</td>\n",
              "      <td>1.172</td>\n",
              "      <td>164.707</td>\n",
              "      <td>0</td>\n",
              "      <td>-999.000</td>\n",
              "      <td>-999.000</td>\n",
              "      <td>-999.000</td>\n",
              "      <td>-999.000</td>\n",
              "      <td>-999.000</td>\n",
              "      <td>-999.000</td>\n",
              "      <td>0.000</td>\n",
              "    </tr>\n",
              "    <tr>\n",
              "      <th>4</th>\n",
              "      <td>350004</td>\n",
              "      <td>74.159</td>\n",
              "      <td>82.772</td>\n",
              "      <td>58.731</td>\n",
              "      <td>89.646</td>\n",
              "      <td>1.347</td>\n",
              "      <td>536.663</td>\n",
              "      <td>-0.339</td>\n",
              "      <td>1.028</td>\n",
              "      <td>77.213</td>\n",
              "      <td>...</td>\n",
              "      <td>-0.231</td>\n",
              "      <td>869.614</td>\n",
              "      <td>3</td>\n",
              "      <td>254.085</td>\n",
              "      <td>-1.013</td>\n",
              "      <td>-0.334</td>\n",
              "      <td>185.857</td>\n",
              "      <td>0.335</td>\n",
              "      <td>2.587</td>\n",
              "      <td>599.213</td>\n",
              "    </tr>\n",
              "  </tbody>\n",
              "</table>\n",
              "<p>5 rows × 31 columns</p>\n",
              "</div>\n",
              "      <button class=\"colab-df-convert\" onclick=\"convertToInteractive('df-f88a91f7-26d7-4720-9dce-6c4125d6c705')\"\n",
              "              title=\"Convert this dataframe to an interactive table.\"\n",
              "              style=\"display:none;\">\n",
              "        \n",
              "  <svg xmlns=\"http://www.w3.org/2000/svg\" height=\"24px\"viewBox=\"0 0 24 24\"\n",
              "       width=\"24px\">\n",
              "    <path d=\"M0 0h24v24H0V0z\" fill=\"none\"/>\n",
              "    <path d=\"M18.56 5.44l.94 2.06.94-2.06 2.06-.94-2.06-.94-.94-2.06-.94 2.06-2.06.94zm-11 1L8.5 8.5l.94-2.06 2.06-.94-2.06-.94L8.5 2.5l-.94 2.06-2.06.94zm10 10l.94 2.06.94-2.06 2.06-.94-2.06-.94-.94-2.06-.94 2.06-2.06.94z\"/><path d=\"M17.41 7.96l-1.37-1.37c-.4-.4-.92-.59-1.43-.59-.52 0-1.04.2-1.43.59L10.3 9.45l-7.72 7.72c-.78.78-.78 2.05 0 2.83L4 21.41c.39.39.9.59 1.41.59.51 0 1.02-.2 1.41-.59l7.78-7.78 2.81-2.81c.8-.78.8-2.07 0-2.86zM5.41 20L4 18.59l7.72-7.72 1.47 1.35L5.41 20z\"/>\n",
              "  </svg>\n",
              "      </button>\n",
              "      \n",
              "  <style>\n",
              "    .colab-df-container {\n",
              "      display:flex;\n",
              "      flex-wrap:wrap;\n",
              "      gap: 12px;\n",
              "    }\n",
              "\n",
              "    .colab-df-convert {\n",
              "      background-color: #E8F0FE;\n",
              "      border: none;\n",
              "      border-radius: 50%;\n",
              "      cursor: pointer;\n",
              "      display: none;\n",
              "      fill: #1967D2;\n",
              "      height: 32px;\n",
              "      padding: 0 0 0 0;\n",
              "      width: 32px;\n",
              "    }\n",
              "\n",
              "    .colab-df-convert:hover {\n",
              "      background-color: #E2EBFA;\n",
              "      box-shadow: 0px 1px 2px rgba(60, 64, 67, 0.3), 0px 1px 3px 1px rgba(60, 64, 67, 0.15);\n",
              "      fill: #174EA6;\n",
              "    }\n",
              "\n",
              "    [theme=dark] .colab-df-convert {\n",
              "      background-color: #3B4455;\n",
              "      fill: #D2E3FC;\n",
              "    }\n",
              "\n",
              "    [theme=dark] .colab-df-convert:hover {\n",
              "      background-color: #434B5C;\n",
              "      box-shadow: 0px 1px 3px 1px rgba(0, 0, 0, 0.15);\n",
              "      filter: drop-shadow(0px 1px 2px rgba(0, 0, 0, 0.3));\n",
              "      fill: #FFFFFF;\n",
              "    }\n",
              "  </style>\n",
              "\n",
              "      <script>\n",
              "        const buttonEl =\n",
              "          document.querySelector('#df-f88a91f7-26d7-4720-9dce-6c4125d6c705 button.colab-df-convert');\n",
              "        buttonEl.style.display =\n",
              "          google.colab.kernel.accessAllowed ? 'block' : 'none';\n",
              "\n",
              "        async function convertToInteractive(key) {\n",
              "          const element = document.querySelector('#df-f88a91f7-26d7-4720-9dce-6c4125d6c705');\n",
              "          const dataTable =\n",
              "            await google.colab.kernel.invokeFunction('convertToInteractive',\n",
              "                                                     [key], {});\n",
              "          if (!dataTable) return;\n",
              "\n",
              "          const docLinkHtml = 'Like what you see? Visit the ' +\n",
              "            '<a target=\"_blank\" href=https://colab.research.google.com/notebooks/data_table.ipynb>data table notebook</a>'\n",
              "            + ' to learn more about interactive tables.';\n",
              "          element.innerHTML = '';\n",
              "          dataTable['output_type'] = 'display_data';\n",
              "          await google.colab.output.renderOutput(dataTable, element);\n",
              "          const docLink = document.createElement('div');\n",
              "          docLink.innerHTML = docLinkHtml;\n",
              "          element.appendChild(docLink);\n",
              "        }\n",
              "      </script>\n",
              "    </div>\n",
              "  </div>\n",
              "  "
            ]
          },
          "metadata": {}
        }
      ]
    },
    {
      "cell_type": "code",
      "source": [
        "display(train.info(),test.info())"
      ],
      "metadata": {
        "colab": {
          "base_uri": "https://localhost:8080/",
          "height": 1000
        },
        "id": "191_TiWNP2nn",
        "outputId": "68dc9fe8-d9c0-4b1f-8132-ba069b79f8b4"
      },
      "execution_count": null,
      "outputs": [
        {
          "output_type": "stream",
          "name": "stdout",
          "text": [
            "<class 'pandas.core.frame.DataFrame'>\n",
            "RangeIndex: 250000 entries, 0 to 249999\n",
            "Data columns (total 33 columns):\n",
            " #   Column                       Non-Null Count   Dtype  \n",
            "---  ------                       --------------   -----  \n",
            " 0   EventId                      250000 non-null  int64  \n",
            " 1   DER_mass_MMC                 250000 non-null  float64\n",
            " 2   DER_mass_transverse_met_lep  250000 non-null  float64\n",
            " 3   DER_mass_vis                 250000 non-null  float64\n",
            " 4   DER_pt_h                     250000 non-null  float64\n",
            " 5   DER_deltaeta_jet_jet         250000 non-null  float64\n",
            " 6   DER_mass_jet_jet             250000 non-null  float64\n",
            " 7   DER_prodeta_jet_jet          250000 non-null  float64\n",
            " 8   DER_deltar_tau_lep           250000 non-null  float64\n",
            " 9   DER_pt_tot                   250000 non-null  float64\n",
            " 10  DER_sum_pt                   250000 non-null  float64\n",
            " 11  DER_pt_ratio_lep_tau         250000 non-null  float64\n",
            " 12  DER_met_phi_centrality       250000 non-null  float64\n",
            " 13  DER_lep_eta_centrality       250000 non-null  float64\n",
            " 14  PRI_tau_pt                   250000 non-null  float64\n",
            " 15  PRI_tau_eta                  250000 non-null  float64\n",
            " 16  PRI_tau_phi                  250000 non-null  float64\n",
            " 17  PRI_lep_pt                   250000 non-null  float64\n",
            " 18  PRI_lep_eta                  250000 non-null  float64\n",
            " 19  PRI_lep_phi                  250000 non-null  float64\n",
            " 20  PRI_met                      250000 non-null  float64\n",
            " 21  PRI_met_phi                  250000 non-null  float64\n",
            " 22  PRI_met_sumet                250000 non-null  float64\n",
            " 23  PRI_jet_num                  250000 non-null  int64  \n",
            " 24  PRI_jet_leading_pt           250000 non-null  float64\n",
            " 25  PRI_jet_leading_eta          250000 non-null  float64\n",
            " 26  PRI_jet_leading_phi          250000 non-null  float64\n",
            " 27  PRI_jet_subleading_pt        250000 non-null  float64\n",
            " 28  PRI_jet_subleading_eta       250000 non-null  float64\n",
            " 29  PRI_jet_subleading_phi       250000 non-null  float64\n",
            " 30  PRI_jet_all_pt               250000 non-null  float64\n",
            " 31  Weight                       250000 non-null  float64\n",
            " 32  Label                        250000 non-null  object \n",
            "dtypes: float64(30), int64(2), object(1)\n",
            "memory usage: 62.9+ MB\n",
            "<class 'pandas.core.frame.DataFrame'>\n",
            "RangeIndex: 550000 entries, 0 to 549999\n",
            "Data columns (total 31 columns):\n",
            " #   Column                       Non-Null Count   Dtype  \n",
            "---  ------                       --------------   -----  \n",
            " 0   EventId                      550000 non-null  int64  \n",
            " 1   DER_mass_MMC                 550000 non-null  float64\n",
            " 2   DER_mass_transverse_met_lep  550000 non-null  float64\n",
            " 3   DER_mass_vis                 550000 non-null  float64\n",
            " 4   DER_pt_h                     550000 non-null  float64\n",
            " 5   DER_deltaeta_jet_jet         550000 non-null  float64\n",
            " 6   DER_mass_jet_jet             550000 non-null  float64\n",
            " 7   DER_prodeta_jet_jet          550000 non-null  float64\n",
            " 8   DER_deltar_tau_lep           550000 non-null  float64\n",
            " 9   DER_pt_tot                   550000 non-null  float64\n",
            " 10  DER_sum_pt                   550000 non-null  float64\n",
            " 11  DER_pt_ratio_lep_tau         550000 non-null  float64\n",
            " 12  DER_met_phi_centrality       550000 non-null  float64\n",
            " 13  DER_lep_eta_centrality       550000 non-null  float64\n",
            " 14  PRI_tau_pt                   550000 non-null  float64\n",
            " 15  PRI_tau_eta                  550000 non-null  float64\n",
            " 16  PRI_tau_phi                  550000 non-null  float64\n",
            " 17  PRI_lep_pt                   550000 non-null  float64\n",
            " 18  PRI_lep_eta                  550000 non-null  float64\n",
            " 19  PRI_lep_phi                  550000 non-null  float64\n",
            " 20  PRI_met                      550000 non-null  float64\n",
            " 21  PRI_met_phi                  550000 non-null  float64\n",
            " 22  PRI_met_sumet                550000 non-null  float64\n",
            " 23  PRI_jet_num                  550000 non-null  int64  \n",
            " 24  PRI_jet_leading_pt           550000 non-null  float64\n",
            " 25  PRI_jet_leading_eta          550000 non-null  float64\n",
            " 26  PRI_jet_leading_phi          550000 non-null  float64\n",
            " 27  PRI_jet_subleading_pt        550000 non-null  float64\n",
            " 28  PRI_jet_subleading_eta       550000 non-null  float64\n",
            " 29  PRI_jet_subleading_phi       550000 non-null  float64\n",
            " 30  PRI_jet_all_pt               550000 non-null  float64\n",
            "dtypes: float64(29), int64(2)\n",
            "memory usage: 130.1 MB\n"
          ]
        },
        {
          "output_type": "display_data",
          "data": {
            "text/plain": [
              "None"
            ]
          },
          "metadata": {}
        },
        {
          "output_type": "display_data",
          "data": {
            "text/plain": [
              "None"
            ]
          },
          "metadata": {}
        }
      ]
    },
    {
      "cell_type": "markdown",
      "source": [
        "About Train and Test Dataset\n",
        "\n",
        "> Train Dataset contains 33 columns includes Label(Target Feature)\n",
        "\n",
        "> Test Dataset contains 31 Columns doesnot include \"Label\" and \"Weight\" which present in Train Dataset.\n",
        "\n",
        "> To Balance Both dataset , it is mndatory to remove \"weight\" from Train Dataset\n",
        "\n",
        "> Both Dataset looks normal, no missing values and except \"Label\", all columns are numeric in nature."
      ],
      "metadata": {
        "id": "J_Dn9CQOQE_r"
      }
    },
    {
      "cell_type": "code",
      "source": [
        "train = train.drop(['Weight'], axis=1)"
      ],
      "metadata": {
        "id": "v8irUEmBT7Ag"
      },
      "execution_count": null,
      "outputs": []
    },
    {
      "cell_type": "code",
      "source": [
        "train.info()"
      ],
      "metadata": {
        "colab": {
          "base_uri": "https://localhost:8080/"
        },
        "id": "IK_MXWexUWG3",
        "outputId": "c9527961-0d88-454a-c559-1080498a654a"
      },
      "execution_count": null,
      "outputs": [
        {
          "output_type": "stream",
          "name": "stdout",
          "text": [
            "<class 'pandas.core.frame.DataFrame'>\n",
            "RangeIndex: 250000 entries, 0 to 249999\n",
            "Data columns (total 32 columns):\n",
            " #   Column                       Non-Null Count   Dtype  \n",
            "---  ------                       --------------   -----  \n",
            " 0   EventId                      250000 non-null  int64  \n",
            " 1   DER_mass_MMC                 250000 non-null  float64\n",
            " 2   DER_mass_transverse_met_lep  250000 non-null  float64\n",
            " 3   DER_mass_vis                 250000 non-null  float64\n",
            " 4   DER_pt_h                     250000 non-null  float64\n",
            " 5   DER_deltaeta_jet_jet         250000 non-null  float64\n",
            " 6   DER_mass_jet_jet             250000 non-null  float64\n",
            " 7   DER_prodeta_jet_jet          250000 non-null  float64\n",
            " 8   DER_deltar_tau_lep           250000 non-null  float64\n",
            " 9   DER_pt_tot                   250000 non-null  float64\n",
            " 10  DER_sum_pt                   250000 non-null  float64\n",
            " 11  DER_pt_ratio_lep_tau         250000 non-null  float64\n",
            " 12  DER_met_phi_centrality       250000 non-null  float64\n",
            " 13  DER_lep_eta_centrality       250000 non-null  float64\n",
            " 14  PRI_tau_pt                   250000 non-null  float64\n",
            " 15  PRI_tau_eta                  250000 non-null  float64\n",
            " 16  PRI_tau_phi                  250000 non-null  float64\n",
            " 17  PRI_lep_pt                   250000 non-null  float64\n",
            " 18  PRI_lep_eta                  250000 non-null  float64\n",
            " 19  PRI_lep_phi                  250000 non-null  float64\n",
            " 20  PRI_met                      250000 non-null  float64\n",
            " 21  PRI_met_phi                  250000 non-null  float64\n",
            " 22  PRI_met_sumet                250000 non-null  float64\n",
            " 23  PRI_jet_num                  250000 non-null  int64  \n",
            " 24  PRI_jet_leading_pt           250000 non-null  float64\n",
            " 25  PRI_jet_leading_eta          250000 non-null  float64\n",
            " 26  PRI_jet_leading_phi          250000 non-null  float64\n",
            " 27  PRI_jet_subleading_pt        250000 non-null  float64\n",
            " 28  PRI_jet_subleading_eta       250000 non-null  float64\n",
            " 29  PRI_jet_subleading_phi       250000 non-null  float64\n",
            " 30  PRI_jet_all_pt               250000 non-null  float64\n",
            " 31  Label                        250000 non-null  object \n",
            "dtypes: float64(29), int64(2), object(1)\n",
            "memory usage: 61.0+ MB\n"
          ]
        }
      ]
    },
    {
      "cell_type": "markdown",
      "source": [
        "Some key points about the train dataset\n",
        "\n",
        "\n",
        "> it can happen that for some entries some variables are meaningless or cannot be computed; in this case, their value is −999.0, which is outside the normal range of all variables\n",
        "\n",
        "> We check how many of these missing values are present in each of the feature columns\n",
        "\n",
        "> We remove all these columns completely for all models.\n"
      ],
      "metadata": {
        "id": "_4ncxRyzViFY"
      }
    },
    {
      "cell_type": "code",
      "source": [
        "def value_counts(train):\n",
        "    unique_count = pd.DataFrame(columns=[\"Feature name\", \"No. of Unique values\", \"% of missing values\"])\n",
        "    total_count = len(train.index)\n",
        "    thresh = 70\n",
        "    \n",
        "    nan_cols, drop_cols= [] , []\n",
        "    for line, feature in enumerate(train.columns):\n",
        "        s = f\"{feature}\"\n",
        "\n",
        "        count = len(train[feature].unique())\n",
        "        vals = train[feature].value_counts()\n",
        "        missing = 0\n",
        "        if -999.0 in vals:\n",
        "            missing = round(vals[-999.0]/ total_count*100, 2)\n",
        "            nan_cols.append(feature)\n",
        "            s+= \" *\"\n",
        "            if missing > thresh:\n",
        "                drop_cols.append(feature)\n",
        "                s += \" #\"\n",
        "                \n",
        "        unique_count.loc[line]= [s, count, missing]\n",
        "    return unique_count, nan_cols, drop_cols\n",
        "\n",
        "display(value_counts(train)[0])"
      ],
      "metadata": {
        "colab": {
          "base_uri": "https://localhost:8080/",
          "height": 1000
        },
        "id": "lMFWkRR9Vi3u",
        "outputId": "eac0e988-0a2a-436c-fdac-3734da015c9e"
      },
      "execution_count": null,
      "outputs": [
        {
          "output_type": "display_data",
          "data": {
            "text/plain": [
              "                   Feature name No. of Unique values % of missing values\n",
              "0                       EventId               250000                   0\n",
              "1                DER_mass_MMC *               108338               15.25\n",
              "2   DER_mass_transverse_met_lep               101637                   0\n",
              "3                  DER_mass_vis               100558                   0\n",
              "4                      DER_pt_h               115563                   0\n",
              "5      DER_deltaeta_jet_jet * #                 7087               70.98\n",
              "6          DER_mass_jet_jet * #                68366               70.98\n",
              "7       DER_prodeta_jet_jet * #                16593               70.98\n",
              "8            DER_deltar_tau_lep                 4692                   0\n",
              "9                    DER_pt_tot                59042                   0\n",
              "10                   DER_sum_pt               156098                   0\n",
              "11         DER_pt_ratio_lep_tau                 5931                   0\n",
              "12       DER_met_phi_centrality                 2829                   0\n",
              "13   DER_lep_eta_centrality * #                 1002               70.98\n",
              "14                   PRI_tau_pt                59639                   0\n",
              "15                  PRI_tau_eta                 4971                   0\n",
              "16                  PRI_tau_phi                 6285                   0\n",
              "17                   PRI_lep_pt                61929                   0\n",
              "18                  PRI_lep_eta                 4987                   0\n",
              "19                  PRI_lep_phi                 6285                   0\n",
              "20                      PRI_met                87836                   0\n",
              "21                  PRI_met_phi                 6285                   0\n",
              "22                PRI_met_sumet               179740                   0\n",
              "23                  PRI_jet_num                    4                   0\n",
              "24         PRI_jet_leading_pt *                86590               39.97\n",
              "25        PRI_jet_leading_eta *                 8558               39.97\n",
              "26        PRI_jet_leading_phi *                 6285               39.97\n",
              "27    PRI_jet_subleading_pt * #                42464               70.98\n",
              "28   PRI_jet_subleading_eta * #                 8628               70.98\n",
              "29   PRI_jet_subleading_phi * #                 6286               70.98\n",
              "30               PRI_jet_all_pt               103559                   0\n",
              "31                        Label                    2                   0"
            ],
            "text/html": [
              "\n",
              "  <div id=\"df-23a44e09-4202-43ed-8727-315104ddcfdf\">\n",
              "    <div class=\"colab-df-container\">\n",
              "      <div>\n",
              "<style scoped>\n",
              "    .dataframe tbody tr th:only-of-type {\n",
              "        vertical-align: middle;\n",
              "    }\n",
              "\n",
              "    .dataframe tbody tr th {\n",
              "        vertical-align: top;\n",
              "    }\n",
              "\n",
              "    .dataframe thead th {\n",
              "        text-align: right;\n",
              "    }\n",
              "</style>\n",
              "<table border=\"1\" class=\"dataframe\">\n",
              "  <thead>\n",
              "    <tr style=\"text-align: right;\">\n",
              "      <th></th>\n",
              "      <th>Feature name</th>\n",
              "      <th>No. of Unique values</th>\n",
              "      <th>% of missing values</th>\n",
              "    </tr>\n",
              "  </thead>\n",
              "  <tbody>\n",
              "    <tr>\n",
              "      <th>0</th>\n",
              "      <td>EventId</td>\n",
              "      <td>250000</td>\n",
              "      <td>0</td>\n",
              "    </tr>\n",
              "    <tr>\n",
              "      <th>1</th>\n",
              "      <td>DER_mass_MMC *</td>\n",
              "      <td>108338</td>\n",
              "      <td>15.25</td>\n",
              "    </tr>\n",
              "    <tr>\n",
              "      <th>2</th>\n",
              "      <td>DER_mass_transverse_met_lep</td>\n",
              "      <td>101637</td>\n",
              "      <td>0</td>\n",
              "    </tr>\n",
              "    <tr>\n",
              "      <th>3</th>\n",
              "      <td>DER_mass_vis</td>\n",
              "      <td>100558</td>\n",
              "      <td>0</td>\n",
              "    </tr>\n",
              "    <tr>\n",
              "      <th>4</th>\n",
              "      <td>DER_pt_h</td>\n",
              "      <td>115563</td>\n",
              "      <td>0</td>\n",
              "    </tr>\n",
              "    <tr>\n",
              "      <th>5</th>\n",
              "      <td>DER_deltaeta_jet_jet * #</td>\n",
              "      <td>7087</td>\n",
              "      <td>70.98</td>\n",
              "    </tr>\n",
              "    <tr>\n",
              "      <th>6</th>\n",
              "      <td>DER_mass_jet_jet * #</td>\n",
              "      <td>68366</td>\n",
              "      <td>70.98</td>\n",
              "    </tr>\n",
              "    <tr>\n",
              "      <th>7</th>\n",
              "      <td>DER_prodeta_jet_jet * #</td>\n",
              "      <td>16593</td>\n",
              "      <td>70.98</td>\n",
              "    </tr>\n",
              "    <tr>\n",
              "      <th>8</th>\n",
              "      <td>DER_deltar_tau_lep</td>\n",
              "      <td>4692</td>\n",
              "      <td>0</td>\n",
              "    </tr>\n",
              "    <tr>\n",
              "      <th>9</th>\n",
              "      <td>DER_pt_tot</td>\n",
              "      <td>59042</td>\n",
              "      <td>0</td>\n",
              "    </tr>\n",
              "    <tr>\n",
              "      <th>10</th>\n",
              "      <td>DER_sum_pt</td>\n",
              "      <td>156098</td>\n",
              "      <td>0</td>\n",
              "    </tr>\n",
              "    <tr>\n",
              "      <th>11</th>\n",
              "      <td>DER_pt_ratio_lep_tau</td>\n",
              "      <td>5931</td>\n",
              "      <td>0</td>\n",
              "    </tr>\n",
              "    <tr>\n",
              "      <th>12</th>\n",
              "      <td>DER_met_phi_centrality</td>\n",
              "      <td>2829</td>\n",
              "      <td>0</td>\n",
              "    </tr>\n",
              "    <tr>\n",
              "      <th>13</th>\n",
              "      <td>DER_lep_eta_centrality * #</td>\n",
              "      <td>1002</td>\n",
              "      <td>70.98</td>\n",
              "    </tr>\n",
              "    <tr>\n",
              "      <th>14</th>\n",
              "      <td>PRI_tau_pt</td>\n",
              "      <td>59639</td>\n",
              "      <td>0</td>\n",
              "    </tr>\n",
              "    <tr>\n",
              "      <th>15</th>\n",
              "      <td>PRI_tau_eta</td>\n",
              "      <td>4971</td>\n",
              "      <td>0</td>\n",
              "    </tr>\n",
              "    <tr>\n",
              "      <th>16</th>\n",
              "      <td>PRI_tau_phi</td>\n",
              "      <td>6285</td>\n",
              "      <td>0</td>\n",
              "    </tr>\n",
              "    <tr>\n",
              "      <th>17</th>\n",
              "      <td>PRI_lep_pt</td>\n",
              "      <td>61929</td>\n",
              "      <td>0</td>\n",
              "    </tr>\n",
              "    <tr>\n",
              "      <th>18</th>\n",
              "      <td>PRI_lep_eta</td>\n",
              "      <td>4987</td>\n",
              "      <td>0</td>\n",
              "    </tr>\n",
              "    <tr>\n",
              "      <th>19</th>\n",
              "      <td>PRI_lep_phi</td>\n",
              "      <td>6285</td>\n",
              "      <td>0</td>\n",
              "    </tr>\n",
              "    <tr>\n",
              "      <th>20</th>\n",
              "      <td>PRI_met</td>\n",
              "      <td>87836</td>\n",
              "      <td>0</td>\n",
              "    </tr>\n",
              "    <tr>\n",
              "      <th>21</th>\n",
              "      <td>PRI_met_phi</td>\n",
              "      <td>6285</td>\n",
              "      <td>0</td>\n",
              "    </tr>\n",
              "    <tr>\n",
              "      <th>22</th>\n",
              "      <td>PRI_met_sumet</td>\n",
              "      <td>179740</td>\n",
              "      <td>0</td>\n",
              "    </tr>\n",
              "    <tr>\n",
              "      <th>23</th>\n",
              "      <td>PRI_jet_num</td>\n",
              "      <td>4</td>\n",
              "      <td>0</td>\n",
              "    </tr>\n",
              "    <tr>\n",
              "      <th>24</th>\n",
              "      <td>PRI_jet_leading_pt *</td>\n",
              "      <td>86590</td>\n",
              "      <td>39.97</td>\n",
              "    </tr>\n",
              "    <tr>\n",
              "      <th>25</th>\n",
              "      <td>PRI_jet_leading_eta *</td>\n",
              "      <td>8558</td>\n",
              "      <td>39.97</td>\n",
              "    </tr>\n",
              "    <tr>\n",
              "      <th>26</th>\n",
              "      <td>PRI_jet_leading_phi *</td>\n",
              "      <td>6285</td>\n",
              "      <td>39.97</td>\n",
              "    </tr>\n",
              "    <tr>\n",
              "      <th>27</th>\n",
              "      <td>PRI_jet_subleading_pt * #</td>\n",
              "      <td>42464</td>\n",
              "      <td>70.98</td>\n",
              "    </tr>\n",
              "    <tr>\n",
              "      <th>28</th>\n",
              "      <td>PRI_jet_subleading_eta * #</td>\n",
              "      <td>8628</td>\n",
              "      <td>70.98</td>\n",
              "    </tr>\n",
              "    <tr>\n",
              "      <th>29</th>\n",
              "      <td>PRI_jet_subleading_phi * #</td>\n",
              "      <td>6286</td>\n",
              "      <td>70.98</td>\n",
              "    </tr>\n",
              "    <tr>\n",
              "      <th>30</th>\n",
              "      <td>PRI_jet_all_pt</td>\n",
              "      <td>103559</td>\n",
              "      <td>0</td>\n",
              "    </tr>\n",
              "    <tr>\n",
              "      <th>31</th>\n",
              "      <td>Label</td>\n",
              "      <td>2</td>\n",
              "      <td>0</td>\n",
              "    </tr>\n",
              "  </tbody>\n",
              "</table>\n",
              "</div>\n",
              "      <button class=\"colab-df-convert\" onclick=\"convertToInteractive('df-23a44e09-4202-43ed-8727-315104ddcfdf')\"\n",
              "              title=\"Convert this dataframe to an interactive table.\"\n",
              "              style=\"display:none;\">\n",
              "        \n",
              "  <svg xmlns=\"http://www.w3.org/2000/svg\" height=\"24px\"viewBox=\"0 0 24 24\"\n",
              "       width=\"24px\">\n",
              "    <path d=\"M0 0h24v24H0V0z\" fill=\"none\"/>\n",
              "    <path d=\"M18.56 5.44l.94 2.06.94-2.06 2.06-.94-2.06-.94-.94-2.06-.94 2.06-2.06.94zm-11 1L8.5 8.5l.94-2.06 2.06-.94-2.06-.94L8.5 2.5l-.94 2.06-2.06.94zm10 10l.94 2.06.94-2.06 2.06-.94-2.06-.94-.94-2.06-.94 2.06-2.06.94z\"/><path d=\"M17.41 7.96l-1.37-1.37c-.4-.4-.92-.59-1.43-.59-.52 0-1.04.2-1.43.59L10.3 9.45l-7.72 7.72c-.78.78-.78 2.05 0 2.83L4 21.41c.39.39.9.59 1.41.59.51 0 1.02-.2 1.41-.59l7.78-7.78 2.81-2.81c.8-.78.8-2.07 0-2.86zM5.41 20L4 18.59l7.72-7.72 1.47 1.35L5.41 20z\"/>\n",
              "  </svg>\n",
              "      </button>\n",
              "      \n",
              "  <style>\n",
              "    .colab-df-container {\n",
              "      display:flex;\n",
              "      flex-wrap:wrap;\n",
              "      gap: 12px;\n",
              "    }\n",
              "\n",
              "    .colab-df-convert {\n",
              "      background-color: #E8F0FE;\n",
              "      border: none;\n",
              "      border-radius: 50%;\n",
              "      cursor: pointer;\n",
              "      display: none;\n",
              "      fill: #1967D2;\n",
              "      height: 32px;\n",
              "      padding: 0 0 0 0;\n",
              "      width: 32px;\n",
              "    }\n",
              "\n",
              "    .colab-df-convert:hover {\n",
              "      background-color: #E2EBFA;\n",
              "      box-shadow: 0px 1px 2px rgba(60, 64, 67, 0.3), 0px 1px 3px 1px rgba(60, 64, 67, 0.15);\n",
              "      fill: #174EA6;\n",
              "    }\n",
              "\n",
              "    [theme=dark] .colab-df-convert {\n",
              "      background-color: #3B4455;\n",
              "      fill: #D2E3FC;\n",
              "    }\n",
              "\n",
              "    [theme=dark] .colab-df-convert:hover {\n",
              "      background-color: #434B5C;\n",
              "      box-shadow: 0px 1px 3px 1px rgba(0, 0, 0, 0.15);\n",
              "      filter: drop-shadow(0px 1px 2px rgba(0, 0, 0, 0.3));\n",
              "      fill: #FFFFFF;\n",
              "    }\n",
              "  </style>\n",
              "\n",
              "      <script>\n",
              "        const buttonEl =\n",
              "          document.querySelector('#df-23a44e09-4202-43ed-8727-315104ddcfdf button.colab-df-convert');\n",
              "        buttonEl.style.display =\n",
              "          google.colab.kernel.accessAllowed ? 'block' : 'none';\n",
              "\n",
              "        async function convertToInteractive(key) {\n",
              "          const element = document.querySelector('#df-23a44e09-4202-43ed-8727-315104ddcfdf');\n",
              "          const dataTable =\n",
              "            await google.colab.kernel.invokeFunction('convertToInteractive',\n",
              "                                                     [key], {});\n",
              "          if (!dataTable) return;\n",
              "\n",
              "          const docLinkHtml = 'Like what you see? Visit the ' +\n",
              "            '<a target=\"_blank\" href=https://colab.research.google.com/notebooks/data_table.ipynb>data table notebook</a>'\n",
              "            + ' to learn more about interactive tables.';\n",
              "          element.innerHTML = '';\n",
              "          dataTable['output_type'] = 'display_data';\n",
              "          await google.colab.output.renderOutput(dataTable, element);\n",
              "          const docLink = document.createElement('div');\n",
              "          docLink.innerHTML = docLinkHtml;\n",
              "          element.appendChild(docLink);\n",
              "        }\n",
              "      </script>\n",
              "    </div>\n",
              "  </div>\n",
              "  "
            ]
          },
          "metadata": {}
        }
      ]
    },
    {
      "cell_type": "code",
      "source": [
        "drop_columns = ['DER_mass_MMC',\n",
        "                'DER_deltaeta_jet_jet',\n",
        "                'DER_mass_jet_jet',\n",
        "                'DER_prodeta_jet_jet',\n",
        "                'DER_lep_eta_centrality',\n",
        "                'PRI_jet_leading_pt',\n",
        "                'PRI_jet_leading_eta',\n",
        "                'PRI_jet_leading_phi',\n",
        "                'PRI_jet_subleading_pt',\n",
        "                'PRI_jet_subleading_eta',\n",
        "                'PRI_jet_subleading_phi']"
      ],
      "metadata": {
        "id": "9Vg5mQpDXvLH"
      },
      "execution_count": null,
      "outputs": []
    },
    {
      "cell_type": "code",
      "source": [
        "train = train.drop(drop_columns, axis=1) "
      ],
      "metadata": {
        "id": "eFJ_pm--Y1JH"
      },
      "execution_count": null,
      "outputs": []
    },
    {
      "cell_type": "code",
      "source": [
        "test = test.drop(drop_columns, axis=1)"
      ],
      "metadata": {
        "id": "-UZkn4menQ3_"
      },
      "execution_count": null,
      "outputs": []
    },
    {
      "cell_type": "code",
      "source": [
        "train.info()"
      ],
      "metadata": {
        "colab": {
          "base_uri": "https://localhost:8080/"
        },
        "id": "k0cYlnMPcoCv",
        "outputId": "887cae61-2bc2-48dd-8bfc-66aecd88a78f"
      },
      "execution_count": null,
      "outputs": [
        {
          "output_type": "stream",
          "name": "stdout",
          "text": [
            "<class 'pandas.core.frame.DataFrame'>\n",
            "RangeIndex: 250000 entries, 0 to 249999\n",
            "Data columns (total 21 columns):\n",
            " #   Column                       Non-Null Count   Dtype  \n",
            "---  ------                       --------------   -----  \n",
            " 0   EventId                      250000 non-null  int64  \n",
            " 1   DER_mass_transverse_met_lep  250000 non-null  float64\n",
            " 2   DER_mass_vis                 250000 non-null  float64\n",
            " 3   DER_pt_h                     250000 non-null  float64\n",
            " 4   DER_deltar_tau_lep           250000 non-null  float64\n",
            " 5   DER_pt_tot                   250000 non-null  float64\n",
            " 6   DER_sum_pt                   250000 non-null  float64\n",
            " 7   DER_pt_ratio_lep_tau         250000 non-null  float64\n",
            " 8   DER_met_phi_centrality       250000 non-null  float64\n",
            " 9   PRI_tau_pt                   250000 non-null  float64\n",
            " 10  PRI_tau_eta                  250000 non-null  float64\n",
            " 11  PRI_tau_phi                  250000 non-null  float64\n",
            " 12  PRI_lep_pt                   250000 non-null  float64\n",
            " 13  PRI_lep_eta                  250000 non-null  float64\n",
            " 14  PRI_lep_phi                  250000 non-null  float64\n",
            " 15  PRI_met                      250000 non-null  float64\n",
            " 16  PRI_met_phi                  250000 non-null  float64\n",
            " 17  PRI_met_sumet                250000 non-null  float64\n",
            " 18  PRI_jet_num                  250000 non-null  int64  \n",
            " 19  PRI_jet_all_pt               250000 non-null  float64\n",
            " 20  Label                        250000 non-null  object \n",
            "dtypes: float64(18), int64(2), object(1)\n",
            "memory usage: 40.1+ MB\n"
          ]
        }
      ]
    },
    {
      "cell_type": "code",
      "source": [
        "test.info()"
      ],
      "metadata": {
        "colab": {
          "base_uri": "https://localhost:8080/"
        },
        "id": "hX4HB83Znll-",
        "outputId": "353abd71-6f3e-40a7-fd47-1ea94c98ea3c"
      },
      "execution_count": null,
      "outputs": [
        {
          "output_type": "stream",
          "name": "stdout",
          "text": [
            "<class 'pandas.core.frame.DataFrame'>\n",
            "RangeIndex: 550000 entries, 0 to 549999\n",
            "Data columns (total 20 columns):\n",
            " #   Column                       Non-Null Count   Dtype  \n",
            "---  ------                       --------------   -----  \n",
            " 0   EventId                      550000 non-null  int64  \n",
            " 1   DER_mass_transverse_met_lep  550000 non-null  float64\n",
            " 2   DER_mass_vis                 550000 non-null  float64\n",
            " 3   DER_pt_h                     550000 non-null  float64\n",
            " 4   DER_deltar_tau_lep           550000 non-null  float64\n",
            " 5   DER_pt_tot                   550000 non-null  float64\n",
            " 6   DER_sum_pt                   550000 non-null  float64\n",
            " 7   DER_pt_ratio_lep_tau         550000 non-null  float64\n",
            " 8   DER_met_phi_centrality       550000 non-null  float64\n",
            " 9   PRI_tau_pt                   550000 non-null  float64\n",
            " 10  PRI_tau_eta                  550000 non-null  float64\n",
            " 11  PRI_tau_phi                  550000 non-null  float64\n",
            " 12  PRI_lep_pt                   550000 non-null  float64\n",
            " 13  PRI_lep_eta                  550000 non-null  float64\n",
            " 14  PRI_lep_phi                  550000 non-null  float64\n",
            " 15  PRI_met                      550000 non-null  float64\n",
            " 16  PRI_met_phi                  550000 non-null  float64\n",
            " 17  PRI_met_sumet                550000 non-null  float64\n",
            " 18  PRI_jet_num                  550000 non-null  int64  \n",
            " 19  PRI_jet_all_pt               550000 non-null  float64\n",
            "dtypes: float64(18), int64(2)\n",
            "memory usage: 83.9 MB\n"
          ]
        }
      ]
    },
    {
      "cell_type": "markdown",
      "source": [
        "Drop Features using Correlation_HeatMap"
      ],
      "metadata": {
        "id": "vqkTd6Ppd8II"
      }
    },
    {
      "cell_type": "code",
      "source": [
        "plt.figure(figsize=(20,20))\n",
        "cor = train.corr()\n",
        "sns.heatmap(cor, annot=True, cmap=plt.cm.CMRmap_r)\n",
        "plt.show()\n"
      ],
      "metadata": {
        "colab": {
          "base_uri": "https://localhost:8080/",
          "height": 1000
        },
        "id": "dz7XlLTAd7XH",
        "outputId": "15b469b1-81c3-4e79-c860-d47e4de51b76"
      },
      "execution_count": null,
      "outputs": [
        {
          "output_type": "display_data",
          "data": {
            "text/plain": [
              "<Figure size 1440x1440 with 2 Axes>"
            ],
            "image/png": "[encoded data removed]"
          },
          "metadata": {
            "needs_background": "light"
          }
        }
      ]
    },
    {
      "cell_type": "code",
      "source": [
        "def correlation(dataset, threshold):\n",
        "    col_corr = set()  # Set of all the names of correlated columns\n",
        "    corr_matrix = dataset.corr()\n",
        "    for i in range(len(corr_matrix.columns)):\n",
        "        for j in range(i):\n",
        "            if (corr_matrix.iloc[i, j]) > threshold: # we are interested in absolute coeff value\n",
        "                colname = corr_matrix.columns[i]  # getting the name of column\n",
        "                col_corr.add(colname)\n",
        "    return col_corr"
      ],
      "metadata": {
        "id": "6A8ABw7rewTn"
      },
      "execution_count": null,
      "outputs": []
    },
    {
      "cell_type": "code",
      "source": [
        "corr_features = correlation(train, 0.71)\n",
        "len(set(corr_features))"
      ],
      "metadata": {
        "colab": {
          "base_uri": "https://localhost:8080/"
        },
        "id": "xe0FRdTGmGc-",
        "outputId": "4b838688-60db-4187-9912-5bf8917198e0"
      },
      "execution_count": null,
      "outputs": [
        {
          "output_type": "execute_result",
          "data": {
            "text/plain": [
              "4"
            ]
          },
          "metadata": {},
          "execution_count": 108
        }
      ]
    },
    {
      "cell_type": "code",
      "source": [
        "corr_features "
      ],
      "metadata": {
        "colab": {
          "base_uri": "https://localhost:8080/"
        },
        "id": "kP-9VLMmmWDo",
        "outputId": "541533f0-8b41-4b61-c58e-8b95e1235eda"
      },
      "execution_count": null,
      "outputs": [
        {
          "output_type": "execute_result",
          "data": {
            "text/plain": [
              "{'DER_sum_pt', 'PRI_jet_all_pt', 'PRI_jet_num', 'PRI_met_sumet'}"
            ]
          },
          "metadata": {},
          "execution_count": 109
        }
      ]
    },
    {
      "cell_type": "code",
      "source": [
        "remove_columns = ['DER_sum_pt', 'PRI_jet_all_pt', 'PRI_jet_num', 'PRI_met_sumet']"
      ],
      "metadata": {
        "id": "I86wfyG1o27W"
      },
      "execution_count": null,
      "outputs": []
    },
    {
      "cell_type": "code",
      "source": [
        "train = train.drop(remove_columns,axis=1)\n",
        "test = test.drop(remove_columns,axis=1)"
      ],
      "metadata": {
        "id": "T3QZlA6WmZx-"
      },
      "execution_count": null,
      "outputs": []
    },
    {
      "cell_type": "code",
      "source": [
        "train.info()"
      ],
      "metadata": {
        "colab": {
          "base_uri": "https://localhost:8080/"
        },
        "id": "OG3wHYwAoLK-",
        "outputId": "d68352a4-ebbd-4561-c844-4934b691418a"
      },
      "execution_count": null,
      "outputs": [
        {
          "output_type": "stream",
          "name": "stdout",
          "text": [
            "<class 'pandas.core.frame.DataFrame'>\n",
            "RangeIndex: 250000 entries, 0 to 249999\n",
            "Data columns (total 17 columns):\n",
            " #   Column                       Non-Null Count   Dtype  \n",
            "---  ------                       --------------   -----  \n",
            " 0   EventId                      250000 non-null  int64  \n",
            " 1   DER_mass_transverse_met_lep  250000 non-null  float64\n",
            " 2   DER_mass_vis                 250000 non-null  float64\n",
            " 3   DER_pt_h                     250000 non-null  float64\n",
            " 4   DER_deltar_tau_lep           250000 non-null  float64\n",
            " 5   DER_pt_tot                   250000 non-null  float64\n",
            " 6   DER_pt_ratio_lep_tau         250000 non-null  float64\n",
            " 7   DER_met_phi_centrality       250000 non-null  float64\n",
            " 8   PRI_tau_pt                   250000 non-null  float64\n",
            " 9   PRI_tau_eta                  250000 non-null  float64\n",
            " 10  PRI_tau_phi                  250000 non-null  float64\n",
            " 11  PRI_lep_pt                   250000 non-null  float64\n",
            " 12  PRI_lep_eta                  250000 non-null  float64\n",
            " 13  PRI_lep_phi                  250000 non-null  float64\n",
            " 14  PRI_met                      250000 non-null  float64\n",
            " 15  PRI_met_phi                  250000 non-null  float64\n",
            " 16  Label                        250000 non-null  object \n",
            "dtypes: float64(15), int64(1), object(1)\n",
            "memory usage: 32.4+ MB\n"
          ]
        }
      ]
    },
    {
      "cell_type": "code",
      "source": [
        "test.info()"
      ],
      "metadata": {
        "colab": {
          "base_uri": "https://localhost:8080/"
        },
        "id": "gV5N4hProU8O",
        "outputId": "4bd6c7d7-955f-43fb-a9f8-4697e50a4541"
      },
      "execution_count": null,
      "outputs": [
        {
          "output_type": "stream",
          "name": "stdout",
          "text": [
            "<class 'pandas.core.frame.DataFrame'>\n",
            "RangeIndex: 550000 entries, 0 to 549999\n",
            "Data columns (total 16 columns):\n",
            " #   Column                       Non-Null Count   Dtype  \n",
            "---  ------                       --------------   -----  \n",
            " 0   EventId                      550000 non-null  int64  \n",
            " 1   DER_mass_transverse_met_lep  550000 non-null  float64\n",
            " 2   DER_mass_vis                 550000 non-null  float64\n",
            " 3   DER_pt_h                     550000 non-null  float64\n",
            " 4   DER_deltar_tau_lep           550000 non-null  float64\n",
            " 5   DER_pt_tot                   550000 non-null  float64\n",
            " 6   DER_pt_ratio_lep_tau         550000 non-null  float64\n",
            " 7   DER_met_phi_centrality       550000 non-null  float64\n",
            " 8   PRI_tau_pt                   550000 non-null  float64\n",
            " 9   PRI_tau_eta                  550000 non-null  float64\n",
            " 10  PRI_tau_phi                  550000 non-null  float64\n",
            " 11  PRI_lep_pt                   550000 non-null  float64\n",
            " 12  PRI_lep_eta                  550000 non-null  float64\n",
            " 13  PRI_lep_phi                  550000 non-null  float64\n",
            " 14  PRI_met                      550000 non-null  float64\n",
            " 15  PRI_met_phi                  550000 non-null  float64\n",
            "dtypes: float64(15), int64(1)\n",
            "memory usage: 67.1 MB\n"
          ]
        }
      ]
    },
    {
      "cell_type": "markdown",
      "source": [
        "More On Object Feature"
      ],
      "metadata": {
        "id": "rFSwiHAEzRtP"
      }
    },
    {
      "cell_type": "code",
      "source": [
        "train.select_dtypes('object')"
      ],
      "metadata": {
        "colab": {
          "base_uri": "https://localhost:8080/",
          "height": 424
        },
        "id": "kAqGkEcQv-2R",
        "outputId": "949dd3b3-34d5-4e43-89b6-12c4848f7881"
      },
      "execution_count": null,
      "outputs": [
        {
          "output_type": "execute_result",
          "data": {
            "text/plain": [
              "       Label\n",
              "0          s\n",
              "1          b\n",
              "2          b\n",
              "3          b\n",
              "4          b\n",
              "...      ...\n",
              "249995     b\n",
              "249996     b\n",
              "249997     s\n",
              "249998     b\n",
              "249999     b\n",
              "\n",
              "[250000 rows x 1 columns]"
            ],
            "text/html": [
              "\n",
              "  <div id=\"df-0d2e4f27-23e8-4a8a-81bc-bf3b6234d2a4\">\n",
              "    <div class=\"colab-df-container\">\n",
              "      <div>\n",
              "<style scoped>\n",
              "    .dataframe tbody tr th:only-of-type {\n",
              "        vertical-align: middle;\n",
              "    }\n",
              "\n",
              "    .dataframe tbody tr th {\n",
              "        vertical-align: top;\n",
              "    }\n",
              "\n",
              "    .dataframe thead th {\n",
              "        text-align: right;\n",
              "    }\n",
              "</style>\n",
              "<table border=\"1\" class=\"dataframe\">\n",
              "  <thead>\n",
              "    <tr style=\"text-align: right;\">\n",
              "      <th></th>\n",
              "      <th>Label</th>\n",
              "    </tr>\n",
              "  </thead>\n",
              "  <tbody>\n",
              "    <tr>\n",
              "      <th>0</th>\n",
              "      <td>s</td>\n",
              "    </tr>\n",
              "    <tr>\n",
              "      <th>1</th>\n",
              "      <td>b</td>\n",
              "    </tr>\n",
              "    <tr>\n",
              "      <th>2</th>\n",
              "      <td>b</td>\n",
              "    </tr>\n",
              "    <tr>\n",
              "      <th>3</th>\n",
              "      <td>b</td>\n",
              "    </tr>\n",
              "    <tr>\n",
              "      <th>4</th>\n",
              "      <td>b</td>\n",
              "    </tr>\n",
              "    <tr>\n",
              "      <th>...</th>\n",
              "      <td>...</td>\n",
              "    </tr>\n",
              "    <tr>\n",
              "      <th>249995</th>\n",
              "      <td>b</td>\n",
              "    </tr>\n",
              "    <tr>\n",
              "      <th>249996</th>\n",
              "      <td>b</td>\n",
              "    </tr>\n",
              "    <tr>\n",
              "      <th>249997</th>\n",
              "      <td>s</td>\n",
              "    </tr>\n",
              "    <tr>\n",
              "      <th>249998</th>\n",
              "      <td>b</td>\n",
              "    </tr>\n",
              "    <tr>\n",
              "      <th>249999</th>\n",
              "      <td>b</td>\n",
              "    </tr>\n",
              "  </tbody>\n",
              "</table>\n",
              "<p>250000 rows × 1 columns</p>\n",
              "</div>\n",
              "      <button class=\"colab-df-convert\" onclick=\"convertToInteractive('df-0d2e4f27-23e8-4a8a-81bc-bf3b6234d2a4')\"\n",
              "              title=\"Convert this dataframe to an interactive table.\"\n",
              "              style=\"display:none;\">\n",
              "        \n",
              "  <svg xmlns=\"http://www.w3.org/2000/svg\" height=\"24px\"viewBox=\"0 0 24 24\"\n",
              "       width=\"24px\">\n",
              "    <path d=\"M0 0h24v24H0V0z\" fill=\"none\"/>\n",
              "    <path d=\"M18.56 5.44l.94 2.06.94-2.06 2.06-.94-2.06-.94-.94-2.06-.94 2.06-2.06.94zm-11 1L8.5 8.5l.94-2.06 2.06-.94-2.06-.94L8.5 2.5l-.94 2.06-2.06.94zm10 10l.94 2.06.94-2.06 2.06-.94-2.06-.94-.94-2.06-.94 2.06-2.06.94z\"/><path d=\"M17.41 7.96l-1.37-1.37c-.4-.4-.92-.59-1.43-.59-.52 0-1.04.2-1.43.59L10.3 9.45l-7.72 7.72c-.78.78-.78 2.05 0 2.83L4 21.41c.39.39.9.59 1.41.59.51 0 1.02-.2 1.41-.59l7.78-7.78 2.81-2.81c.8-.78.8-2.07 0-2.86zM5.41 20L4 18.59l7.72-7.72 1.47 1.35L5.41 20z\"/>\n",
              "  </svg>\n",
              "      </button>\n",
              "      \n",
              "  <style>\n",
              "    .colab-df-container {\n",
              "      display:flex;\n",
              "      flex-wrap:wrap;\n",
              "      gap: 12px;\n",
              "    }\n",
              "\n",
              "    .colab-df-convert {\n",
              "      background-color: #E8F0FE;\n",
              "      border: none;\n",
              "      border-radius: 50%;\n",
              "      cursor: pointer;\n",
              "      display: none;\n",
              "      fill: #1967D2;\n",
              "      height: 32px;\n",
              "      padding: 0 0 0 0;\n",
              "      width: 32px;\n",
              "    }\n",
              "\n",
              "    .colab-df-convert:hover {\n",
              "      background-color: #E2EBFA;\n",
              "      box-shadow: 0px 1px 2px rgba(60, 64, 67, 0.3), 0px 1px 3px 1px rgba(60, 64, 67, 0.15);\n",
              "      fill: #174EA6;\n",
              "    }\n",
              "\n",
              "    [theme=dark] .colab-df-convert {\n",
              "      background-color: #3B4455;\n",
              "      fill: #D2E3FC;\n",
              "    }\n",
              "\n",
              "    [theme=dark] .colab-df-convert:hover {\n",
              "      background-color: #434B5C;\n",
              "      box-shadow: 0px 1px 3px 1px rgba(0, 0, 0, 0.15);\n",
              "      filter: drop-shadow(0px 1px 2px rgba(0, 0, 0, 0.3));\n",
              "      fill: #FFFFFF;\n",
              "    }\n",
              "  </style>\n",
              "\n",
              "      <script>\n",
              "        const buttonEl =\n",
              "          document.querySelector('#df-0d2e4f27-23e8-4a8a-81bc-bf3b6234d2a4 button.colab-df-convert');\n",
              "        buttonEl.style.display =\n",
              "          google.colab.kernel.accessAllowed ? 'block' : 'none';\n",
              "\n",
              "        async function convertToInteractive(key) {\n",
              "          const element = document.querySelector('#df-0d2e4f27-23e8-4a8a-81bc-bf3b6234d2a4');\n",
              "          const dataTable =\n",
              "            await google.colab.kernel.invokeFunction('convertToInteractive',\n",
              "                                                     [key], {});\n",
              "          if (!dataTable) return;\n",
              "\n",
              "          const docLinkHtml = 'Like what you see? Visit the ' +\n",
              "            '<a target=\"_blank\" href=https://colab.research.google.com/notebooks/data_table.ipynb>data table notebook</a>'\n",
              "            + ' to learn more about interactive tables.';\n",
              "          element.innerHTML = '';\n",
              "          dataTable['output_type'] = 'display_data';\n",
              "          await google.colab.output.renderOutput(dataTable, element);\n",
              "          const docLink = document.createElement('div');\n",
              "          docLink.innerHTML = docLinkHtml;\n",
              "          element.appendChild(docLink);\n",
              "        }\n",
              "      </script>\n",
              "    </div>\n",
              "  </div>\n",
              "  "
            ]
          },
          "metadata": {},
          "execution_count": 114
        }
      ]
    },
    {
      "cell_type": "code",
      "source": [
        "train.Label.unique()"
      ],
      "metadata": {
        "colab": {
          "base_uri": "https://localhost:8080/"
        },
        "id": "X2rxidOV0PXn",
        "outputId": "1b76ac01-cd00-48ed-c05c-d38cae69830a"
      },
      "execution_count": null,
      "outputs": [
        {
          "output_type": "execute_result",
          "data": {
            "text/plain": [
              "array(['s', 'b'], dtype=object)"
            ]
          },
          "metadata": {},
          "execution_count": 115
        }
      ]
    },
    {
      "cell_type": "code",
      "source": [
        "# label_encoder object knows how to understand word labels.\n",
        "label_encoder = LabelEncoder()\n",
        "  \n",
        "# Encode labels in column 'species'.\n",
        "train['Label']= label_encoder.fit_transform(train['Label'])"
      ],
      "metadata": {
        "id": "3tbgj1vB2oee"
      },
      "execution_count": null,
      "outputs": []
    },
    {
      "cell_type": "code",
      "source": [
        "train.Label.unique()"
      ],
      "metadata": {
        "colab": {
          "base_uri": "https://localhost:8080/"
        },
        "id": "Sw1Vb2iY3Q1x",
        "outputId": "e6a50e7d-5d81-432a-b951-ede9105c52c1"
      },
      "execution_count": null,
      "outputs": [
        {
          "output_type": "execute_result",
          "data": {
            "text/plain": [
              "array([1, 0])"
            ]
          },
          "metadata": {},
          "execution_count": 117
        }
      ]
    },
    {
      "cell_type": "code",
      "source": [
        "sns.countplot(train['Label'], palette = \"viridis\")"
      ],
      "metadata": {
        "colab": {
          "base_uri": "https://localhost:8080/",
          "height": 296
        },
        "id": "7eu3p9Mn3Vrh",
        "outputId": "e0558f41-f857-4e8b-e3a7-409a24acd3bc"
      },
      "execution_count": null,
      "outputs": [
        {
          "output_type": "execute_result",
          "data": {
            "text/plain": [
              "<matplotlib.axes._subplots.AxesSubplot at 0x7ff544829d60>"
            ]
          },
          "metadata": {},
          "execution_count": 118
        },
        {
          "output_type": "display_data",
          "data": {
            "text/plain": [
              "<Figure size 432x288 with 1 Axes>"
            ],
            "image/png": "[encoded data removed]"
          },
          "metadata": {
            "needs_background": "light"
          }
        }
      ]
    },
    {
      "cell_type": "markdown",
      "source": [
        "S -------- >>> 1\n",
        "\n",
        "b -------- >>> 0"
      ],
      "metadata": {
        "id": "Z-qslMiK3aDf"
      }
    },
    {
      "cell_type": "code",
      "source": [
        "train.describe().T"
      ],
      "metadata": {
        "colab": {
          "base_uri": "https://localhost:8080/",
          "height": 582
        },
        "id": "JjaSvJ1r3Zmg",
        "outputId": "668dc886-c6b8-4c01-da1d-06a4c91e4d83"
      },
      "execution_count": null,
      "outputs": [
        {
          "output_type": "execute_result",
          "data": {
            "text/plain": [
              "                                count           mean           std  \\\n",
              "EventId                      250000.0  224999.500000  72168.927986   \n",
              "DER_mass_transverse_met_lep  250000.0      49.239819     35.344886   \n",
              "DER_mass_vis                 250000.0      81.181982     40.828691   \n",
              "DER_pt_h                     250000.0      57.895962     63.655682   \n",
              "DER_deltar_tau_lep           250000.0       2.373100      0.782911   \n",
              "DER_pt_tot                   250000.0      18.917332     22.273494   \n",
              "DER_pt_ratio_lep_tau         250000.0       1.437609      0.844743   \n",
              "DER_met_phi_centrality       250000.0      -0.128305      1.193585   \n",
              "PRI_tau_pt                   250000.0      38.707419     22.412081   \n",
              "PRI_tau_eta                  250000.0      -0.010973      1.214079   \n",
              "PRI_tau_phi                  250000.0      -0.008171      1.816763   \n",
              "PRI_lep_pt                   250000.0      46.660207     22.064922   \n",
              "PRI_lep_eta                  250000.0      -0.019507      1.264982   \n",
              "PRI_lep_phi                  250000.0       0.043543      1.816611   \n",
              "PRI_met                      250000.0      41.717235     32.894693   \n",
              "PRI_met_phi                  250000.0      -0.010119      1.812223   \n",
              "Label                        250000.0       0.342668      0.474603   \n",
              "\n",
              "                                    min           25%          50%  \\\n",
              "EventId                      100000.000  162499.75000  224999.5000   \n",
              "DER_mass_transverse_met_lep       0.000      19.24100      46.5240   \n",
              "DER_mass_vis                      6.329      59.38875      73.7520   \n",
              "DER_pt_h                          0.000      14.06875      38.4675   \n",
              "DER_deltar_tau_lep                0.208       1.81000       2.4915   \n",
              "DER_pt_tot                        0.000       2.84100      12.3155   \n",
              "DER_pt_ratio_lep_tau              0.047       0.88300       1.2800   \n",
              "DER_met_phi_centrality           -1.414      -1.37100      -0.3560   \n",
              "PRI_tau_pt                       20.000      24.59175      31.8040   \n",
              "PRI_tau_eta                      -2.499      -0.92500      -0.0230   \n",
              "PRI_tau_phi                      -3.142      -1.57500      -0.0330   \n",
              "PRI_lep_pt                       26.000      32.37500      40.5160   \n",
              "PRI_lep_eta                      -2.505      -1.01400      -0.0450   \n",
              "PRI_lep_phi                      -3.142      -1.52200       0.0860   \n",
              "PRI_met                           0.109      21.39800      34.8020   \n",
              "PRI_met_phi                      -3.142      -1.57500      -0.0240   \n",
              "Label                             0.000       0.00000       0.0000   \n",
              "\n",
              "                                    75%         max  \n",
              "EventId                      287499.250  349999.000  \n",
              "DER_mass_transverse_met_lep      73.598     690.075  \n",
              "DER_mass_vis                     92.259    1349.351  \n",
              "DER_pt_h                         79.169    2834.999  \n",
              "DER_deltar_tau_lep                2.961       5.684  \n",
              "DER_pt_tot                       27.591    2834.999  \n",
              "DER_pt_ratio_lep_tau              1.777      19.773  \n",
              "DER_met_phi_centrality            1.225       1.414  \n",
              "PRI_tau_pt                       45.017     764.408  \n",
              "PRI_tau_eta                       0.898       2.497  \n",
              "PRI_tau_phi                       1.565       3.142  \n",
              "PRI_lep_pt                       53.390     560.271  \n",
              "PRI_lep_eta                       0.959       2.503  \n",
              "PRI_lep_phi                       1.618       3.142  \n",
              "PRI_met                          51.895    2842.617  \n",
              "PRI_met_phi                       1.561       3.142  \n",
              "Label                             1.000       1.000  "
            ],
            "text/html": [
              "\n",
              "  <div id=\"df-ae656feb-e6c7-4a72-bf20-87c5185e5d8f\">\n",
              "    <div class=\"colab-df-container\">\n",
              "      <div>\n",
              "<style scoped>\n",
              "    .dataframe tbody tr th:only-of-type {\n",
              "        vertical-align: middle;\n",
              "    }\n",
              "\n",
              "    .dataframe tbody tr th {\n",
              "        vertical-align: top;\n",
              "    }\n",
              "\n",
              "    .dataframe thead th {\n",
              "        text-align: right;\n",
              "    }\n",
              "</style>\n",
              "<table border=\"1\" class=\"dataframe\">\n",
              "  <thead>\n",
              "    <tr style=\"text-align: right;\">\n",
              "      <th></th>\n",
              "      <th>count</th>\n",
              "      <th>mean</th>\n",
              "      <th>std</th>\n",
              "      <th>min</th>\n",
              "      <th>25%</th>\n",
              "      <th>50%</th>\n",
              "      <th>75%</th>\n",
              "      <th>max</th>\n",
              "    </tr>\n",
              "  </thead>\n",
              "  <tbody>\n",
              "    <tr>\n",
              "      <th>EventId</th>\n",
              "      <td>250000.0</td>\n",
              "      <td>224999.500000</td>\n",
              "      <td>72168.927986</td>\n",
              "      <td>100000.000</td>\n",
              "      <td>162499.75000</td>\n",
              "      <td>224999.5000</td>\n",
              "      <td>287499.250</td>\n",
              "      <td>349999.000</td>\n",
              "    </tr>\n",
              "    <tr>\n",
              "      <th>DER_mass_transverse_met_lep</th>\n",
              "      <td>250000.0</td>\n",
              "      <td>49.239819</td>\n",
              "      <td>35.344886</td>\n",
              "      <td>0.000</td>\n",
              "      <td>19.24100</td>\n",
              "      <td>46.5240</td>\n",
              "      <td>73.598</td>\n",
              "      <td>690.075</td>\n",
              "    </tr>\n",
              "    <tr>\n",
              "      <th>DER_mass_vis</th>\n",
              "      <td>250000.0</td>\n",
              "      <td>81.181982</td>\n",
              "      <td>40.828691</td>\n",
              "      <td>6.329</td>\n",
              "      <td>59.38875</td>\n",
              "      <td>73.7520</td>\n",
              "      <td>92.259</td>\n",
              "      <td>1349.351</td>\n",
              "    </tr>\n",
              "    <tr>\n",
              "      <th>DER_pt_h</th>\n",
              "      <td>250000.0</td>\n",
              "      <td>57.895962</td>\n",
              "      <td>63.655682</td>\n",
              "      <td>0.000</td>\n",
              "      <td>14.06875</td>\n",
              "      <td>38.4675</td>\n",
              "      <td>79.169</td>\n",
              "      <td>2834.999</td>\n",
              "    </tr>\n",
              "    <tr>\n",
              "      <th>DER_deltar_tau_lep</th>\n",
              "      <td>250000.0</td>\n",
              "      <td>2.373100</td>\n",
              "      <td>0.782911</td>\n",
              "      <td>0.208</td>\n",
              "      <td>1.81000</td>\n",
              "      <td>2.4915</td>\n",
              "      <td>2.961</td>\n",
              "      <td>5.684</td>\n",
              "    </tr>\n",
              "    <tr>\n",
              "      <th>DER_pt_tot</th>\n",
              "      <td>250000.0</td>\n",
              "      <td>18.917332</td>\n",
              "      <td>22.273494</td>\n",
              "      <td>0.000</td>\n",
              "      <td>2.84100</td>\n",
              "      <td>12.3155</td>\n",
              "      <td>27.591</td>\n",
              "      <td>2834.999</td>\n",
              "    </tr>\n",
              "    <tr>\n",
              "      <th>DER_pt_ratio_lep_tau</th>\n",
              "      <td>250000.0</td>\n",
              "      <td>1.437609</td>\n",
              "      <td>0.844743</td>\n",
              "      <td>0.047</td>\n",
              "      <td>0.88300</td>\n",
              "      <td>1.2800</td>\n",
              "      <td>1.777</td>\n",
              "      <td>19.773</td>\n",
              "    </tr>\n",
              "    <tr>\n",
              "      <th>DER_met_phi_centrality</th>\n",
              "      <td>250000.0</td>\n",
              "      <td>-0.128305</td>\n",
              "      <td>1.193585</td>\n",
              "      <td>-1.414</td>\n",
              "      <td>-1.37100</td>\n",
              "      <td>-0.3560</td>\n",
              "      <td>1.225</td>\n",
              "      <td>1.414</td>\n",
              "    </tr>\n",
              "    <tr>\n",
              "      <th>PRI_tau_pt</th>\n",
              "      <td>250000.0</td>\n",
              "      <td>38.707419</td>\n",
              "      <td>22.412081</td>\n",
              "      <td>20.000</td>\n",
              "      <td>24.59175</td>\n",
              "      <td>31.8040</td>\n",
              "      <td>45.017</td>\n",
              "      <td>764.408</td>\n",
              "    </tr>\n",
              "    <tr>\n",
              "      <th>PRI_tau_eta</th>\n",
              "      <td>250000.0</td>\n",
              "      <td>-0.010973</td>\n",
              "      <td>1.214079</td>\n",
              "      <td>-2.499</td>\n",
              "      <td>-0.92500</td>\n",
              "      <td>-0.0230</td>\n",
              "      <td>0.898</td>\n",
              "      <td>2.497</td>\n",
              "    </tr>\n",
              "    <tr>\n",
              "      <th>PRI_tau_phi</th>\n",
              "      <td>250000.0</td>\n",
              "      <td>-0.008171</td>\n",
              "      <td>1.816763</td>\n",
              "      <td>-3.142</td>\n",
              "      <td>-1.57500</td>\n",
              "      <td>-0.0330</td>\n",
              "      <td>1.565</td>\n",
              "      <td>3.142</td>\n",
              "    </tr>\n",
              "    <tr>\n",
              "      <th>PRI_lep_pt</th>\n",
              "      <td>250000.0</td>\n",
              "      <td>46.660207</td>\n",
              "      <td>22.064922</td>\n",
              "      <td>26.000</td>\n",
              "      <td>32.37500</td>\n",
              "      <td>40.5160</td>\n",
              "      <td>53.390</td>\n",
              "      <td>560.271</td>\n",
              "    </tr>\n",
              "    <tr>\n",
              "      <th>PRI_lep_eta</th>\n",
              "      <td>250000.0</td>\n",
              "      <td>-0.019507</td>\n",
              "      <td>1.264982</td>\n",
              "      <td>-2.505</td>\n",
              "      <td>-1.01400</td>\n",
              "      <td>-0.0450</td>\n",
              "      <td>0.959</td>\n",
              "      <td>2.503</td>\n",
              "    </tr>\n",
              "    <tr>\n",
              "      <th>PRI_lep_phi</th>\n",
              "      <td>250000.0</td>\n",
              "      <td>0.043543</td>\n",
              "      <td>1.816611</td>\n",
              "      <td>-3.142</td>\n",
              "      <td>-1.52200</td>\n",
              "      <td>0.0860</td>\n",
              "      <td>1.618</td>\n",
              "      <td>3.142</td>\n",
              "    </tr>\n",
              "    <tr>\n",
              "      <th>PRI_met</th>\n",
              "      <td>250000.0</td>\n",
              "      <td>41.717235</td>\n",
              "      <td>32.894693</td>\n",
              "      <td>0.109</td>\n",
              "      <td>21.39800</td>\n",
              "      <td>34.8020</td>\n",
              "      <td>51.895</td>\n",
              "      <td>2842.617</td>\n",
              "    </tr>\n",
              "    <tr>\n",
              "      <th>PRI_met_phi</th>\n",
              "      <td>250000.0</td>\n",
              "      <td>-0.010119</td>\n",
              "      <td>1.812223</td>\n",
              "      <td>-3.142</td>\n",
              "      <td>-1.57500</td>\n",
              "      <td>-0.0240</td>\n",
              "      <td>1.561</td>\n",
              "      <td>3.142</td>\n",
              "    </tr>\n",
              "    <tr>\n",
              "      <th>Label</th>\n",
              "      <td>250000.0</td>\n",
              "      <td>0.342668</td>\n",
              "      <td>0.474603</td>\n",
              "      <td>0.000</td>\n",
              "      <td>0.00000</td>\n",
              "      <td>0.0000</td>\n",
              "      <td>1.000</td>\n",
              "      <td>1.000</td>\n",
              "    </tr>\n",
              "  </tbody>\n",
              "</table>\n",
              "</div>\n",
              "      <button class=\"colab-df-convert\" onclick=\"convertToInteractive('df-ae656feb-e6c7-4a72-bf20-87c5185e5d8f')\"\n",
              "              title=\"Convert this dataframe to an interactive table.\"\n",
              "              style=\"display:none;\">\n",
              "        \n",
              "  <svg xmlns=\"http://www.w3.org/2000/svg\" height=\"24px\"viewBox=\"0 0 24 24\"\n",
              "       width=\"24px\">\n",
              "    <path d=\"M0 0h24v24H0V0z\" fill=\"none\"/>\n",
              "    <path d=\"M18.56 5.44l.94 2.06.94-2.06 2.06-.94-2.06-.94-.94-2.06-.94 2.06-2.06.94zm-11 1L8.5 8.5l.94-2.06 2.06-.94-2.06-.94L8.5 2.5l-.94 2.06-2.06.94zm10 10l.94 2.06.94-2.06 2.06-.94-2.06-.94-.94-2.06-.94 2.06-2.06.94z\"/><path d=\"M17.41 7.96l-1.37-1.37c-.4-.4-.92-.59-1.43-.59-.52 0-1.04.2-1.43.59L10.3 9.45l-7.72 7.72c-.78.78-.78 2.05 0 2.83L4 21.41c.39.39.9.59 1.41.59.51 0 1.02-.2 1.41-.59l7.78-7.78 2.81-2.81c.8-.78.8-2.07 0-2.86zM5.41 20L4 18.59l7.72-7.72 1.47 1.35L5.41 20z\"/>\n",
              "  </svg>\n",
              "      </button>\n",
              "      \n",
              "  <style>\n",
              "    .colab-df-container {\n",
              "      display:flex;\n",
              "      flex-wrap:wrap;\n",
              "      gap: 12px;\n",
              "    }\n",
              "\n",
              "    .colab-df-convert {\n",
              "      background-color: #E8F0FE;\n",
              "      border: none;\n",
              "      border-radius: 50%;\n",
              "      cursor: pointer;\n",
              "      display: none;\n",
              "      fill: #1967D2;\n",
              "      height: 32px;\n",
              "      padding: 0 0 0 0;\n",
              "      width: 32px;\n",
              "    }\n",
              "\n",
              "    .colab-df-convert:hover {\n",
              "      background-color: #E2EBFA;\n",
              "      box-shadow: 0px 1px 2px rgba(60, 64, 67, 0.3), 0px 1px 3px 1px rgba(60, 64, 67, 0.15);\n",
              "      fill: #174EA6;\n",
              "    }\n",
              "\n",
              "    [theme=dark] .colab-df-convert {\n",
              "      background-color: #3B4455;\n",
              "      fill: #D2E3FC;\n",
              "    }\n",
              "\n",
              "    [theme=dark] .colab-df-convert:hover {\n",
              "      background-color: #434B5C;\n",
              "      box-shadow: 0px 1px 3px 1px rgba(0, 0, 0, 0.15);\n",
              "      filter: drop-shadow(0px 1px 2px rgba(0, 0, 0, 0.3));\n",
              "      fill: #FFFFFF;\n",
              "    }\n",
              "  </style>\n",
              "\n",
              "      <script>\n",
              "        const buttonEl =\n",
              "          document.querySelector('#df-ae656feb-e6c7-4a72-bf20-87c5185e5d8f button.colab-df-convert');\n",
              "        buttonEl.style.display =\n",
              "          google.colab.kernel.accessAllowed ? 'block' : 'none';\n",
              "\n",
              "        async function convertToInteractive(key) {\n",
              "          const element = document.querySelector('#df-ae656feb-e6c7-4a72-bf20-87c5185e5d8f');\n",
              "          const dataTable =\n",
              "            await google.colab.kernel.invokeFunction('convertToInteractive',\n",
              "                                                     [key], {});\n",
              "          if (!dataTable) return;\n",
              "\n",
              "          const docLinkHtml = 'Like what you see? Visit the ' +\n",
              "            '<a target=\"_blank\" href=https://colab.research.google.com/notebooks/data_table.ipynb>data table notebook</a>'\n",
              "            + ' to learn more about interactive tables.';\n",
              "          element.innerHTML = '';\n",
              "          dataTable['output_type'] = 'display_data';\n",
              "          await google.colab.output.renderOutput(dataTable, element);\n",
              "          const docLink = document.createElement('div');\n",
              "          docLink.innerHTML = docLinkHtml;\n",
              "          element.appendChild(docLink);\n",
              "        }\n",
              "      </script>\n",
              "    </div>\n",
              "  </div>\n",
              "  "
            ]
          },
          "metadata": {},
          "execution_count": 119
        }
      ]
    },
    {
      "cell_type": "markdown",
      "source": [
        "It seems to have well optimized dataset, Mutual Information Gain feature selection should be used."
      ],
      "metadata": {
        "id": "JySRl2nL5Rro"
      }
    },
    {
      "cell_type": "code",
      "source": [
        "train_checkpoint = train\n",
        "test_checkpoint = test"
      ],
      "metadata": {
        "id": "yRmfSTHj7zlf"
      },
      "execution_count": null,
      "outputs": []
    },
    {
      "cell_type": "code",
      "source": [
        "train_checkpoint.shape"
      ],
      "metadata": {
        "colab": {
          "base_uri": "https://localhost:8080/"
        },
        "id": "MITPEObu79vM",
        "outputId": "0dc52074-70b6-4f4c-eea4-bb1449e83772"
      },
      "execution_count": null,
      "outputs": [
        {
          "output_type": "execute_result",
          "data": {
            "text/plain": [
              "(250000, 17)"
            ]
          },
          "metadata": {},
          "execution_count": 121
        }
      ]
    },
    {
      "cell_type": "code",
      "source": [
        "test_checkpoint.shape"
      ],
      "metadata": {
        "colab": {
          "base_uri": "https://localhost:8080/"
        },
        "id": "cLf82kZH8CHc",
        "outputId": "7dd8643a-683e-4c26-a3ad-d563f1fbf715"
      },
      "execution_count": null,
      "outputs": [
        {
          "output_type": "execute_result",
          "data": {
            "text/plain": [
              "(550000, 16)"
            ]
          },
          "metadata": {},
          "execution_count": 122
        }
      ]
    },
    {
      "cell_type": "markdown",
      "source": [
        "#Step 3: Feature Selection using Mutual Information Gain"
      ],
      "metadata": {
        "id": "fi5B-Xicv1WG"
      }
    },
    {
      "cell_type": "code",
      "source": [
        "train.info()"
      ],
      "metadata": {
        "colab": {
          "base_uri": "https://localhost:8080/"
        },
        "id": "T7RaG5lepQSm",
        "outputId": "4fb0efa4-9259-4824-abf7-94b55a0df543"
      },
      "execution_count": null,
      "outputs": [
        {
          "output_type": "stream",
          "name": "stdout",
          "text": [
            "<class 'pandas.core.frame.DataFrame'>\n",
            "RangeIndex: 250000 entries, 0 to 249999\n",
            "Data columns (total 17 columns):\n",
            " #   Column                       Non-Null Count   Dtype  \n",
            "---  ------                       --------------   -----  \n",
            " 0   EventId                      250000 non-null  int64  \n",
            " 1   DER_mass_transverse_met_lep  250000 non-null  float64\n",
            " 2   DER_mass_vis                 250000 non-null  float64\n",
            " 3   DER_pt_h                     250000 non-null  float64\n",
            " 4   DER_deltar_tau_lep           250000 non-null  float64\n",
            " 5   DER_pt_tot                   250000 non-null  float64\n",
            " 6   DER_pt_ratio_lep_tau         250000 non-null  float64\n",
            " 7   DER_met_phi_centrality       250000 non-null  float64\n",
            " 8   PRI_tau_pt                   250000 non-null  float64\n",
            " 9   PRI_tau_eta                  250000 non-null  float64\n",
            " 10  PRI_tau_phi                  250000 non-null  float64\n",
            " 11  PRI_lep_pt                   250000 non-null  float64\n",
            " 12  PRI_lep_eta                  250000 non-null  float64\n",
            " 13  PRI_lep_phi                  250000 non-null  float64\n",
            " 14  PRI_met                      250000 non-null  float64\n",
            " 15  PRI_met_phi                  250000 non-null  float64\n",
            " 16  Label                        250000 non-null  int64  \n",
            "dtypes: float64(15), int64(2)\n",
            "memory usage: 32.4 MB\n"
          ]
        }
      ]
    },
    {
      "cell_type": "code",
      "source": [
        "X_train = train.iloc[:,1:16]"
      ],
      "metadata": {
        "id": "RyHFO8WM5sMu"
      },
      "execution_count": null,
      "outputs": []
    },
    {
      "cell_type": "code",
      "source": [
        "X_train.head()"
      ],
      "metadata": {
        "colab": {
          "base_uri": "https://localhost:8080/",
          "height": 270
        },
        "id": "wv_-pCAM6Du6",
        "outputId": "ab26ea58-ad57-4419-f0f9-515ebd6bf3ed"
      },
      "execution_count": null,
      "outputs": [
        {
          "output_type": "execute_result",
          "data": {
            "text/plain": [
              "   DER_mass_transverse_met_lep  DER_mass_vis  DER_pt_h  DER_deltar_tau_lep  \\\n",
              "0                       51.655        97.827    27.980               3.064   \n",
              "1                       68.768       103.235    48.146               3.473   \n",
              "2                      162.172       125.953    35.635               3.148   \n",
              "3                       81.417        80.943     0.414               3.310   \n",
              "4                       16.915       134.805    16.405               3.891   \n",
              "\n",
              "   DER_pt_tot  DER_pt_ratio_lep_tau  DER_met_phi_centrality  PRI_tau_pt  \\\n",
              "0      41.928                 1.582                   1.396      32.638   \n",
              "1       2.078                 0.879                   1.414      42.014   \n",
              "2       9.336                 3.776                   1.414      32.154   \n",
              "3       0.414                 2.354                  -1.285      22.647   \n",
              "4      16.405                 1.056                  -1.385      28.209   \n",
              "\n",
              "   PRI_tau_eta  PRI_tau_phi  PRI_lep_pt  PRI_lep_eta  PRI_lep_phi  PRI_met  \\\n",
              "0        1.017        0.381      51.626        2.273       -2.414   16.824   \n",
              "1        2.039       -3.011      36.918        0.501        0.103   44.704   \n",
              "2       -0.705       -2.093     121.409       -0.953        1.052   54.283   \n",
              "3       -1.655        0.010      53.321       -0.522       -3.100   31.082   \n",
              "4       -2.197       -2.231      29.774        0.798        1.569    2.723   \n",
              "\n",
              "   PRI_met_phi  \n",
              "0       -0.277  \n",
              "1       -1.916  \n",
              "2       -2.186  \n",
              "3        0.060  \n",
              "4       -0.871  "
            ],
            "text/html": [
              "\n",
              "  <div id=\"df-7f3a2d5e-4ca6-4315-9db8-4aa59cb89e4d\">\n",
              "    <div class=\"colab-df-container\">\n",
              "      <div>\n",
              "<style scoped>\n",
              "    .dataframe tbody tr th:only-of-type {\n",
              "        vertical-align: middle;\n",
              "    }\n",
              "\n",
              "    .dataframe tbody tr th {\n",
              "        vertical-align: top;\n",
              "    }\n",
              "\n",
              "    .dataframe thead th {\n",
              "        text-align: right;\n",
              "    }\n",
              "</style>\n",
              "<table border=\"1\" class=\"dataframe\">\n",
              "  <thead>\n",
              "    <tr style=\"text-align: right;\">\n",
              "      <th></th>\n",
              "      <th>DER_mass_transverse_met_lep</th>\n",
              "      <th>DER_mass_vis</th>\n",
              "      <th>DER_pt_h</th>\n",
              "      <th>DER_deltar_tau_lep</th>\n",
              "      <th>DER_pt_tot</th>\n",
              "      <th>DER_pt_ratio_lep_tau</th>\n",
              "      <th>DER_met_phi_centrality</th>\n",
              "      <th>PRI_tau_pt</th>\n",
              "      <th>PRI_tau_eta</th>\n",
              "      <th>PRI_tau_phi</th>\n",
              "      <th>PRI_lep_pt</th>\n",
              "      <th>PRI_lep_eta</th>\n",
              "      <th>PRI_lep_phi</th>\n",
              "      <th>PRI_met</th>\n",
              "      <th>PRI_met_phi</th>\n",
              "    </tr>\n",
              "  </thead>\n",
              "  <tbody>\n",
              "    <tr>\n",
              "      <th>0</th>\n",
              "      <td>51.655</td>\n",
              "      <td>97.827</td>\n",
              "      <td>27.980</td>\n",
              "      <td>3.064</td>\n",
              "      <td>41.928</td>\n",
              "      <td>1.582</td>\n",
              "      <td>1.396</td>\n",
              "      <td>32.638</td>\n",
              "      <td>1.017</td>\n",
              "      <td>0.381</td>\n",
              "      <td>51.626</td>\n",
              "      <td>2.273</td>\n",
              "      <td>-2.414</td>\n",
              "      <td>16.824</td>\n",
              "      <td>-0.277</td>\n",
              "    </tr>\n",
              "    <tr>\n",
              "      <th>1</th>\n",
              "      <td>68.768</td>\n",
              "      <td>103.235</td>\n",
              "      <td>48.146</td>\n",
              "      <td>3.473</td>\n",
              "      <td>2.078</td>\n",
              "      <td>0.879</td>\n",
              "      <td>1.414</td>\n",
              "      <td>42.014</td>\n",
              "      <td>2.039</td>\n",
              "      <td>-3.011</td>\n",
              "      <td>36.918</td>\n",
              "      <td>0.501</td>\n",
              "      <td>0.103</td>\n",
              "      <td>44.704</td>\n",
              "      <td>-1.916</td>\n",
              "    </tr>\n",
              "    <tr>\n",
              "      <th>2</th>\n",
              "      <td>162.172</td>\n",
              "      <td>125.953</td>\n",
              "      <td>35.635</td>\n",
              "      <td>3.148</td>\n",
              "      <td>9.336</td>\n",
              "      <td>3.776</td>\n",
              "      <td>1.414</td>\n",
              "      <td>32.154</td>\n",
              "      <td>-0.705</td>\n",
              "      <td>-2.093</td>\n",
              "      <td>121.409</td>\n",
              "      <td>-0.953</td>\n",
              "      <td>1.052</td>\n",
              "      <td>54.283</td>\n",
              "      <td>-2.186</td>\n",
              "    </tr>\n",
              "    <tr>\n",
              "      <th>3</th>\n",
              "      <td>81.417</td>\n",
              "      <td>80.943</td>\n",
              "      <td>0.414</td>\n",
              "      <td>3.310</td>\n",
              "      <td>0.414</td>\n",
              "      <td>2.354</td>\n",
              "      <td>-1.285</td>\n",
              "      <td>22.647</td>\n",
              "      <td>-1.655</td>\n",
              "      <td>0.010</td>\n",
              "      <td>53.321</td>\n",
              "      <td>-0.522</td>\n",
              "      <td>-3.100</td>\n",
              "      <td>31.082</td>\n",
              "      <td>0.060</td>\n",
              "    </tr>\n",
              "    <tr>\n",
              "      <th>4</th>\n",
              "      <td>16.915</td>\n",
              "      <td>134.805</td>\n",
              "      <td>16.405</td>\n",
              "      <td>3.891</td>\n",
              "      <td>16.405</td>\n",
              "      <td>1.056</td>\n",
              "      <td>-1.385</td>\n",
              "      <td>28.209</td>\n",
              "      <td>-2.197</td>\n",
              "      <td>-2.231</td>\n",
              "      <td>29.774</td>\n",
              "      <td>0.798</td>\n",
              "      <td>1.569</td>\n",
              "      <td>2.723</td>\n",
              "      <td>-0.871</td>\n",
              "    </tr>\n",
              "  </tbody>\n",
              "</table>\n",
              "</div>\n",
              "      <button class=\"colab-df-convert\" onclick=\"convertToInteractive('df-7f3a2d5e-4ca6-4315-9db8-4aa59cb89e4d')\"\n",
              "              title=\"Convert this dataframe to an interactive table.\"\n",
              "              style=\"display:none;\">\n",
              "        \n",
              "  <svg xmlns=\"http://www.w3.org/2000/svg\" height=\"24px\"viewBox=\"0 0 24 24\"\n",
              "       width=\"24px\">\n",
              "    <path d=\"M0 0h24v24H0V0z\" fill=\"none\"/>\n",
              "    <path d=\"M18.56 5.44l.94 2.06.94-2.06 2.06-.94-2.06-.94-.94-2.06-.94 2.06-2.06.94zm-11 1L8.5 8.5l.94-2.06 2.06-.94-2.06-.94L8.5 2.5l-.94 2.06-2.06.94zm10 10l.94 2.06.94-2.06 2.06-.94-2.06-.94-.94-2.06-.94 2.06-2.06.94z\"/><path d=\"M17.41 7.96l-1.37-1.37c-.4-.4-.92-.59-1.43-.59-.52 0-1.04.2-1.43.59L10.3 9.45l-7.72 7.72c-.78.78-.78 2.05 0 2.83L4 21.41c.39.39.9.59 1.41.59.51 0 1.02-.2 1.41-.59l7.78-7.78 2.81-2.81c.8-.78.8-2.07 0-2.86zM5.41 20L4 18.59l7.72-7.72 1.47 1.35L5.41 20z\"/>\n",
              "  </svg>\n",
              "      </button>\n",
              "      \n",
              "  <style>\n",
              "    .colab-df-container {\n",
              "      display:flex;\n",
              "      flex-wrap:wrap;\n",
              "      gap: 12px;\n",
              "    }\n",
              "\n",
              "    .colab-df-convert {\n",
              "      background-color: #E8F0FE;\n",
              "      border: none;\n",
              "      border-radius: 50%;\n",
              "      cursor: pointer;\n",
              "      display: none;\n",
              "      fill: #1967D2;\n",
              "      height: 32px;\n",
              "      padding: 0 0 0 0;\n",
              "      width: 32px;\n",
              "    }\n",
              "\n",
              "    .colab-df-convert:hover {\n",
              "      background-color: #E2EBFA;\n",
              "      box-shadow: 0px 1px 2px rgba(60, 64, 67, 0.3), 0px 1px 3px 1px rgba(60, 64, 67, 0.15);\n",
              "      fill: #174EA6;\n",
              "    }\n",
              "\n",
              "    [theme=dark] .colab-df-convert {\n",
              "      background-color: #3B4455;\n",
              "      fill: #D2E3FC;\n",
              "    }\n",
              "\n",
              "    [theme=dark] .colab-df-convert:hover {\n",
              "      background-color: #434B5C;\n",
              "      box-shadow: 0px 1px 3px 1px rgba(0, 0, 0, 0.15);\n",
              "      filter: drop-shadow(0px 1px 2px rgba(0, 0, 0, 0.3));\n",
              "      fill: #FFFFFF;\n",
              "    }\n",
              "  </style>\n",
              "\n",
              "      <script>\n",
              "        const buttonEl =\n",
              "          document.querySelector('#df-7f3a2d5e-4ca6-4315-9db8-4aa59cb89e4d button.colab-df-convert');\n",
              "        buttonEl.style.display =\n",
              "          google.colab.kernel.accessAllowed ? 'block' : 'none';\n",
              "\n",
              "        async function convertToInteractive(key) {\n",
              "          const element = document.querySelector('#df-7f3a2d5e-4ca6-4315-9db8-4aa59cb89e4d');\n",
              "          const dataTable =\n",
              "            await google.colab.kernel.invokeFunction('convertToInteractive',\n",
              "                                                     [key], {});\n",
              "          if (!dataTable) return;\n",
              "\n",
              "          const docLinkHtml = 'Like what you see? Visit the ' +\n",
              "            '<a target=\"_blank\" href=https://colab.research.google.com/notebooks/data_table.ipynb>data table notebook</a>'\n",
              "            + ' to learn more about interactive tables.';\n",
              "          element.innerHTML = '';\n",
              "          dataTable['output_type'] = 'display_data';\n",
              "          await google.colab.output.renderOutput(dataTable, element);\n",
              "          const docLink = document.createElement('div');\n",
              "          docLink.innerHTML = docLinkHtml;\n",
              "          element.appendChild(docLink);\n",
              "        }\n",
              "      </script>\n",
              "    </div>\n",
              "  </div>\n",
              "  "
            ]
          },
          "metadata": {},
          "execution_count": 32
        }
      ]
    },
    {
      "cell_type": "code",
      "source": [
        "X_train.shape"
      ],
      "metadata": {
        "colab": {
          "base_uri": "https://localhost:8080/"
        },
        "id": "18E4k7KD6IGo",
        "outputId": "61bd6f46-609c-446b-e8c9-4fb8de0f6e9d"
      },
      "execution_count": null,
      "outputs": [
        {
          "output_type": "execute_result",
          "data": {
            "text/plain": [
              "(250000, 15)"
            ]
          },
          "metadata": {},
          "execution_count": 33
        }
      ]
    },
    {
      "cell_type": "code",
      "source": [
        "y_train = train.iloc[:,16]"
      ],
      "metadata": {
        "id": "P8BBDu0u58rz"
      },
      "execution_count": null,
      "outputs": []
    },
    {
      "cell_type": "code",
      "source": [
        "y_train.head()"
      ],
      "metadata": {
        "colab": {
          "base_uri": "https://localhost:8080/"
        },
        "id": "QwF5YAEB6MXP",
        "outputId": "783a8dc6-8829-4515-8e3d-21e94fd12b66"
      },
      "execution_count": null,
      "outputs": [
        {
          "output_type": "execute_result",
          "data": {
            "text/plain": [
              "0    1\n",
              "1    0\n",
              "2    0\n",
              "3    0\n",
              "4    0\n",
              "Name: Label, dtype: int64"
            ]
          },
          "metadata": {},
          "execution_count": 35
        }
      ]
    },
    {
      "cell_type": "code",
      "source": [
        "y_train.shape"
      ],
      "metadata": {
        "colab": {
          "base_uri": "https://localhost:8080/"
        },
        "id": "TWfg4o4J6QWX",
        "outputId": "be7dcc78-288e-4a3a-c0eb-c70a1f664a74"
      },
      "execution_count": null,
      "outputs": [
        {
          "output_type": "execute_result",
          "data": {
            "text/plain": [
              "(250000,)"
            ]
          },
          "metadata": {},
          "execution_count": 36
        }
      ]
    },
    {
      "cell_type": "markdown",
      "source": [
        "Mutual Information\n",
        "\n",
        "\n",
        "> MI Estimate mutual information for a discrete target variable.\n",
        "\n",
        "> Mutual information (MI) between two random variables is a non-negative value, which measures the dependency between the variables. It is equal to zero if and only if two random variables are independent, and higher values mean higher dependency.\n",
        "\n",
        "> The function relies on nonparametric methods based on entropy estimation from k-nearest neighbors distances.\n",
        "\n",
        "> Inshort, A quantity called mutual information measures the amount of information one can obtain from one random variable given another.\n"
      ],
      "metadata": {
        "id": "WEm_DUib6ZA3"
      }
    },
    {
      "cell_type": "code",
      "source": [
        "mutual_info = mutual_info_classif(X_train, y_train)\n",
        "mutual_info"
      ],
      "metadata": {
        "colab": {
          "base_uri": "https://localhost:8080/"
        },
        "id": "rgriKuJo6tYu",
        "outputId": "ec520607-f6e0-49bf-8998-36ab84c0e713"
      },
      "execution_count": null,
      "outputs": [
        {
          "output_type": "execute_result",
          "data": {
            "text/plain": [
              "array([0.08741577, 0.07799319, 0.02083881, 0.01677253, 0.        ,\n",
              "       0.04256237, 0.04650279, 0.0545372 , 0.00710462, 0.00094597,\n",
              "       0.00279001, 0.0112315 , 0.00271882, 0.01552689, 0.00108175])"
            ]
          },
          "metadata": {},
          "execution_count": 37
        }
      ]
    },
    {
      "cell_type": "code",
      "source": [
        "mutual_info = pd.Series(mutual_info)\n",
        "mutual_info.index = X_train.columns\n",
        "mutual_info.sort_values(ascending=False)\n"
      ],
      "metadata": {
        "colab": {
          "base_uri": "https://localhost:8080/"
        },
        "id": "_Y5SPWKw8Iem",
        "outputId": "4439b7c5-c4ef-493a-a345-82d2b13f0ac1"
      },
      "execution_count": null,
      "outputs": [
        {
          "output_type": "execute_result",
          "data": {
            "text/plain": [
              "DER_mass_transverse_met_lep    0.087416\n",
              "DER_mass_vis                   0.077993\n",
              "PRI_tau_pt                     0.054537\n",
              "DER_met_phi_centrality         0.046503\n",
              "DER_pt_ratio_lep_tau           0.042562\n",
              "DER_pt_h                       0.020839\n",
              "DER_deltar_tau_lep             0.016773\n",
              "PRI_met                        0.015527\n",
              "PRI_lep_eta                    0.011231\n",
              "PRI_tau_eta                    0.007105\n",
              "PRI_lep_pt                     0.002790\n",
              "PRI_lep_phi                    0.002719\n",
              "PRI_met_phi                    0.001082\n",
              "PRI_tau_phi                    0.000946\n",
              "DER_pt_tot                     0.000000\n",
              "dtype: float64"
            ]
          },
          "metadata": {},
          "execution_count": 38
        }
      ]
    },
    {
      "cell_type": "code",
      "source": [
        "#let's plot the ordered mutual_info values per feature\n",
        "mutual_info.sort_values(ascending=False).plot.bar(figsize=(20, 8))"
      ],
      "metadata": {
        "colab": {
          "base_uri": "https://localhost:8080/",
          "height": 645
        },
        "id": "N1HLYcvQ8Kzu",
        "outputId": "99bd9a5b-3fab-429a-c2ea-afb64f3fb682"
      },
      "execution_count": null,
      "outputs": [
        {
          "output_type": "execute_result",
          "data": {
            "text/plain": [
              "<matplotlib.axes._subplots.AxesSubplot at 0x7ff544909880>"
            ]
          },
          "metadata": {},
          "execution_count": 39
        },
        {
          "output_type": "display_data",
          "data": {
            "text/plain": [
              "<Figure size 1440x576 with 1 Axes>"
            ],
            "image/png": "[encoded data removed]"
          },
          "metadata": {
            "needs_background": "light"
          }
        }
      ]
    },
    {
      "cell_type": "code",
      "source": [
        "#No we Will select the  top 10  important features \n",
        "sel_five_cols = SelectKBest(mutual_info_classif)   #\n",
        "sel_five_cols.fit(X_train, y_train)\n",
        "X_train.columns[sel_five_cols.get_support()]"
      ],
      "metadata": {
        "colab": {
          "base_uri": "https://localhost:8080/"
        },
        "id": "lyrctQCA8PYo",
        "outputId": "b1b69620-1fc1-4984-d899-936478d59f67"
      },
      "execution_count": null,
      "outputs": [
        {
          "output_type": "execute_result",
          "data": {
            "text/plain": [
              "Index(['DER_mass_transverse_met_lep', 'DER_mass_vis', 'DER_pt_h',\n",
              "       'DER_deltar_tau_lep', 'DER_pt_ratio_lep_tau', 'DER_met_phi_centrality',\n",
              "       'PRI_tau_pt', 'PRI_tau_eta', 'PRI_lep_eta', 'PRI_met'],\n",
              "      dtype='object')"
            ]
          },
          "metadata": {},
          "execution_count": 40
        }
      ]
    },
    {
      "cell_type": "code",
      "source": [
        "Choosen_Features = ['DER_mass_transverse_met_lep', 'DER_mass_vis', 'DER_pt_h',\n",
        "       'DER_deltar_tau_lep', 'DER_pt_ratio_lep_tau', 'DER_met_phi_centrality',\n",
        "       'PRI_tau_pt', 'PRI_tau_eta', 'PRI_lep_eta', 'PRI_met']\n",
        "\n",
        "Remove_features = ['PRI_lep_pt','PRI_tau_phi','DER_pt_tot','PRI_lep_phi','PRI_met_phi']"
      ],
      "metadata": {
        "id": "mXCNVRZ99ACP"
      },
      "execution_count": null,
      "outputs": []
    },
    {
      "cell_type": "code",
      "source": [
        "train = train.drop(Remove_features,axis=1)"
      ],
      "metadata": {
        "id": "oLBJokL-_Yqm"
      },
      "execution_count": null,
      "outputs": []
    },
    {
      "cell_type": "code",
      "source": [
        "test = test.drop(Remove_features,axis=1)"
      ],
      "metadata": {
        "id": "SyJoCxqQ_fo-"
      },
      "execution_count": null,
      "outputs": []
    },
    {
      "cell_type": "code",
      "source": [
        "train.info()"
      ],
      "metadata": {
        "colab": {
          "base_uri": "https://localhost:8080/"
        },
        "id": "DAx8GGfX_k19",
        "outputId": "1d4c3ef0-abb7-4d66-9c0c-8a26d8bd4453"
      },
      "execution_count": null,
      "outputs": [
        {
          "output_type": "stream",
          "name": "stdout",
          "text": [
            "<class 'pandas.core.frame.DataFrame'>\n",
            "RangeIndex: 250000 entries, 0 to 249999\n",
            "Data columns (total 12 columns):\n",
            " #   Column                       Non-Null Count   Dtype  \n",
            "---  ------                       --------------   -----  \n",
            " 0   EventId                      250000 non-null  int64  \n",
            " 1   DER_mass_transverse_met_lep  250000 non-null  float64\n",
            " 2   DER_mass_vis                 250000 non-null  float64\n",
            " 3   DER_pt_h                     250000 non-null  float64\n",
            " 4   DER_deltar_tau_lep           250000 non-null  float64\n",
            " 5   DER_pt_ratio_lep_tau         250000 non-null  float64\n",
            " 6   DER_met_phi_centrality       250000 non-null  float64\n",
            " 7   PRI_tau_pt                   250000 non-null  float64\n",
            " 8   PRI_tau_eta                  250000 non-null  float64\n",
            " 9   PRI_lep_eta                  250000 non-null  float64\n",
            " 10  PRI_met                      250000 non-null  float64\n",
            " 11  Label                        250000 non-null  int64  \n",
            "dtypes: float64(10), int64(2)\n",
            "memory usage: 22.9 MB\n"
          ]
        }
      ]
    },
    {
      "cell_type": "code",
      "source": [
        "test.info()"
      ],
      "metadata": {
        "colab": {
          "base_uri": "https://localhost:8080/"
        },
        "id": "i4p91-p8_oat",
        "outputId": "9135354e-9217-4041-cb36-3a1a89f4aaec"
      },
      "execution_count": null,
      "outputs": [
        {
          "output_type": "stream",
          "name": "stdout",
          "text": [
            "<class 'pandas.core.frame.DataFrame'>\n",
            "RangeIndex: 550000 entries, 0 to 549999\n",
            "Data columns (total 11 columns):\n",
            " #   Column                       Non-Null Count   Dtype  \n",
            "---  ------                       --------------   -----  \n",
            " 0   EventId                      550000 non-null  int64  \n",
            " 1   DER_mass_transverse_met_lep  550000 non-null  float64\n",
            " 2   DER_mass_vis                 550000 non-null  float64\n",
            " 3   DER_pt_h                     550000 non-null  float64\n",
            " 4   DER_deltar_tau_lep           550000 non-null  float64\n",
            " 5   DER_pt_ratio_lep_tau         550000 non-null  float64\n",
            " 6   DER_met_phi_centrality       550000 non-null  float64\n",
            " 7   PRI_tau_pt                   550000 non-null  float64\n",
            " 8   PRI_tau_eta                  550000 non-null  float64\n",
            " 9   PRI_lep_eta                  550000 non-null  float64\n",
            " 10  PRI_met                      550000 non-null  float64\n",
            "dtypes: float64(10), int64(1)\n",
            "memory usage: 46.2 MB\n"
          ]
        }
      ]
    },
    {
      "cell_type": "markdown",
      "source": [
        "# Step 4: Split and Standardize the Data\n",
        "\n"
      ],
      "metadata": {
        "id": "XZvW6o1p_95I"
      }
    },
    {
      "cell_type": "code",
      "source": [
        "Train_checkpoint_2 = train\n",
        "Test_checkpoint_2 = test"
      ],
      "metadata": {
        "id": "roo8X7kvCrVl"
      },
      "execution_count": null,
      "outputs": []
    },
    {
      "cell_type": "code",
      "source": [
        "X = train.iloc[:,1:11]\n",
        "y = train.iloc[:,11]"
      ],
      "metadata": {
        "id": "ryDyfA4qC0YO"
      },
      "execution_count": null,
      "outputs": []
    },
    {
      "cell_type": "code",
      "source": [
        "print(X.shape)\n",
        "print(y.shape)"
      ],
      "metadata": {
        "colab": {
          "base_uri": "https://localhost:8080/"
        },
        "id": "pImLxl6mDCJA",
        "outputId": "4669c6f0-f7f1-46f7-8cc0-0a0352c88d83"
      },
      "execution_count": null,
      "outputs": [
        {
          "output_type": "stream",
          "name": "stdout",
          "text": [
            "(250000, 10)\n",
            "(250000,)\n"
          ]
        }
      ]
    },
    {
      "cell_type": "code",
      "source": [
        "x_train, x_test, y_train, y_test= train_test_split(X,y, test_size= 0.2, random_state=0)  "
      ],
      "metadata": {
        "id": "9X5eTrsQCfkG"
      },
      "execution_count": null,
      "outputs": []
    },
    {
      "cell_type": "code",
      "source": [
        "scalar= StandardScaler()  \n",
        "x_train= scalar.fit_transform(x_train)  \n",
        "x_test= scalar.fit_transform(x_test)  "
      ],
      "metadata": {
        "id": "IJwFJWN8_9MW"
      },
      "execution_count": null,
      "outputs": []
    },
    {
      "cell_type": "code",
      "source": [
        "print(\"x_train_shape\",x_train.shape)\n",
        "print(\"y_train_shape\",y_train.shape)\n",
        "print(\"x_test_shape\",x_test.shape)\n",
        "print(\"y_test_shape\",y_test.shape)"
      ],
      "metadata": {
        "colab": {
          "base_uri": "https://localhost:8080/"
        },
        "id": "fiIA47BXDR3v",
        "outputId": "a15e3305-fe33-4f8d-99c0-2dd6c7a874e0"
      },
      "execution_count": null,
      "outputs": [
        {
          "output_type": "stream",
          "name": "stdout",
          "text": [
            "x_train_shape (200000, 10)\n",
            "y_train_shape (200000,)\n",
            "x_test_shape (50000, 10)\n",
            "y_test_shape (50000,)\n"
          ]
        }
      ]
    },
    {
      "cell_type": "code",
      "source": [
        "x_train"
      ],
      "metadata": {
        "colab": {
          "base_uri": "https://localhost:8080/"
        },
        "id": "HuGUrygi_7yl",
        "outputId": "f3f68795-b72d-4b0d-f4ce-cb559617ce1d"
      },
      "execution_count": null,
      "outputs": [
        {
          "output_type": "execute_result",
          "data": {
            "text/plain": [
              "array([[-0.23698366, -0.30259522,  0.05972269, ...,  0.04955471,\n",
              "         0.07193535, -0.51705887],\n",
              "       [-0.48304797, -0.00395004, -0.1400841 , ...,  0.7521357 ,\n",
              "         0.25291361,  0.01367475],\n",
              "       [ 0.44545656, -0.50253026, -0.88934778, ...,  1.1664361 ,\n",
              "        -0.09876903,  0.13424519],\n",
              "       ...,\n",
              "       [-0.68419331, -0.11408644, -0.59376597, ..., -0.32932836,\n",
              "         0.2165599 , -1.16047402],\n",
              "       [-1.33379289, -0.49962486,  0.64429031, ..., -1.81520891,\n",
              "        -1.68489725,  0.29809888],\n",
              "       [-0.19916461, -0.26650974, -0.87736219, ...,  1.6128592 ,\n",
              "         0.33352401, -0.87611034]])"
            ]
          },
          "metadata": {},
          "execution_count": 55
        }
      ]
    },
    {
      "cell_type": "code",
      "source": [
        "y_train"
      ],
      "metadata": {
        "colab": {
          "base_uri": "https://localhost:8080/"
        },
        "id": "K08m5hDjEiu2",
        "outputId": "bcfe0ea5-a607-4556-b7f0-54a1fe13d411"
      },
      "execution_count": null,
      "outputs": [
        {
          "output_type": "execute_result",
          "data": {
            "text/plain": [
              "148936    0\n",
              "40192     1\n",
              "157575    0\n",
              "61323     0\n",
              "206410    0\n",
              "         ..\n",
              "176963    0\n",
              "117952    0\n",
              "173685    0\n",
              "43567     0\n",
              "199340    0\n",
              "Name: Label, Length: 200000, dtype: int64"
            ]
          },
          "metadata": {},
          "execution_count": 56
        }
      ]
    },
    {
      "cell_type": "code",
      "source": [
        "x_test"
      ],
      "metadata": {
        "colab": {
          "base_uri": "https://localhost:8080/"
        },
        "id": "z5AAdwdMElEO",
        "outputId": "7028a947-7206-4cd4-fa0a-9a34b8a08913"
      },
      "execution_count": null,
      "outputs": [
        {
          "output_type": "execute_result",
          "data": {
            "text/plain": [
              "array([[ 0.7654201 ,  0.25433931,  0.1590952 , ..., -1.78401079,\n",
              "        -1.29761549,  0.67391278],\n",
              "       [ 0.87047851, -1.2414415 , -0.87741616, ..., -1.0163015 ,\n",
              "        -1.74952986,  0.35146534],\n",
              "       [ 0.33207541, -0.05393226, -0.37374771, ..., -1.56325318,\n",
              "        -1.22084544, -0.32437302],\n",
              "       ...,\n",
              "       [-0.55576724, -0.44005946,  1.75168423, ...,  0.30247809,\n",
              "         0.74035216,  1.42542885],\n",
              "       [-0.55420977, -0.40001517,  0.31463941, ..., -0.22388054,\n",
              "         0.02172124,  0.25726512],\n",
              "       [ 0.30661786, -0.79162551, -0.87311225, ..., -1.13244636,\n",
              "        -1.24063154, -0.13693761]])"
            ]
          },
          "metadata": {},
          "execution_count": 57
        }
      ]
    },
    {
      "cell_type": "code",
      "source": [
        "y_test"
      ],
      "metadata": {
        "colab": {
          "base_uri": "https://localhost:8080/"
        },
        "id": "LI8vUo8aEnjh",
        "outputId": "8fac87f9-6d8b-4085-95b1-939816a9dd4f"
      },
      "execution_count": null,
      "outputs": [
        {
          "output_type": "execute_result",
          "data": {
            "text/plain": [
              "140089    1\n",
              "93747     0\n",
              "180647    0\n",
              "64526     1\n",
              "19100     0\n",
              "         ..\n",
              "68205     1\n",
              "210022    0\n",
              "69904     1\n",
              "217515    1\n",
              "43660     0\n",
              "Name: Label, Length: 50000, dtype: int64"
            ]
          },
          "metadata": {},
          "execution_count": 58
        }
      ]
    },
    {
      "cell_type": "markdown",
      "source": [
        "#Step 5: Model Building "
      ],
      "metadata": {
        "id": "P0uMCZrOEp-C"
      }
    },
    {
      "cell_type": "code",
      "source": [
        "from sklearn.linear_model import LogisticRegression \n",
        "from sklearn.svm import SVC \n",
        "from sklearn.ensemble import RandomForestClassifier\n",
        "from xgboost import XGBClassifier  "
      ],
      "metadata": {
        "id": "4Cy7br72E2Cj"
      },
      "execution_count": null,
      "outputs": []
    },
    {
      "cell_type": "markdown",
      "source": [
        "Logistic Regression"
      ],
      "metadata": {
        "id": "RzBvSy_oEzaZ"
      }
    },
    {
      "cell_type": "code",
      "source": [
        "classifier= LogisticRegression(max_iter=1500)  \n",
        "classifier.fit(x_train, y_train)  "
      ],
      "metadata": {
        "colab": {
          "base_uri": "https://localhost:8080/"
        },
        "id": "rUcbvXdNEptZ",
        "outputId": "77be3bc1-11c6-42a2-fa79-3844e03a0e76"
      },
      "execution_count": null,
      "outputs": [
        {
          "output_type": "execute_result",
          "data": {
            "text/plain": [
              "LogisticRegression(max_iter=1500)"
            ]
          },
          "metadata": {},
          "execution_count": 60
        }
      ]
    },
    {
      "cell_type": "code",
      "source": [
        "y_pred= classifier.predict(x_test)  "
      ],
      "metadata": {
        "id": "tUht2mu0HQ22"
      },
      "execution_count": null,
      "outputs": []
    },
    {
      "cell_type": "code",
      "source": [
        "cm= confusion_matrix(y_test,y_pred) \n",
        "cr = classification_report(y_test,y_pred)"
      ],
      "metadata": {
        "id": "jRmQY6BNHc0W"
      },
      "execution_count": null,
      "outputs": []
    },
    {
      "cell_type": "code",
      "source": [
        "cm"
      ],
      "metadata": {
        "colab": {
          "base_uri": "https://localhost:8080/"
        },
        "id": "9JcQAcTBIGrI",
        "outputId": "23475394-fd3a-4c6b-a872-7a638892c59f"
      },
      "execution_count": null,
      "outputs": [
        {
          "output_type": "execute_result",
          "data": {
            "text/plain": [
              "array([[28170,  4701],\n",
              "       [ 8895,  8234]])"
            ]
          },
          "metadata": {},
          "execution_count": 63
        }
      ]
    },
    {
      "cell_type": "code",
      "source": [
        "print(cr)"
      ],
      "metadata": {
        "colab": {
          "base_uri": "https://localhost:8080/"
        },
        "id": "4W6yb9T0IHzz",
        "outputId": "0d04adb4-21fc-4d5d-acd7-972258d38bc7"
      },
      "execution_count": null,
      "outputs": [
        {
          "output_type": "stream",
          "name": "stdout",
          "text": [
            "              precision    recall  f1-score   support\n",
            "\n",
            "           0       0.76      0.86      0.81     32871\n",
            "           1       0.64      0.48      0.55     17129\n",
            "\n",
            "    accuracy                           0.73     50000\n",
            "   macro avg       0.70      0.67      0.68     50000\n",
            "weighted avg       0.72      0.73      0.72     50000\n",
            "\n"
          ]
        }
      ]
    },
    {
      "cell_type": "markdown",
      "source": [
        "Not Good"
      ],
      "metadata": {
        "id": "ezS3qozXXIes"
      }
    },
    {
      "cell_type": "markdown",
      "source": [
        "Support Vector Machining"
      ],
      "metadata": {
        "id": "6FEGqZD9Otp1"
      }
    },
    {
      "cell_type": "code",
      "source": [
        "#Note : Training would take max 5 hours without GPU"
      ],
      "metadata": {
        "id": "jLlaOc3ulrI-"
      },
      "execution_count": null,
      "outputs": []
    },
    {
      "cell_type": "code",
      "source": [
        "classifier = SVC(kernel='linear', random_state=0)  \n",
        "classifier.fit(x_train, y_train)  "
      ],
      "metadata": {
        "id": "iKeIGPaKOwqe"
      },
      "execution_count": null,
      "outputs": []
    },
    {
      "cell_type": "code",
      "source": [
        "y_pred= classifier.predict(x_test)  "
      ],
      "metadata": {
        "id": "mdei_2thTq--"
      },
      "execution_count": null,
      "outputs": []
    },
    {
      "cell_type": "code",
      "source": [
        "cm= confusion_matrix(y_test,y_pred) \n",
        "cr = classification_report(y_test,y_pred)"
      ],
      "metadata": {
        "id": "iACznlMPO3gN"
      },
      "execution_count": null,
      "outputs": []
    },
    {
      "cell_type": "code",
      "source": [
        "cm"
      ],
      "metadata": {
        "id": "YheX59t-Tuuf"
      },
      "execution_count": null,
      "outputs": []
    },
    {
      "cell_type": "code",
      "source": [
        "print(cr)"
      ],
      "metadata": {
        "id": "c87sjmewTxvd"
      },
      "execution_count": null,
      "outputs": []
    },
    {
      "cell_type": "code",
      "source": [
        "#And even get the accuracy , I guess It wont be good than other models."
      ],
      "metadata": {
        "id": "eQ8d--LZl1s1"
      },
      "execution_count": null,
      "outputs": []
    },
    {
      "cell_type": "markdown",
      "source": [
        "I guess SVC would not also be good"
      ],
      "metadata": {
        "id": "m7v8O2LcXNxj"
      }
    },
    {
      "cell_type": "markdown",
      "source": [
        "Random Forest Classifier"
      ],
      "metadata": {
        "id": "LxohnvXrVNRn"
      }
    },
    {
      "cell_type": "code",
      "source": [
        "classifier_rf = RandomForestClassifier(random_state=42, n_jobs=-1, max_depth=5,\n",
        "                                       n_estimators=100, oob_score=True)\n",
        "\n",
        "classifier_rf.fit(x_train, y_train)"
      ],
      "metadata": {
        "colab": {
          "base_uri": "https://localhost:8080/"
        },
        "id": "TsFQGl0lV223",
        "outputId": "b171a858-f1bc-4d79-f80e-887965622b87"
      },
      "execution_count": null,
      "outputs": [
        {
          "output_type": "execute_result",
          "data": {
            "text/plain": [
              "RandomForestClassifier(max_depth=5, n_jobs=-1, oob_score=True, random_state=42)"
            ]
          },
          "metadata": {},
          "execution_count": 65
        }
      ]
    },
    {
      "cell_type": "code",
      "source": [
        "y_pred= classifier.predict(x_test) "
      ],
      "metadata": {
        "id": "OboNeVb4YvEW"
      },
      "execution_count": null,
      "outputs": []
    },
    {
      "cell_type": "code",
      "source": [
        "cm= confusion_matrix(y_test,y_pred) \n",
        "cr = classification_report(y_test,y_pred)"
      ],
      "metadata": {
        "id": "OAJ1YrK3Yv-P"
      },
      "execution_count": null,
      "outputs": []
    },
    {
      "cell_type": "code",
      "source": [
        "cm"
      ],
      "metadata": {
        "colab": {
          "base_uri": "https://localhost:8080/"
        },
        "id": "a-z8w03hYyfI",
        "outputId": "225ac291-e56b-472c-b02a-3fc810855521"
      },
      "execution_count": null,
      "outputs": [
        {
          "output_type": "execute_result",
          "data": {
            "text/plain": [
              "array([[28170,  4701],\n",
              "       [ 8895,  8234]])"
            ]
          },
          "metadata": {},
          "execution_count": 68
        }
      ]
    },
    {
      "cell_type": "code",
      "source": [
        "print(cr)"
      ],
      "metadata": {
        "colab": {
          "base_uri": "https://localhost:8080/"
        },
        "id": "BpILO3zDY2X0",
        "outputId": "b48ba0ae-1bde-4307-b6d2-de105598f02a"
      },
      "execution_count": null,
      "outputs": [
        {
          "output_type": "stream",
          "name": "stdout",
          "text": [
            "              precision    recall  f1-score   support\n",
            "\n",
            "           0       0.76      0.86      0.81     32871\n",
            "           1       0.64      0.48      0.55     17129\n",
            "\n",
            "    accuracy                           0.73     50000\n",
            "   macro avg       0.70      0.67      0.68     50000\n",
            "weighted avg       0.72      0.73      0.72     50000\n",
            "\n"
          ]
        }
      ]
    },
    {
      "cell_type": "code",
      "source": [
        "n_estimators = [500, 600, 700, 800, 900] # [300, 400, 500, 600, 700]\n",
        "max_depth = [6] # [3, 4, 5, 6, 7, 8]\n",
        "\n",
        "param_grid = {\"n_estimators\": n_estimators,\n",
        "             \"max_depth\": max_depth}\n",
        "\n",
        "\n",
        "clf = RandomForestClassifier() # defining the classifier\n",
        "\n",
        "grid_model = GridSearchCV(estimator= clf, param_grid= param_grid, cv=3, verbose= 4, n_jobs= 1)\n",
        "\n",
        "\n",
        "\n",
        "grid_model.fit(x_train, y_train)\n"
      ],
      "metadata": {
        "colab": {
          "base_uri": "https://localhost:8080/"
        },
        "id": "kCrtbnaB-b_i",
        "outputId": "05e3ed3f-3d84-41a0-f94e-41654dcc2d89"
      },
      "execution_count": null,
      "outputs": [
        {
          "output_type": "stream",
          "name": "stdout",
          "text": [
            "Fitting 3 folds for each of 5 candidates, totalling 15 fits\n",
            "[CV 1/3] END .....max_depth=6, n_estimators=500;, score=0.801 total time= 2.3min\n",
            "[CV 2/3] END .....max_depth=6, n_estimators=500;, score=0.800 total time= 2.2min\n",
            "[CV 3/3] END .....max_depth=6, n_estimators=500;, score=0.800 total time= 2.2min\n",
            "[CV 1/3] END .....max_depth=6, n_estimators=600;, score=0.801 total time= 2.7min\n",
            "[CV 2/3] END .....max_depth=6, n_estimators=600;, score=0.800 total time= 3.0min\n",
            "[CV 3/3] END .....max_depth=6, n_estimators=600;, score=0.800 total time= 3.0min\n",
            "[CV 1/3] END .....max_depth=6, n_estimators=700;, score=0.801 total time= 3.4min\n",
            "[CV 2/3] END .....max_depth=6, n_estimators=700;, score=0.801 total time= 3.1min\n",
            "[CV 3/3] END .....max_depth=6, n_estimators=700;, score=0.800 total time= 3.2min\n",
            "[CV 1/3] END .....max_depth=6, n_estimators=800;, score=0.801 total time= 3.7min\n",
            "[CV 2/3] END .....max_depth=6, n_estimators=800;, score=0.800 total time= 3.6min\n",
            "[CV 3/3] END .....max_depth=6, n_estimators=800;, score=0.801 total time= 3.6min\n",
            "[CV 1/3] END .....max_depth=6, n_estimators=900;, score=0.801 total time= 4.2min\n",
            "[CV 2/3] END .....max_depth=6, n_estimators=900;, score=0.800 total time= 4.5min\n",
            "[CV 3/3] END .....max_depth=6, n_estimators=900;, score=0.800 total time= 4.2min\n"
          ]
        },
        {
          "output_type": "execute_result",
          "data": {
            "text/plain": [
              "GridSearchCV(cv=3, estimator=RandomForestClassifier(), n_jobs=1,\n",
              "             param_grid={'max_depth': [6],\n",
              "                         'n_estimators': [500, 600, 700, 800, 900]},\n",
              "             verbose=4)"
            ]
          },
          "metadata": {},
          "execution_count": 70
        }
      ]
    },
    {
      "cell_type": "code",
      "source": [
        "classifier_rf = RandomForestClassifier(random_state=0, n_jobs=1, max_depth=6,\n",
        "                                       n_estimators=500, oob_score=True)\n",
        "\n",
        "classifier_rf.fit(x_train, y_train)"
      ],
      "metadata": {
        "colab": {
          "base_uri": "https://localhost:8080/"
        },
        "id": "ZzGEgX8tHuHM",
        "outputId": "5c719d84-74a8-45a2-f1ed-ac358c83b7b0"
      },
      "execution_count": null,
      "outputs": [
        {
          "output_type": "execute_result",
          "data": {
            "text/plain": [
              "RandomForestClassifier(max_depth=6, n_estimators=500, n_jobs=1, oob_score=True,\n",
              "                       random_state=0)"
            ]
          },
          "metadata": {},
          "execution_count": 77
        }
      ]
    },
    {
      "cell_type": "code",
      "source": [
        "y_pred= classifier_rf.predict(x_test) "
      ],
      "metadata": {
        "id": "Sp_DaEjNH_3s"
      },
      "execution_count": null,
      "outputs": []
    },
    {
      "cell_type": "code",
      "source": [
        "cm= confusion_matrix(y_test,y_pred) \n",
        "cr = classification_report(y_test,y_pred)"
      ],
      "metadata": {
        "id": "h58xYwPAIAmk"
      },
      "execution_count": null,
      "outputs": []
    },
    {
      "cell_type": "code",
      "source": [
        "cm"
      ],
      "metadata": {
        "colab": {
          "base_uri": "https://localhost:8080/"
        },
        "id": "gCNvVzVuIDU8",
        "outputId": "1ec54e3b-6ed6-477b-af88-c223a60457cc"
      },
      "execution_count": null,
      "outputs": [
        {
          "output_type": "execute_result",
          "data": {
            "text/plain": [
              "array([[29353,  3518],\n",
              "       [ 6449, 10680]])"
            ]
          },
          "metadata": {},
          "execution_count": 80
        }
      ]
    },
    {
      "cell_type": "code",
      "source": [
        "print(cr)"
      ],
      "metadata": {
        "colab": {
          "base_uri": "https://localhost:8080/"
        },
        "id": "xtsjrV-WIGCs",
        "outputId": "b03cd84c-6a84-4798-ebf7-42602d03251d"
      },
      "execution_count": null,
      "outputs": [
        {
          "output_type": "stream",
          "name": "stdout",
          "text": [
            "              precision    recall  f1-score   support\n",
            "\n",
            "           0       0.82      0.89      0.85     32871\n",
            "           1       0.75      0.62      0.68     17129\n",
            "\n",
            "    accuracy                           0.80     50000\n",
            "   macro avg       0.79      0.76      0.77     50000\n",
            "weighted avg       0.80      0.80      0.80     50000\n",
            "\n"
          ]
        }
      ]
    },
    {
      "cell_type": "code",
      "source": [
        "import pickle\n",
        "# save the model to disk\n",
        "filename = 'finalized_model_random_forest.sav'\n",
        "pickle.dump(classifier_rf, open(filename, 'wb'))"
      ],
      "metadata": {
        "id": "dKrUnZa_IHo0"
      },
      "execution_count": null,
      "outputs": []
    },
    {
      "cell_type": "markdown",
      "source": [
        "Best among all the models"
      ],
      "metadata": {
        "id": "JJPGUODYX8hV"
      }
    },
    {
      "cell_type": "markdown",
      "source": [
        "XG Boost"
      ],
      "metadata": {
        "id": "RuiFqishahJg"
      }
    },
    {
      "cell_type": "code",
      "source": [
        "model = XGBClassifier()  \n",
        "model.fit(x_train , y_train)  "
      ],
      "metadata": {
        "colab": {
          "base_uri": "https://localhost:8080/"
        },
        "id": "kybPzDICZWam",
        "outputId": "92210dbc-69c5-4ae5-e34c-d1401f324248"
      },
      "execution_count": null,
      "outputs": [
        {
          "output_type": "execute_result",
          "data": {
            "text/plain": [
              "XGBClassifier()"
            ]
          },
          "metadata": {},
          "execution_count": 271
        }
      ]
    },
    {
      "cell_type": "code",
      "source": [
        "y_prediction = model.predict(x_test)  "
      ],
      "metadata": {
        "id": "rJpeyVpWa21u"
      },
      "execution_count": null,
      "outputs": []
    },
    {
      "cell_type": "code",
      "source": [
        "cm= confusion_matrix(y_test,y_pred) \n",
        "cr = classification_report(y_test,y_pred)"
      ],
      "metadata": {
        "id": "lORWINxDa8t9"
      },
      "execution_count": null,
      "outputs": []
    },
    {
      "cell_type": "code",
      "source": [
        "cm"
      ],
      "metadata": {
        "colab": {
          "base_uri": "https://localhost:8080/"
        },
        "id": "O9M_tu38a_-T",
        "outputId": "4603a155-86ad-40e2-917a-51e891203a1a"
      },
      "execution_count": null,
      "outputs": [
        {
          "output_type": "execute_result",
          "data": {
            "text/plain": [
              "array([[24912,  7959],\n",
              "       [ 6127, 11002]])"
            ]
          },
          "metadata": {},
          "execution_count": 274
        }
      ]
    },
    {
      "cell_type": "code",
      "source": [
        "print(cr)"
      ],
      "metadata": {
        "colab": {
          "base_uri": "https://localhost:8080/"
        },
        "id": "q0BrFriFbB_t",
        "outputId": "d9b4b59b-2a34-40a9-a038-212b185d86a1"
      },
      "execution_count": null,
      "outputs": [
        {
          "output_type": "stream",
          "name": "stdout",
          "text": [
            "              precision    recall  f1-score   support\n",
            "\n",
            "           0       0.80      0.76      0.78     32871\n",
            "           1       0.58      0.64      0.61     17129\n",
            "\n",
            "    accuracy                           0.72     50000\n",
            "   macro avg       0.69      0.70      0.69     50000\n",
            "weighted avg       0.73      0.72      0.72     50000\n",
            "\n"
          ]
        }
      ]
    },
    {
      "cell_type": "markdown",
      "source": [
        "Hyper_parameter tuning for XG Boost"
      ],
      "metadata": {
        "id": "t4Cw-we-bWut"
      }
    },
    {
      "cell_type": "markdown",
      "source": [
        "https://www.kaggle.com/code/prashant111/a-guide-on-xgboost-hyperparameters-tuning/notebook "
      ],
      "metadata": {
        "id": "3jW5UwkLcHsG"
      }
    },
    {
      "cell_type": "code",
      "source": [
        "from hyperopt import STATUS_OK, Trials, fmin, hp, tpe"
      ],
      "metadata": {
        "id": "evCK2Z5_cCYj"
      },
      "execution_count": null,
      "outputs": []
    },
    {
      "cell_type": "code",
      "source": [
        "space={'max_depth': hp.quniform(\"max_depth\", 3, 18, 1),\n",
        "        'gamma': hp.uniform ('gamma', 1,9),\n",
        "        'reg_alpha' : hp.quniform('reg_alpha', 40,180,1),\n",
        "        'reg_lambda' : hp.uniform('reg_lambda', 0,1),\n",
        "        'colsample_bytree' : hp.uniform('colsample_bytree', 0.5,1),\n",
        "        'min_child_weight' : hp.quniform('min_child_weight', 0, 10, 1),\n",
        "        'n_estimators': 180,\n",
        "        'seed': 0\n",
        "    }"
      ],
      "metadata": {
        "id": "H2vybrnFbGgQ"
      },
      "execution_count": null,
      "outputs": []
    },
    {
      "cell_type": "code",
      "source": [
        "def objective(space):\n",
        "    clf=XGBClassifier(\n",
        "                    n_estimators =space['n_estimators'], max_depth = int(space['max_depth']), gamma = space['gamma'],\n",
        "                    reg_alpha = int(space['reg_alpha']),min_child_weight=int(space['min_child_weight']),\n",
        "                    colsample_bytree=int(space['colsample_bytree']))\n",
        "    \n",
        "    evaluation = [( x_train, y_train), (x_test, y_test)]\n",
        "    \n",
        "    clf.fit(x_train, y_train,\n",
        "            eval_set=evaluation, eval_metric=\"auc\",\n",
        "            early_stopping_rounds=10,verbose=False)\n",
        "    \n",
        "\n",
        "    pred = clf.predict(x_test)\n",
        "    accuracy = accuracy_score(y_test, pred>0.5)\n",
        "    print (\"SCORE:\", accuracy)\n",
        "    return {'loss': -accuracy, 'status': STATUS_OK }"
      ],
      "metadata": {
        "id": "iNpuMVIicQJg"
      },
      "execution_count": null,
      "outputs": []
    },
    {
      "cell_type": "code",
      "source": [
        "trials = Trials()\n",
        "\n",
        "best_hyperparams = fmin(fn = objective,\n",
        "                        space = space,\n",
        "                        algo = tpe.suggest,\n",
        "                        max_evals = 100,\n",
        "                        trials = trials)"
      ],
      "metadata": {
        "colab": {
          "base_uri": "https://localhost:8080/"
        },
        "id": "y2OQ6S0fcn0m",
        "outputId": "8f4c5d7d-1f6a-4d40-d8fd-05fb588ebe69"
      },
      "execution_count": null,
      "outputs": [
        {
          "output_type": "stream",
          "name": "stdout",
          "text": [
            "SCORE:\n",
            "0.69768\n",
            "SCORE:\n",
            "0.69776\n",
            "SCORE:\n",
            "0.68904\n",
            "SCORE:\n",
            "0.69812\n",
            "SCORE:\n",
            "0.69812\n",
            "SCORE:\n",
            "0.69948\n",
            "SCORE:\n",
            "0.6995\n",
            "SCORE:\n",
            "0.69812\n",
            "SCORE:\n",
            "0.69774\n",
            "SCORE:\n",
            "0.6995\n",
            "SCORE:\n",
            "0.70048\n",
            "SCORE:\n",
            "0.69946\n",
            "SCORE:\n",
            "0.69812\n",
            "SCORE:\n",
            "0.69874\n",
            "SCORE:\n",
            "0.70126\n",
            "SCORE:\n",
            "0.68902\n",
            "SCORE:\n",
            "0.6995\n",
            "SCORE:\n",
            "0.7012\n",
            "SCORE:\n",
            "0.68904\n",
            "SCORE:\n",
            "0.69812\n",
            "SCORE:\n",
            "0.69948\n",
            "SCORE:\n",
            "0.69956\n",
            "SCORE:\n",
            "0.7012\n",
            "SCORE:\n",
            "0.69998\n",
            "SCORE:\n",
            "0.70098\n",
            "SCORE:\n",
            "0.6978\n",
            "SCORE:\n",
            "0.69902\n",
            "SCORE:\n",
            "0.69912\n",
            "SCORE:\n",
            "0.69956\n",
            "SCORE:\n",
            "0.6978\n",
            "SCORE:\n",
            "0.69954\n",
            "SCORE:\n",
            "0.69998\n",
            "SCORE:\n",
            "0.69822\n",
            "SCORE:\n",
            "0.69966\n",
            "SCORE:\n",
            "0.7012\n",
            "SCORE:\n",
            "0.69768\n",
            "SCORE:\n",
            "0.7025\n",
            "SCORE:\n",
            "0.69968\n",
            "SCORE:\n",
            "0.69946\n",
            "SCORE:\n",
            "0.69954\n",
            "SCORE:\n",
            "0.69942\n",
            "SCORE:\n",
            "0.6978\n",
            "SCORE:\n",
            "0.69728\n",
            "SCORE:\n",
            "0.69956\n",
            "SCORE:\n",
            "0.69954\n",
            "SCORE:\n",
            "0.69948\n",
            "SCORE:\n",
            "0.69822\n",
            "SCORE:\n",
            "0.69912\n",
            "SCORE:\n",
            "0.70004\n",
            "SCORE:\n",
            "0.69728\n",
            "SCORE:\n",
            "0.69958\n",
            "SCORE:\n",
            "0.69902\n",
            "SCORE:\n",
            "0.6995\n",
            "SCORE:\n",
            "0.6995\n",
            "SCORE:\n",
            "0.69948\n",
            "SCORE:\n",
            "0.70102\n",
            "SCORE:\n",
            "0.69838\n",
            "SCORE:\n",
            "0.6995\n",
            "SCORE:\n",
            "0.69998\n",
            "SCORE:\n",
            "0.69998\n",
            "SCORE:\n",
            "0.6985\n",
            "SCORE:\n",
            "0.69912\n",
            "SCORE:\n",
            "0.69936\n",
            "SCORE:\n",
            "0.69968\n",
            "SCORE:\n",
            "0.69946\n",
            "SCORE:\n",
            "0.7012\n",
            "SCORE:\n",
            "0.70024\n",
            "SCORE:\n",
            "0.7012\n",
            "SCORE:\n",
            "0.69998\n",
            "SCORE:\n",
            "0.6995\n",
            "SCORE:\n",
            "0.69954\n",
            "SCORE:\n",
            "0.69998\n",
            "SCORE:\n",
            "0.7025\n",
            "SCORE:\n",
            "0.69954\n",
            "SCORE:\n",
            "0.69946\n",
            "SCORE:\n",
            "0.7025\n",
            "SCORE:\n",
            "0.7025\n",
            "SCORE:\n",
            "0.6995\n",
            "SCORE:\n",
            "0.70024\n",
            "SCORE:\n",
            "0.7025\n",
            "SCORE:\n",
            "0.7035\n",
            "SCORE:\n",
            "0.7035\n",
            "SCORE:\n",
            "0.69966\n",
            "SCORE:\n",
            "0.7035\n",
            "SCORE:\n",
            "0.69966\n",
            "SCORE:\n",
            "0.70024\n",
            "SCORE:\n",
            "0.7035\n",
            "SCORE:\n",
            "0.70024\n",
            "SCORE:\n",
            "0.70024\n",
            "SCORE:\n",
            "0.69812\n",
            "SCORE:\n",
            "0.7012\n",
            "SCORE:\n",
            "0.68904\n",
            "SCORE:\n",
            "0.7017\n",
            "SCORE:\n",
            "0.6995\n",
            "SCORE:\n",
            "0.69754\n",
            "SCORE:\n",
            "0.6995\n",
            "SCORE:\n",
            "0.7035\n",
            "SCORE:\n",
            "0.6995\n",
            "SCORE:\n",
            "0.69998\n",
            "SCORE:\n",
            "0.6995\n",
            "100%|██████████| 100/100 [05:03<00:00,  3.03s/it, best loss: -0.7035]\n"
          ]
        }
      ]
    },
    {
      "cell_type": "code",
      "source": [
        "print(\"The best hyperparameters are : \",\"\\n\")\n",
        "print(best_hyperparams)"
      ],
      "metadata": {
        "colab": {
          "base_uri": "https://localhost:8080/"
        },
        "id": "dmDi20mecpKO",
        "outputId": "b6c892b5-cce9-4f67-efd4-1a9b19ace37f"
      },
      "execution_count": null,
      "outputs": [
        {
          "output_type": "stream",
          "name": "stdout",
          "text": [
            "The best hyperparameters are :  \n",
            "\n",
            "{'colsample_bytree': 0.882080178343137, 'gamma': 5.521597701995269, 'max_depth': 4.0, 'min_child_weight': 2.0, 'reg_alpha': 49.0, 'reg_lambda': 0.30813537246321726}\n"
          ]
        }
      ]
    },
    {
      "cell_type": "code",
      "source": [
        "model = XGBClassifier(colsample_bytree =  0.882080178343137, gamma = 5.521597701995269, max_depth=4 , min_child_weight= 2.0, reg_alpha = 49.0, reg_lambda = 0.30813537246321726)  \n",
        "model.fit(x_train , y_train)  "
      ],
      "metadata": {
        "colab": {
          "base_uri": "https://localhost:8080/"
        },
        "id": "sL-nqd8JpX7E",
        "outputId": "a30e6685-6f14-4109-dd5c-9b240b23617d"
      },
      "execution_count": null,
      "outputs": [
        {
          "output_type": "execute_result",
          "data": {
            "text/plain": [
              "XGBClassifier(colsample_bytree=0.882080178343137, gamma=5.521597701995269,\n",
              "              max_depth=4, min_child_weight=2.0, reg_alpha=49.0,\n",
              "              reg_lambda=0.30813537246321726)"
            ]
          },
          "metadata": {},
          "execution_count": 281
        }
      ]
    },
    {
      "cell_type": "code",
      "source": [
        "y_prediction = model.predict(x_test) "
      ],
      "metadata": {
        "id": "KB5FCm6Up739"
      },
      "execution_count": null,
      "outputs": []
    },
    {
      "cell_type": "code",
      "source": [
        "cm= confusion_matrix(y_test,y_pred) \n",
        "cr = classification_report(y_test,y_pred)"
      ],
      "metadata": {
        "id": "RyFvnukyqIft"
      },
      "execution_count": null,
      "outputs": []
    },
    {
      "cell_type": "code",
      "source": [
        "cm"
      ],
      "metadata": {
        "colab": {
          "base_uri": "https://localhost:8080/"
        },
        "id": "tvUJ4FSAqJ0A",
        "outputId": "cee2779e-65eb-423b-fa19-dbdb3a085deb"
      },
      "execution_count": null,
      "outputs": [
        {
          "output_type": "execute_result",
          "data": {
            "text/plain": [
              "array([[24912,  7959],\n",
              "       [ 6127, 11002]])"
            ]
          },
          "metadata": {},
          "execution_count": 284
        }
      ]
    },
    {
      "cell_type": "code",
      "source": [
        "print(cr)"
      ],
      "metadata": {
        "colab": {
          "base_uri": "https://localhost:8080/"
        },
        "id": "TDrN3od-qLSd",
        "outputId": "650f6783-a125-41e2-c01d-895ca5767c6c"
      },
      "execution_count": null,
      "outputs": [
        {
          "output_type": "stream",
          "name": "stdout",
          "text": [
            "              precision    recall  f1-score   support\n",
            "\n",
            "           0       0.80      0.76      0.78     32871\n",
            "           1       0.58      0.64      0.61     17129\n",
            "\n",
            "    accuracy                           0.72     50000\n",
            "   macro avg       0.69      0.70      0.69     50000\n",
            "weighted avg       0.73      0.72      0.72     50000\n",
            "\n"
          ]
        }
      ]
    },
    {
      "cell_type": "markdown",
      "source": [
        "ok..But not good"
      ],
      "metadata": {
        "id": "SX3UuAR0YGic"
      }
    },
    {
      "cell_type": "markdown",
      "source": [
        "#Step 6: Principal Component Analysis"
      ],
      "metadata": {
        "id": "fYq9g_C24nK1"
      }
    },
    {
      "cell_type": "code",
      "source": [
        "from sklearn.decomposition import PCA"
      ],
      "metadata": {
        "id": "gfqcSO_34g10"
      },
      "execution_count": null,
      "outputs": []
    },
    {
      "cell_type": "code",
      "source": [
        "pca = PCA()"
      ],
      "metadata": {
        "id": "qiZkMQXTNW2O"
      },
      "execution_count": null,
      "outputs": []
    },
    {
      "cell_type": "code",
      "source": [
        "train_checkpoint"
      ],
      "metadata": {
        "colab": {
          "base_uri": "https://localhost:8080/",
          "height": 488
        },
        "id": "tuk4ep4yNgtB",
        "outputId": "d07f0dff-9daa-4a65-eb95-05f4c2f13fea"
      },
      "execution_count": null,
      "outputs": [
        {
          "output_type": "execute_result",
          "data": {
            "text/plain": [
              "        EventId  DER_mass_transverse_met_lep  DER_mass_vis  DER_pt_h  \\\n",
              "0        100000                       51.655        97.827    27.980   \n",
              "1        100001                       68.768       103.235    48.146   \n",
              "2        100002                      162.172       125.953    35.635   \n",
              "3        100003                       81.417        80.943     0.414   \n",
              "4        100004                       16.915       134.805    16.405   \n",
              "...         ...                          ...           ...       ...   \n",
              "249995   349995                       71.989        36.548     5.042   \n",
              "249996   349996                       58.179        68.083    22.439   \n",
              "249997   349997                       60.526        75.839    39.757   \n",
              "249998   349998                       19.362        68.812    13.504   \n",
              "249999   349999                       72.756        70.831     7.479   \n",
              "\n",
              "        DER_deltar_tau_lep  DER_pt_tot  DER_pt_ratio_lep_tau  \\\n",
              "0                    3.064      41.928                 1.582   \n",
              "1                    3.473       2.078                 0.879   \n",
              "2                    3.148       9.336                 3.776   \n",
              "3                    3.310       0.414                 2.354   \n",
              "4                    3.891      16.405                 1.056   \n",
              "...                    ...         ...                   ...   \n",
              "249995               1.392       5.042                 1.258   \n",
              "249996               2.585      22.439                 1.162   \n",
              "249997               2.390      22.183                 1.202   \n",
              "249998               3.365      13.504                 0.999   \n",
              "249999               2.025       7.479                 0.936   \n",
              "\n",
              "        DER_met_phi_centrality  PRI_tau_pt  PRI_tau_eta  PRI_tau_phi  \\\n",
              "0                        1.396      32.638        1.017        0.381   \n",
              "1                        1.414      42.014        2.039       -3.011   \n",
              "2                        1.414      32.154       -0.705       -2.093   \n",
              "3                       -1.285      22.647       -1.655        0.010   \n",
              "4                       -1.385      28.209       -2.197       -2.231   \n",
              "...                        ...         ...          ...          ...   \n",
              "249995                  -1.414      24.754       -0.414       -0.905   \n",
              "249996                  -1.345      23.416       -1.609        2.776   \n",
              "249997                   0.529      35.636       -0.266       -3.132   \n",
              "249998                   1.414      27.944       -2.211        2.792   \n",
              "249999                  -1.411      43.003        1.685        2.653   \n",
              "\n",
              "        PRI_lep_pt  PRI_lep_eta  PRI_lep_phi  PRI_met  PRI_met_phi  Label  \n",
              "0           51.626        2.273       -2.414   16.824       -0.277      1  \n",
              "1           36.918        0.501        0.103   44.704       -1.916      0  \n",
              "2          121.409       -0.953        1.052   54.283       -2.186      0  \n",
              "3           53.321       -0.522       -3.100   31.082        0.060      0  \n",
              "4           29.774        0.798        1.569    2.723       -0.871      0  \n",
              "...            ...          ...          ...      ...          ...    ...  \n",
              "249995      31.137       -0.950        0.380   46.520        2.859      0  \n",
              "249996      27.202        0.308        1.042   46.737       -0.867      0  \n",
              "249997      42.834        0.381        0.851   23.419       -2.890      1  \n",
              "249998      27.915       -0.874       -0.296   12.150        0.811      0  \n",
              "249999      40.236        1.490        0.637   40.729       -1.596      0  \n",
              "\n",
              "[250000 rows x 17 columns]"
            ],
            "text/html": [
              "\n",
              "  <div id=\"df-a1b9cc09-d42f-4137-b9d7-50cf266431e4\">\n",
              "    <div class=\"colab-df-container\">\n",
              "      <div>\n",
              "<style scoped>\n",
              "    .dataframe tbody tr th:only-of-type {\n",
              "        vertical-align: middle;\n",
              "    }\n",
              "\n",
              "    .dataframe tbody tr th {\n",
              "        vertical-align: top;\n",
              "    }\n",
              "\n",
              "    .dataframe thead th {\n",
              "        text-align: right;\n",
              "    }\n",
              "</style>\n",
              "<table border=\"1\" class=\"dataframe\">\n",
              "  <thead>\n",
              "    <tr style=\"text-align: right;\">\n",
              "      <th></th>\n",
              "      <th>EventId</th>\n",
              "      <th>DER_mass_transverse_met_lep</th>\n",
              "      <th>DER_mass_vis</th>\n",
              "      <th>DER_pt_h</th>\n",
              "      <th>DER_deltar_tau_lep</th>\n",
              "      <th>DER_pt_tot</th>\n",
              "      <th>DER_pt_ratio_lep_tau</th>\n",
              "      <th>DER_met_phi_centrality</th>\n",
              "      <th>PRI_tau_pt</th>\n",
              "      <th>PRI_tau_eta</th>\n",
              "      <th>PRI_tau_phi</th>\n",
              "      <th>PRI_lep_pt</th>\n",
              "      <th>PRI_lep_eta</th>\n",
              "      <th>PRI_lep_phi</th>\n",
              "      <th>PRI_met</th>\n",
              "      <th>PRI_met_phi</th>\n",
              "      <th>Label</th>\n",
              "    </tr>\n",
              "  </thead>\n",
              "  <tbody>\n",
              "    <tr>\n",
              "      <th>0</th>\n",
              "      <td>100000</td>\n",
              "      <td>51.655</td>\n",
              "      <td>97.827</td>\n",
              "      <td>27.980</td>\n",
              "      <td>3.064</td>\n",
              "      <td>41.928</td>\n",
              "      <td>1.582</td>\n",
              "      <td>1.396</td>\n",
              "      <td>32.638</td>\n",
              "      <td>1.017</td>\n",
              "      <td>0.381</td>\n",
              "      <td>51.626</td>\n",
              "      <td>2.273</td>\n",
              "      <td>-2.414</td>\n",
              "      <td>16.824</td>\n",
              "      <td>-0.277</td>\n",
              "      <td>1</td>\n",
              "    </tr>\n",
              "    <tr>\n",
              "      <th>1</th>\n",
              "      <td>100001</td>\n",
              "      <td>68.768</td>\n",
              "      <td>103.235</td>\n",
              "      <td>48.146</td>\n",
              "      <td>3.473</td>\n",
              "      <td>2.078</td>\n",
              "      <td>0.879</td>\n",
              "      <td>1.414</td>\n",
              "      <td>42.014</td>\n",
              "      <td>2.039</td>\n",
              "      <td>-3.011</td>\n",
              "      <td>36.918</td>\n",
              "      <td>0.501</td>\n",
              "      <td>0.103</td>\n",
              "      <td>44.704</td>\n",
              "      <td>-1.916</td>\n",
              "      <td>0</td>\n",
              "    </tr>\n",
              "    <tr>\n",
              "      <th>2</th>\n",
              "      <td>100002</td>\n",
              "      <td>162.172</td>\n",
              "      <td>125.953</td>\n",
              "      <td>35.635</td>\n",
              "      <td>3.148</td>\n",
              "      <td>9.336</td>\n",
              "      <td>3.776</td>\n",
              "      <td>1.414</td>\n",
              "      <td>32.154</td>\n",
              "      <td>-0.705</td>\n",
              "      <td>-2.093</td>\n",
              "      <td>121.409</td>\n",
              "      <td>-0.953</td>\n",
              "      <td>1.052</td>\n",
              "      <td>54.283</td>\n",
              "      <td>-2.186</td>\n",
              "      <td>0</td>\n",
              "    </tr>\n",
              "    <tr>\n",
              "      <th>3</th>\n",
              "      <td>100003</td>\n",
              "      <td>81.417</td>\n",
              "      <td>80.943</td>\n",
              "      <td>0.414</td>\n",
              "      <td>3.310</td>\n",
              "      <td>0.414</td>\n",
              "      <td>2.354</td>\n",
              "      <td>-1.285</td>\n",
              "      <td>22.647</td>\n",
              "      <td>-1.655</td>\n",
              "      <td>0.010</td>\n",
              "      <td>53.321</td>\n",
              "      <td>-0.522</td>\n",
              "      <td>-3.100</td>\n",
              "      <td>31.082</td>\n",
              "      <td>0.060</td>\n",
              "      <td>0</td>\n",
              "    </tr>\n",
              "    <tr>\n",
              "      <th>4</th>\n",
              "      <td>100004</td>\n",
              "      <td>16.915</td>\n",
              "      <td>134.805</td>\n",
              "      <td>16.405</td>\n",
              "      <td>3.891</td>\n",
              "      <td>16.405</td>\n",
              "      <td>1.056</td>\n",
              "      <td>-1.385</td>\n",
              "      <td>28.209</td>\n",
              "      <td>-2.197</td>\n",
              "      <td>-2.231</td>\n",
              "      <td>29.774</td>\n",
              "      <td>0.798</td>\n",
              "      <td>1.569</td>\n",
              "      <td>2.723</td>\n",
              "      <td>-0.871</td>\n",
              "      <td>0</td>\n",
              "    </tr>\n",
              "    <tr>\n",
              "      <th>...</th>\n",
              "      <td>...</td>\n",
              "      <td>...</td>\n",
              "      <td>...</td>\n",
              "      <td>...</td>\n",
              "      <td>...</td>\n",
              "      <td>...</td>\n",
              "      <td>...</td>\n",
              "      <td>...</td>\n",
              "      <td>...</td>\n",
              "      <td>...</td>\n",
              "      <td>...</td>\n",
              "      <td>...</td>\n",
              "      <td>...</td>\n",
              "      <td>...</td>\n",
              "      <td>...</td>\n",
              "      <td>...</td>\n",
              "      <td>...</td>\n",
              "    </tr>\n",
              "    <tr>\n",
              "      <th>249995</th>\n",
              "      <td>349995</td>\n",
              "      <td>71.989</td>\n",
              "      <td>36.548</td>\n",
              "      <td>5.042</td>\n",
              "      <td>1.392</td>\n",
              "      <td>5.042</td>\n",
              "      <td>1.258</td>\n",
              "      <td>-1.414</td>\n",
              "      <td>24.754</td>\n",
              "      <td>-0.414</td>\n",
              "      <td>-0.905</td>\n",
              "      <td>31.137</td>\n",
              "      <td>-0.950</td>\n",
              "      <td>0.380</td>\n",
              "      <td>46.520</td>\n",
              "      <td>2.859</td>\n",
              "      <td>0</td>\n",
              "    </tr>\n",
              "    <tr>\n",
              "      <th>249996</th>\n",
              "      <td>349996</td>\n",
              "      <td>58.179</td>\n",
              "      <td>68.083</td>\n",
              "      <td>22.439</td>\n",
              "      <td>2.585</td>\n",
              "      <td>22.439</td>\n",
              "      <td>1.162</td>\n",
              "      <td>-1.345</td>\n",
              "      <td>23.416</td>\n",
              "      <td>-1.609</td>\n",
              "      <td>2.776</td>\n",
              "      <td>27.202</td>\n",
              "      <td>0.308</td>\n",
              "      <td>1.042</td>\n",
              "      <td>46.737</td>\n",
              "      <td>-0.867</td>\n",
              "      <td>0</td>\n",
              "    </tr>\n",
              "    <tr>\n",
              "      <th>249997</th>\n",
              "      <td>349997</td>\n",
              "      <td>60.526</td>\n",
              "      <td>75.839</td>\n",
              "      <td>39.757</td>\n",
              "      <td>2.390</td>\n",
              "      <td>22.183</td>\n",
              "      <td>1.202</td>\n",
              "      <td>0.529</td>\n",
              "      <td>35.636</td>\n",
              "      <td>-0.266</td>\n",
              "      <td>-3.132</td>\n",
              "      <td>42.834</td>\n",
              "      <td>0.381</td>\n",
              "      <td>0.851</td>\n",
              "      <td>23.419</td>\n",
              "      <td>-2.890</td>\n",
              "      <td>1</td>\n",
              "    </tr>\n",
              "    <tr>\n",
              "      <th>249998</th>\n",
              "      <td>349998</td>\n",
              "      <td>19.362</td>\n",
              "      <td>68.812</td>\n",
              "      <td>13.504</td>\n",
              "      <td>3.365</td>\n",
              "      <td>13.504</td>\n",
              "      <td>0.999</td>\n",
              "      <td>1.414</td>\n",
              "      <td>27.944</td>\n",
              "      <td>-2.211</td>\n",
              "      <td>2.792</td>\n",
              "      <td>27.915</td>\n",
              "      <td>-0.874</td>\n",
              "      <td>-0.296</td>\n",
              "      <td>12.150</td>\n",
              "      <td>0.811</td>\n",
              "      <td>0</td>\n",
              "    </tr>\n",
              "    <tr>\n",
              "      <th>249999</th>\n",
              "      <td>349999</td>\n",
              "      <td>72.756</td>\n",
              "      <td>70.831</td>\n",
              "      <td>7.479</td>\n",
              "      <td>2.025</td>\n",
              "      <td>7.479</td>\n",
              "      <td>0.936</td>\n",
              "      <td>-1.411</td>\n",
              "      <td>43.003</td>\n",
              "      <td>1.685</td>\n",
              "      <td>2.653</td>\n",
              "      <td>40.236</td>\n",
              "      <td>1.490</td>\n",
              "      <td>0.637</td>\n",
              "      <td>40.729</td>\n",
              "      <td>-1.596</td>\n",
              "      <td>0</td>\n",
              "    </tr>\n",
              "  </tbody>\n",
              "</table>\n",
              "<p>250000 rows × 17 columns</p>\n",
              "</div>\n",
              "      <button class=\"colab-df-convert\" onclick=\"convertToInteractive('df-a1b9cc09-d42f-4137-b9d7-50cf266431e4')\"\n",
              "              title=\"Convert this dataframe to an interactive table.\"\n",
              "              style=\"display:none;\">\n",
              "        \n",
              "  <svg xmlns=\"http://www.w3.org/2000/svg\" height=\"24px\"viewBox=\"0 0 24 24\"\n",
              "       width=\"24px\">\n",
              "    <path d=\"M0 0h24v24H0V0z\" fill=\"none\"/>\n",
              "    <path d=\"M18.56 5.44l.94 2.06.94-2.06 2.06-.94-2.06-.94-.94-2.06-.94 2.06-2.06.94zm-11 1L8.5 8.5l.94-2.06 2.06-.94-2.06-.94L8.5 2.5l-.94 2.06-2.06.94zm10 10l.94 2.06.94-2.06 2.06-.94-2.06-.94-.94-2.06-.94 2.06-2.06.94z\"/><path d=\"M17.41 7.96l-1.37-1.37c-.4-.4-.92-.59-1.43-.59-.52 0-1.04.2-1.43.59L10.3 9.45l-7.72 7.72c-.78.78-.78 2.05 0 2.83L4 21.41c.39.39.9.59 1.41.59.51 0 1.02-.2 1.41-.59l7.78-7.78 2.81-2.81c.8-.78.8-2.07 0-2.86zM5.41 20L4 18.59l7.72-7.72 1.47 1.35L5.41 20z\"/>\n",
              "  </svg>\n",
              "      </button>\n",
              "      \n",
              "  <style>\n",
              "    .colab-df-container {\n",
              "      display:flex;\n",
              "      flex-wrap:wrap;\n",
              "      gap: 12px;\n",
              "    }\n",
              "\n",
              "    .colab-df-convert {\n",
              "      background-color: #E8F0FE;\n",
              "      border: none;\n",
              "      border-radius: 50%;\n",
              "      cursor: pointer;\n",
              "      display: none;\n",
              "      fill: #1967D2;\n",
              "      height: 32px;\n",
              "      padding: 0 0 0 0;\n",
              "      width: 32px;\n",
              "    }\n",
              "\n",
              "    .colab-df-convert:hover {\n",
              "      background-color: #E2EBFA;\n",
              "      box-shadow: 0px 1px 2px rgba(60, 64, 67, 0.3), 0px 1px 3px 1px rgba(60, 64, 67, 0.15);\n",
              "      fill: #174EA6;\n",
              "    }\n",
              "\n",
              "    [theme=dark] .colab-df-convert {\n",
              "      background-color: #3B4455;\n",
              "      fill: #D2E3FC;\n",
              "    }\n",
              "\n",
              "    [theme=dark] .colab-df-convert:hover {\n",
              "      background-color: #434B5C;\n",
              "      box-shadow: 0px 1px 3px 1px rgba(0, 0, 0, 0.15);\n",
              "      filter: drop-shadow(0px 1px 2px rgba(0, 0, 0, 0.3));\n",
              "      fill: #FFFFFF;\n",
              "    }\n",
              "  </style>\n",
              "\n",
              "      <script>\n",
              "        const buttonEl =\n",
              "          document.querySelector('#df-a1b9cc09-d42f-4137-b9d7-50cf266431e4 button.colab-df-convert');\n",
              "        buttonEl.style.display =\n",
              "          google.colab.kernel.accessAllowed ? 'block' : 'none';\n",
              "\n",
              "        async function convertToInteractive(key) {\n",
              "          const element = document.querySelector('#df-a1b9cc09-d42f-4137-b9d7-50cf266431e4');\n",
              "          const dataTable =\n",
              "            await google.colab.kernel.invokeFunction('convertToInteractive',\n",
              "                                                     [key], {});\n",
              "          if (!dataTable) return;\n",
              "\n",
              "          const docLinkHtml = 'Like what you see? Visit the ' +\n",
              "            '<a target=\"_blank\" href=https://colab.research.google.com/notebooks/data_table.ipynb>data table notebook</a>'\n",
              "            + ' to learn more about interactive tables.';\n",
              "          element.innerHTML = '';\n",
              "          dataTable['output_type'] = 'display_data';\n",
              "          await google.colab.output.renderOutput(dataTable, element);\n",
              "          const docLink = document.createElement('div');\n",
              "          docLink.innerHTML = docLinkHtml;\n",
              "          element.appendChild(docLink);\n",
              "        }\n",
              "      </script>\n",
              "    </div>\n",
              "  </div>\n",
              "  "
            ]
          },
          "metadata": {},
          "execution_count": 125
        }
      ]
    },
    {
      "cell_type": "code",
      "source": [
        "data  = train_checkpoint.iloc[:,1:16]"
      ],
      "metadata": {
        "id": "8Gw8vHxyODZ1"
      },
      "execution_count": null,
      "outputs": []
    },
    {
      "cell_type": "code",
      "source": [
        "data"
      ],
      "metadata": {
        "colab": {
          "base_uri": "https://localhost:8080/",
          "height": 488
        },
        "id": "vMmhUfmBOaes",
        "outputId": "4d24e597-e960-4a9f-afee-864fb284d2a6"
      },
      "execution_count": null,
      "outputs": [
        {
          "output_type": "execute_result",
          "data": {
            "text/plain": [
              "        DER_mass_transverse_met_lep  DER_mass_vis  DER_pt_h  \\\n",
              "0                            51.655        97.827    27.980   \n",
              "1                            68.768       103.235    48.146   \n",
              "2                           162.172       125.953    35.635   \n",
              "3                            81.417        80.943     0.414   \n",
              "4                            16.915       134.805    16.405   \n",
              "...                             ...           ...       ...   \n",
              "249995                       71.989        36.548     5.042   \n",
              "249996                       58.179        68.083    22.439   \n",
              "249997                       60.526        75.839    39.757   \n",
              "249998                       19.362        68.812    13.504   \n",
              "249999                       72.756        70.831     7.479   \n",
              "\n",
              "        DER_deltar_tau_lep  DER_pt_tot  DER_pt_ratio_lep_tau  \\\n",
              "0                    3.064      41.928                 1.582   \n",
              "1                    3.473       2.078                 0.879   \n",
              "2                    3.148       9.336                 3.776   \n",
              "3                    3.310       0.414                 2.354   \n",
              "4                    3.891      16.405                 1.056   \n",
              "...                    ...         ...                   ...   \n",
              "249995               1.392       5.042                 1.258   \n",
              "249996               2.585      22.439                 1.162   \n",
              "249997               2.390      22.183                 1.202   \n",
              "249998               3.365      13.504                 0.999   \n",
              "249999               2.025       7.479                 0.936   \n",
              "\n",
              "        DER_met_phi_centrality  PRI_tau_pt  PRI_tau_eta  PRI_tau_phi  \\\n",
              "0                        1.396      32.638        1.017        0.381   \n",
              "1                        1.414      42.014        2.039       -3.011   \n",
              "2                        1.414      32.154       -0.705       -2.093   \n",
              "3                       -1.285      22.647       -1.655        0.010   \n",
              "4                       -1.385      28.209       -2.197       -2.231   \n",
              "...                        ...         ...          ...          ...   \n",
              "249995                  -1.414      24.754       -0.414       -0.905   \n",
              "249996                  -1.345      23.416       -1.609        2.776   \n",
              "249997                   0.529      35.636       -0.266       -3.132   \n",
              "249998                   1.414      27.944       -2.211        2.792   \n",
              "249999                  -1.411      43.003        1.685        2.653   \n",
              "\n",
              "        PRI_lep_pt  PRI_lep_eta  PRI_lep_phi  PRI_met  PRI_met_phi  \n",
              "0           51.626        2.273       -2.414   16.824       -0.277  \n",
              "1           36.918        0.501        0.103   44.704       -1.916  \n",
              "2          121.409       -0.953        1.052   54.283       -2.186  \n",
              "3           53.321       -0.522       -3.100   31.082        0.060  \n",
              "4           29.774        0.798        1.569    2.723       -0.871  \n",
              "...            ...          ...          ...      ...          ...  \n",
              "249995      31.137       -0.950        0.380   46.520        2.859  \n",
              "249996      27.202        0.308        1.042   46.737       -0.867  \n",
              "249997      42.834        0.381        0.851   23.419       -2.890  \n",
              "249998      27.915       -0.874       -0.296   12.150        0.811  \n",
              "249999      40.236        1.490        0.637   40.729       -1.596  \n",
              "\n",
              "[250000 rows x 15 columns]"
            ],
            "text/html": [
              "\n",
              "  <div id=\"df-0826c2d4-58b2-48d2-a54c-e1bc4e802585\">\n",
              "    <div class=\"colab-df-container\">\n",
              "      <div>\n",
              "<style scoped>\n",
              "    .dataframe tbody tr th:only-of-type {\n",
              "        vertical-align: middle;\n",
              "    }\n",
              "\n",
              "    .dataframe tbody tr th {\n",
              "        vertical-align: top;\n",
              "    }\n",
              "\n",
              "    .dataframe thead th {\n",
              "        text-align: right;\n",
              "    }\n",
              "</style>\n",
              "<table border=\"1\" class=\"dataframe\">\n",
              "  <thead>\n",
              "    <tr style=\"text-align: right;\">\n",
              "      <th></th>\n",
              "      <th>DER_mass_transverse_met_lep</th>\n",
              "      <th>DER_mass_vis</th>\n",
              "      <th>DER_pt_h</th>\n",
              "      <th>DER_deltar_tau_lep</th>\n",
              "      <th>DER_pt_tot</th>\n",
              "      <th>DER_pt_ratio_lep_tau</th>\n",
              "      <th>DER_met_phi_centrality</th>\n",
              "      <th>PRI_tau_pt</th>\n",
              "      <th>PRI_tau_eta</th>\n",
              "      <th>PRI_tau_phi</th>\n",
              "      <th>PRI_lep_pt</th>\n",
              "      <th>PRI_lep_eta</th>\n",
              "      <th>PRI_lep_phi</th>\n",
              "      <th>PRI_met</th>\n",
              "      <th>PRI_met_phi</th>\n",
              "    </tr>\n",
              "  </thead>\n",
              "  <tbody>\n",
              "    <tr>\n",
              "      <th>0</th>\n",
              "      <td>51.655</td>\n",
              "      <td>97.827</td>\n",
              "      <td>27.980</td>\n",
              "      <td>3.064</td>\n",
              "      <td>41.928</td>\n",
              "      <td>1.582</td>\n",
              "      <td>1.396</td>\n",
              "      <td>32.638</td>\n",
              "      <td>1.017</td>\n",
              "      <td>0.381</td>\n",
              "      <td>51.626</td>\n",
              "      <td>2.273</td>\n",
              "      <td>-2.414</td>\n",
              "      <td>16.824</td>\n",
              "      <td>-0.277</td>\n",
              "    </tr>\n",
              "    <tr>\n",
              "      <th>1</th>\n",
              "      <td>68.768</td>\n",
              "      <td>103.235</td>\n",
              "      <td>48.146</td>\n",
              "      <td>3.473</td>\n",
              "      <td>2.078</td>\n",
              "      <td>0.879</td>\n",
              "      <td>1.414</td>\n",
              "      <td>42.014</td>\n",
              "      <td>2.039</td>\n",
              "      <td>-3.011</td>\n",
              "      <td>36.918</td>\n",
              "      <td>0.501</td>\n",
              "      <td>0.103</td>\n",
              "      <td>44.704</td>\n",
              "      <td>-1.916</td>\n",
              "    </tr>\n",
              "    <tr>\n",
              "      <th>2</th>\n",
              "      <td>162.172</td>\n",
              "      <td>125.953</td>\n",
              "      <td>35.635</td>\n",
              "      <td>3.148</td>\n",
              "      <td>9.336</td>\n",
              "      <td>3.776</td>\n",
              "      <td>1.414</td>\n",
              "      <td>32.154</td>\n",
              "      <td>-0.705</td>\n",
              "      <td>-2.093</td>\n",
              "      <td>121.409</td>\n",
              "      <td>-0.953</td>\n",
              "      <td>1.052</td>\n",
              "      <td>54.283</td>\n",
              "      <td>-2.186</td>\n",
              "    </tr>\n",
              "    <tr>\n",
              "      <th>3</th>\n",
              "      <td>81.417</td>\n",
              "      <td>80.943</td>\n",
              "      <td>0.414</td>\n",
              "      <td>3.310</td>\n",
              "      <td>0.414</td>\n",
              "      <td>2.354</td>\n",
              "      <td>-1.285</td>\n",
              "      <td>22.647</td>\n",
              "      <td>-1.655</td>\n",
              "      <td>0.010</td>\n",
              "      <td>53.321</td>\n",
              "      <td>-0.522</td>\n",
              "      <td>-3.100</td>\n",
              "      <td>31.082</td>\n",
              "      <td>0.060</td>\n",
              "    </tr>\n",
              "    <tr>\n",
              "      <th>4</th>\n",
              "      <td>16.915</td>\n",
              "      <td>134.805</td>\n",
              "      <td>16.405</td>\n",
              "      <td>3.891</td>\n",
              "      <td>16.405</td>\n",
              "      <td>1.056</td>\n",
              "      <td>-1.385</td>\n",
              "      <td>28.209</td>\n",
              "      <td>-2.197</td>\n",
              "      <td>-2.231</td>\n",
              "      <td>29.774</td>\n",
              "      <td>0.798</td>\n",
              "      <td>1.569</td>\n",
              "      <td>2.723</td>\n",
              "      <td>-0.871</td>\n",
              "    </tr>\n",
              "    <tr>\n",
              "      <th>...</th>\n",
              "      <td>...</td>\n",
              "      <td>...</td>\n",
              "      <td>...</td>\n",
              "      <td>...</td>\n",
              "      <td>...</td>\n",
              "      <td>...</td>\n",
              "      <td>...</td>\n",
              "      <td>...</td>\n",
              "      <td>...</td>\n",
              "      <td>...</td>\n",
              "      <td>...</td>\n",
              "      <td>...</td>\n",
              "      <td>...</td>\n",
              "      <td>...</td>\n",
              "      <td>...</td>\n",
              "    </tr>\n",
              "    <tr>\n",
              "      <th>249995</th>\n",
              "      <td>71.989</td>\n",
              "      <td>36.548</td>\n",
              "      <td>5.042</td>\n",
              "      <td>1.392</td>\n",
              "      <td>5.042</td>\n",
              "      <td>1.258</td>\n",
              "      <td>-1.414</td>\n",
              "      <td>24.754</td>\n",
              "      <td>-0.414</td>\n",
              "      <td>-0.905</td>\n",
              "      <td>31.137</td>\n",
              "      <td>-0.950</td>\n",
              "      <td>0.380</td>\n",
              "      <td>46.520</td>\n",
              "      <td>2.859</td>\n",
              "    </tr>\n",
              "    <tr>\n",
              "      <th>249996</th>\n",
              "      <td>58.179</td>\n",
              "      <td>68.083</td>\n",
              "      <td>22.439</td>\n",
              "      <td>2.585</td>\n",
              "      <td>22.439</td>\n",
              "      <td>1.162</td>\n",
              "      <td>-1.345</td>\n",
              "      <td>23.416</td>\n",
              "      <td>-1.609</td>\n",
              "      <td>2.776</td>\n",
              "      <td>27.202</td>\n",
              "      <td>0.308</td>\n",
              "      <td>1.042</td>\n",
              "      <td>46.737</td>\n",
              "      <td>-0.867</td>\n",
              "    </tr>\n",
              "    <tr>\n",
              "      <th>249997</th>\n",
              "      <td>60.526</td>\n",
              "      <td>75.839</td>\n",
              "      <td>39.757</td>\n",
              "      <td>2.390</td>\n",
              "      <td>22.183</td>\n",
              "      <td>1.202</td>\n",
              "      <td>0.529</td>\n",
              "      <td>35.636</td>\n",
              "      <td>-0.266</td>\n",
              "      <td>-3.132</td>\n",
              "      <td>42.834</td>\n",
              "      <td>0.381</td>\n",
              "      <td>0.851</td>\n",
              "      <td>23.419</td>\n",
              "      <td>-2.890</td>\n",
              "    </tr>\n",
              "    <tr>\n",
              "      <th>249998</th>\n",
              "      <td>19.362</td>\n",
              "      <td>68.812</td>\n",
              "      <td>13.504</td>\n",
              "      <td>3.365</td>\n",
              "      <td>13.504</td>\n",
              "      <td>0.999</td>\n",
              "      <td>1.414</td>\n",
              "      <td>27.944</td>\n",
              "      <td>-2.211</td>\n",
              "      <td>2.792</td>\n",
              "      <td>27.915</td>\n",
              "      <td>-0.874</td>\n",
              "      <td>-0.296</td>\n",
              "      <td>12.150</td>\n",
              "      <td>0.811</td>\n",
              "    </tr>\n",
              "    <tr>\n",
              "      <th>249999</th>\n",
              "      <td>72.756</td>\n",
              "      <td>70.831</td>\n",
              "      <td>7.479</td>\n",
              "      <td>2.025</td>\n",
              "      <td>7.479</td>\n",
              "      <td>0.936</td>\n",
              "      <td>-1.411</td>\n",
              "      <td>43.003</td>\n",
              "      <td>1.685</td>\n",
              "      <td>2.653</td>\n",
              "      <td>40.236</td>\n",
              "      <td>1.490</td>\n",
              "      <td>0.637</td>\n",
              "      <td>40.729</td>\n",
              "      <td>-1.596</td>\n",
              "    </tr>\n",
              "  </tbody>\n",
              "</table>\n",
              "<p>250000 rows × 15 columns</p>\n",
              "</div>\n",
              "      <button class=\"colab-df-convert\" onclick=\"convertToInteractive('df-0826c2d4-58b2-48d2-a54c-e1bc4e802585')\"\n",
              "              title=\"Convert this dataframe to an interactive table.\"\n",
              "              style=\"display:none;\">\n",
              "        \n",
              "  <svg xmlns=\"http://www.w3.org/2000/svg\" height=\"24px\"viewBox=\"0 0 24 24\"\n",
              "       width=\"24px\">\n",
              "    <path d=\"M0 0h24v24H0V0z\" fill=\"none\"/>\n",
              "    <path d=\"M18.56 5.44l.94 2.06.94-2.06 2.06-.94-2.06-.94-.94-2.06-.94 2.06-2.06.94zm-11 1L8.5 8.5l.94-2.06 2.06-.94-2.06-.94L8.5 2.5l-.94 2.06-2.06.94zm10 10l.94 2.06.94-2.06 2.06-.94-2.06-.94-.94-2.06-.94 2.06-2.06.94z\"/><path d=\"M17.41 7.96l-1.37-1.37c-.4-.4-.92-.59-1.43-.59-.52 0-1.04.2-1.43.59L10.3 9.45l-7.72 7.72c-.78.78-.78 2.05 0 2.83L4 21.41c.39.39.9.59 1.41.59.51 0 1.02-.2 1.41-.59l7.78-7.78 2.81-2.81c.8-.78.8-2.07 0-2.86zM5.41 20L4 18.59l7.72-7.72 1.47 1.35L5.41 20z\"/>\n",
              "  </svg>\n",
              "      </button>\n",
              "      \n",
              "  <style>\n",
              "    .colab-df-container {\n",
              "      display:flex;\n",
              "      flex-wrap:wrap;\n",
              "      gap: 12px;\n",
              "    }\n",
              "\n",
              "    .colab-df-convert {\n",
              "      background-color: #E8F0FE;\n",
              "      border: none;\n",
              "      border-radius: 50%;\n",
              "      cursor: pointer;\n",
              "      display: none;\n",
              "      fill: #1967D2;\n",
              "      height: 32px;\n",
              "      padding: 0 0 0 0;\n",
              "      width: 32px;\n",
              "    }\n",
              "\n",
              "    .colab-df-convert:hover {\n",
              "      background-color: #E2EBFA;\n",
              "      box-shadow: 0px 1px 2px rgba(60, 64, 67, 0.3), 0px 1px 3px 1px rgba(60, 64, 67, 0.15);\n",
              "      fill: #174EA6;\n",
              "    }\n",
              "\n",
              "    [theme=dark] .colab-df-convert {\n",
              "      background-color: #3B4455;\n",
              "      fill: #D2E3FC;\n",
              "    }\n",
              "\n",
              "    [theme=dark] .colab-df-convert:hover {\n",
              "      background-color: #434B5C;\n",
              "      box-shadow: 0px 1px 3px 1px rgba(0, 0, 0, 0.15);\n",
              "      filter: drop-shadow(0px 1px 2px rgba(0, 0, 0, 0.3));\n",
              "      fill: #FFFFFF;\n",
              "    }\n",
              "  </style>\n",
              "\n",
              "      <script>\n",
              "        const buttonEl =\n",
              "          document.querySelector('#df-0826c2d4-58b2-48d2-a54c-e1bc4e802585 button.colab-df-convert');\n",
              "        buttonEl.style.display =\n",
              "          google.colab.kernel.accessAllowed ? 'block' : 'none';\n",
              "\n",
              "        async function convertToInteractive(key) {\n",
              "          const element = document.querySelector('#df-0826c2d4-58b2-48d2-a54c-e1bc4e802585');\n",
              "          const dataTable =\n",
              "            await google.colab.kernel.invokeFunction('convertToInteractive',\n",
              "                                                     [key], {});\n",
              "          if (!dataTable) return;\n",
              "\n",
              "          const docLinkHtml = 'Like what you see? Visit the ' +\n",
              "            '<a target=\"_blank\" href=https://colab.research.google.com/notebooks/data_table.ipynb>data table notebook</a>'\n",
              "            + ' to learn more about interactive tables.';\n",
              "          element.innerHTML = '';\n",
              "          dataTable['output_type'] = 'display_data';\n",
              "          await google.colab.output.renderOutput(dataTable, element);\n",
              "          const docLink = document.createElement('div');\n",
              "          docLink.innerHTML = docLinkHtml;\n",
              "          element.appendChild(docLink);\n",
              "        }\n",
              "      </script>\n",
              "    </div>\n",
              "  </div>\n",
              "  "
            ]
          },
          "metadata": {},
          "execution_count": 127
        }
      ]
    },
    {
      "cell_type": "code",
      "source": [
        "data_y = train_checkpoint.iloc[:,16]"
      ],
      "metadata": {
        "id": "0WBwaHoARat7"
      },
      "execution_count": null,
      "outputs": []
    },
    {
      "cell_type": "code",
      "source": [
        "x_pca_train, x_pca_test, y_pca_train, y_pca_test= train_test_split(data,data_y, test_size= 0.2, random_state=0)  "
      ],
      "metadata": {
        "id": "SGNThgkFSxuM"
      },
      "execution_count": null,
      "outputs": []
    },
    {
      "cell_type": "code",
      "source": [
        "pca.fit(x_pca_train)"
      ],
      "metadata": {
        "colab": {
          "base_uri": "https://localhost:8080/"
        },
        "id": "YJqO8pZPNZ4L",
        "outputId": "064511b3-58da-470b-e9f3-8c7d41917ca0"
      },
      "execution_count": null,
      "outputs": [
        {
          "output_type": "execute_result",
          "data": {
            "text/plain": [
              "PCA()"
            ]
          },
          "metadata": {},
          "execution_count": 155
        }
      ]
    },
    {
      "cell_type": "code",
      "source": [
        "x_pca_train=pca.transform(x_pca_train)"
      ],
      "metadata": {
        "id": "8n3_olX9BU5G"
      },
      "execution_count": null,
      "outputs": []
    },
    {
      "cell_type": "code",
      "source": [
        "x_pca_train.shape"
      ],
      "metadata": {
        "colab": {
          "base_uri": "https://localhost:8080/"
        },
        "id": "p5pxZOCiBX1G",
        "outputId": "d8146259-6a6d-42ac-9deb-ef4012a224de"
      },
      "execution_count": null,
      "outputs": [
        {
          "output_type": "execute_result",
          "data": {
            "text/plain": [
              "(200000, 15)"
            ]
          },
          "metadata": {},
          "execution_count": 157
        }
      ]
    },
    {
      "cell_type": "code",
      "source": [
        "x_pca_train"
      ],
      "metadata": {
        "colab": {
          "base_uri": "https://localhost:8080/"
        },
        "id": "wDgJFSrNBao0",
        "outputId": "f688e5a8-187e-4ef1-9b03-d8e8143b875b"
      },
      "execution_count": null,
      "outputs": [
        {
          "output_type": "execute_result",
          "data": {
            "text/plain": [
              "array([[ 4.16636505e+00, -1.69747747e+01, -8.19996555e+00, ...,\n",
              "        -1.21760336e-02, -9.72619545e-02, -1.40477568e-01],\n",
              "       [-3.04756162e+00, -9.12145702e+00, -1.22054627e+01, ...,\n",
              "         4.52300196e-01,  2.36930306e-01, -2.08823979e-01],\n",
              "       [-5.58903232e+01, -1.87215659e+01,  2.55034196e+01, ...,\n",
              "         1.11213035e+00, -4.41068176e-01,  3.38433441e-02],\n",
              "       ...,\n",
              "       [-4.58523094e+01, -1.81546223e+01, -2.80233716e+01, ...,\n",
              "        -4.81071752e-01,  3.28474203e-01,  1.55415784e-02],\n",
              "       [ 4.78258350e+01, -3.52950849e+01, -2.33275413e+01, ...,\n",
              "        -1.51126571e-01, -2.94720672e-01,  2.57675992e-01],\n",
              "       [-6.50586268e+01, -2.13790273e+01, -7.68823214e+00, ...,\n",
              "         1.14639536e+00,  7.58677970e-01, -1.20680579e-01]])"
            ]
          },
          "metadata": {},
          "execution_count": 158
        }
      ]
    },
    {
      "cell_type": "code",
      "source": [
        "pca.explained_variance_ratio_"
      ],
      "metadata": {
        "colab": {
          "base_uri": "https://localhost:8080/"
        },
        "id": "RvjpAGltBdQE",
        "outputId": "92cdc4a3-49ab-4323-97b6-188dc20dd9b6"
      },
      "execution_count": null,
      "outputs": [
        {
          "output_type": "execute_result",
          "data": {
            "text/plain": [
              "array([5.11627642e-01, 2.05321901e-01, 1.38528841e-01, 4.74176339e-02,\n",
              "       4.58235137e-02, 3.65924201e-02, 1.32181949e-02, 4.14796161e-04,\n",
              "       3.44642286e-04, 2.70158406e-04, 2.49337522e-04, 8.58317087e-05,\n",
              "       7.08433340e-05, 2.15860917e-05, 1.26575054e-05])"
            ]
          },
          "metadata": {},
          "execution_count": 159
        }
      ]
    },
    {
      "cell_type": "code",
      "source": [
        "X_pca_final = x_pca_train"
      ],
      "metadata": {
        "id": "4axsFeCoBgTE"
      },
      "execution_count": null,
      "outputs": []
    },
    {
      "cell_type": "code",
      "source": [
        "X_pca_final.shape"
      ],
      "metadata": {
        "colab": {
          "base_uri": "https://localhost:8080/"
        },
        "id": "NnvkPGwsBJ6T",
        "outputId": "221b96cd-3d12-41e7-d852-3eb8df370ce7"
      },
      "execution_count": null,
      "outputs": [
        {
          "output_type": "execute_result",
          "data": {
            "text/plain": [
              "(200000, 15)"
            ]
          },
          "metadata": {},
          "execution_count": 176
        }
      ]
    },
    {
      "cell_type": "code",
      "source": [
        "classifier_rf = RandomForestClassifier(random_state=0, n_jobs=1, max_depth=6,\n",
        "                                       n_estimators=500, oob_score=True)\n",
        "\n",
        "classifier_rf.fit(X_pca_final, y_pca_train)"
      ],
      "metadata": {
        "colab": {
          "base_uri": "https://localhost:8080/"
        },
        "id": "U_awg0VmRAkM",
        "outputId": "e340d2a2-1935-48e4-891d-a36b986d1d3e"
      },
      "execution_count": null,
      "outputs": [
        {
          "output_type": "execute_result",
          "data": {
            "text/plain": [
              "RandomForestClassifier(max_depth=6, n_estimators=500, n_jobs=1, oob_score=True,\n",
              "                       random_state=0)"
            ]
          },
          "metadata": {},
          "execution_count": 177
        }
      ]
    },
    {
      "cell_type": "code",
      "source": [
        "x_pca_test"
      ],
      "metadata": {
        "colab": {
          "base_uri": "https://localhost:8080/"
        },
        "id": "IHknUPntSixW",
        "outputId": "9ed30029-d4bf-4668-8e74-9cd3aa15870b"
      },
      "execution_count": null,
      "outputs": [
        {
          "output_type": "execute_result",
          "data": {
            "text/plain": [
              "array([[ 1.81384788e+01,  2.44313955e+01, -2.79074502e+01, ...,\n",
              "         3.91877920e-01,  4.72965339e-01, -4.87783627e-01],\n",
              "       [-5.33413092e+01, -3.54985707e+01, -5.34738543e+01, ...,\n",
              "        -5.79092937e-01, -8.25043535e-01,  3.80532759e-01],\n",
              "       [-2.66009484e+01,  3.45835845e+00, -9.68823265e+00, ...,\n",
              "         3.81640959e-01,  3.69421950e-01, -1.55178747e-01],\n",
              "       ...,\n",
              "       [ 1.19602615e+02, -1.26259371e+01, -1.00915996e+01, ...,\n",
              "         3.45694448e-01,  9.94352154e-02,  4.44914411e-01],\n",
              "       [ 2.24991327e+01, -2.41152144e+01,  3.86800475e+00, ...,\n",
              "         1.65174313e-01,  4.71369051e-02, -6.75316351e-02],\n",
              "       [-5.57928043e+01, -2.90668933e+01, -2.25424687e+01, ...,\n",
              "        -4.13397413e-02, -4.69824764e-01,  8.33823538e-02]])"
            ]
          },
          "metadata": {},
          "execution_count": 178
        }
      ]
    },
    {
      "cell_type": "code",
      "source": [
        "pca.fit(x_pca_test)"
      ],
      "metadata": {
        "colab": {
          "base_uri": "https://localhost:8080/"
        },
        "id": "s6tW3h3YSmvD",
        "outputId": "852c61bb-9aa0-4dbb-fa9f-9a75dc2e4cb1"
      },
      "execution_count": null,
      "outputs": [
        {
          "output_type": "execute_result",
          "data": {
            "text/plain": [
              "PCA()"
            ]
          },
          "metadata": {},
          "execution_count": 179
        }
      ]
    },
    {
      "cell_type": "code",
      "source": [
        "x_pca_test=pca.transform(x_pca_test)"
      ],
      "metadata": {
        "id": "OK60-CLTT1mT"
      },
      "execution_count": null,
      "outputs": []
    },
    {
      "cell_type": "code",
      "source": [
        "x_pca_test"
      ],
      "metadata": {
        "colab": {
          "base_uri": "https://localhost:8080/"
        },
        "id": "WQRvJkK8UB9-",
        "outputId": "5884bc69-ecc4-4762-e3fe-adc410731a4e"
      },
      "execution_count": null,
      "outputs": [
        {
          "output_type": "execute_result",
          "data": {
            "text/plain": [
              "array([[ 1.81384788e+01,  2.44313955e+01, -2.79074502e+01, ...,\n",
              "         3.91877920e-01,  4.72965339e-01, -4.87783627e-01],\n",
              "       [-5.33413092e+01, -3.54985707e+01, -5.34738543e+01, ...,\n",
              "        -5.79092937e-01, -8.25043535e-01,  3.80532759e-01],\n",
              "       [-2.66009484e+01,  3.45835845e+00, -9.68823265e+00, ...,\n",
              "         3.81640959e-01,  3.69421950e-01, -1.55178747e-01],\n",
              "       ...,\n",
              "       [ 1.19602615e+02, -1.26259371e+01, -1.00915996e+01, ...,\n",
              "         3.45694448e-01,  9.94352154e-02,  4.44914411e-01],\n",
              "       [ 2.24991327e+01, -2.41152144e+01,  3.86800475e+00, ...,\n",
              "         1.65174313e-01,  4.71369051e-02, -6.75316351e-02],\n",
              "       [-5.57928043e+01, -2.90668933e+01, -2.25424687e+01, ...,\n",
              "        -4.13397413e-02, -4.69824764e-01,  8.33823538e-02]])"
            ]
          },
          "metadata": {},
          "execution_count": 181
        }
      ]
    },
    {
      "cell_type": "code",
      "source": [
        "pca.explained_variance_ratio_"
      ],
      "metadata": {
        "colab": {
          "base_uri": "https://localhost:8080/"
        },
        "id": "CfwmRWa8UF27",
        "outputId": "253d9ff2-2b24-45cd-a51a-0cbe9b6a784e"
      },
      "execution_count": null,
      "outputs": [
        {
          "output_type": "execute_result",
          "data": {
            "text/plain": [
              "array([5.07996133e-01, 2.05897560e-01, 1.41016703e-01, 4.81593676e-02,\n",
              "       4.44545160e-02, 3.78239775e-02, 1.31436220e-02, 4.26883189e-04,\n",
              "       3.52825951e-04, 2.76272869e-04, 2.56168835e-04, 8.86124467e-05,\n",
              "       7.21043958e-05, 2.20546298e-05, 1.31990888e-05])"
            ]
          },
          "metadata": {},
          "execution_count": 182
        }
      ]
    },
    {
      "cell_type": "code",
      "source": [
        "x_pca_test_final = x_pca_test"
      ],
      "metadata": {
        "id": "SNhVm9ZSUcQk"
      },
      "execution_count": null,
      "outputs": []
    },
    {
      "cell_type": "code",
      "source": [
        "y_pred= classifier_rf.predict(x_pca_test_final)"
      ],
      "metadata": {
        "id": "TX4OJZcORyL0"
      },
      "execution_count": null,
      "outputs": []
    },
    {
      "cell_type": "code",
      "source": [
        "cm= confusion_matrix(y_test,y_pred) \n",
        "cr = classification_report(y_test,y_pred)"
      ],
      "metadata": {
        "id": "lURj-NrPR0Lk"
      },
      "execution_count": null,
      "outputs": []
    },
    {
      "cell_type": "code",
      "source": [
        "cm"
      ],
      "metadata": {
        "colab": {
          "base_uri": "https://localhost:8080/"
        },
        "id": "XZfwc_KhR8EU",
        "outputId": "f1a34037-74b3-4ea9-9109-ce5f23f20884"
      },
      "execution_count": null,
      "outputs": [
        {
          "output_type": "execute_result",
          "data": {
            "text/plain": [
              "array([[28976,  3895],\n",
              "       [15497,  1632]])"
            ]
          },
          "metadata": {},
          "execution_count": 186
        }
      ]
    },
    {
      "cell_type": "code",
      "source": [
        "print(cr)"
      ],
      "metadata": {
        "colab": {
          "base_uri": "https://localhost:8080/"
        },
        "id": "pD6KRNr7U1ns",
        "outputId": "af569176-c0ac-41e9-afde-14a014295409"
      },
      "execution_count": null,
      "outputs": [
        {
          "output_type": "stream",
          "name": "stdout",
          "text": [
            "              precision    recall  f1-score   support\n",
            "\n",
            "           0       0.65      0.88      0.75     32871\n",
            "           1       0.30      0.10      0.14     17129\n",
            "\n",
            "    accuracy                           0.61     50000\n",
            "   macro avg       0.47      0.49      0.45     50000\n",
            "weighted avg       0.53      0.61      0.54     50000\n",
            "\n"
          ]
        }
      ]
    },
    {
      "cell_type": "markdown",
      "source": [
        "Not at all good"
      ],
      "metadata": {
        "id": "UH_ksxv7XAYb"
      }
    },
    {
      "cell_type": "markdown",
      "source": [
        "#Step 6: AMS score calculation and Prediction for Test Data"
      ],
      "metadata": {
        "id": "KXTwYpapexe9"
      }
    },
    {
      "cell_type": "markdown",
      "source": [
        "$$\\text{AMS} = \\sqrt{2\\left((s+b+b_r) \\log \\left(1 + \\frac{s}{b + b_r}\\right)-s\\right)}$$\n",
        "\n",
        "* \\\\(s, b\\\\): unnormalized true positive and false positive rates, respectively,\n",
        "* \\\\(b_r =10\\\\) is the constant regularization term,\n",
        "* \\\\(\\log\\\\) is the natural log.\n",
        "\n",
        "More precisely, let \\\\((y_1, \\ldots, y_n) \\in \\{\\text{b},\\text{s}\\}^n\\\\) be the vector of true test labels, let \\\\((\\hat{y}_1, \\ldots, \\hat{y}_n) \\in \\{\\text{b},\\text{s}\\}^n\\\\) be the vector of predicted (submitted) test labels, and let \\\\((w_1, \\ldots, w_n) \\in {\\mathbb{R}^+}^n\\\\) be the vector of weights. Then\n",
        "\n",
        "<big>$$s = \\sum_{i=1}^n w_i\\mathbb{1}\\{y_i = \\text{s}\\} \\mathbb{1}\\{\\hat{y}_i = \\text{s}\\}$$</big>\n",
        "\n",
        "and\n",
        "\n",
        "<big>$$b = \\sum_{i=1}^n w_i\\mathbb{1}\\{y_i = \\text{b}\\} \\mathbb{1}\\{\\hat{y}_i = \\text{s}\\},$$</big>\n",
        " \n",
        "    \n",
        "where the indicator function \\\\(\\mathbb{1}\\{A\\}\\\\) is 1 if its argument \\\\(A\\\\) is true and 0 otherwise.\n",
        "    \n",
        "\n",
        "we define a function to get AMS score based on predicted and actual labels from the validation set. This should give a rough idea on what to expect from the model after uploading on the Kaggle ."
      ],
      "metadata": {
        "id": "0g2wIM9vgUMz"
      }
    },
    {
      "cell_type": "code",
      "source": [
        "## This function will compute the AMS score\n",
        "## We will predict the labels for whole undivided training dataset and pass them to this function\n",
        "## The corresponding weights are also required\n",
        "\n",
        "def get_AMS(pred, actual, weights):\n",
        "    \"\"\"\n",
        "    pred = np array of labels from the model. Apply argmax before passing in function\n",
        "    actual = pd series of actual labels from the validation set\n",
        "    weights = pd series of weights from the validation set\n",
        "    \n",
        "    Returns the AMS score\n",
        "    \"\"\"\n",
        "    AMS_frame = pd.DataFrame()\n",
        "    AMS_frame[\"Predicted\"]= pred\n",
        "    AMS_frame[\"Actual\"]= actual\n",
        "    AMS_frame[\"Weight\"]= weights\n",
        "    \n",
        "    display(AMS_frame)\n",
        "    \n",
        "    s= 0.0\n",
        "    b= 0.0\n",
        "    br= 10.0\n",
        "    \n",
        "    for index in range(len(AMS_frame)):\n",
        "        if AMS_frame.iloc[index, 0] == 1: # predicted 1\n",
        "            if AMS_frame.iloc[index, 1] == 1: # actual it is 1\n",
        "                s += AMS_frame.iloc[index, 2]\n",
        "                \n",
        "            else: # actually it is 0\n",
        "                b += AMS_frame.iloc[index, 2]\n",
        "                \n",
        "    \n",
        "    score = 2.0* ((s +b +br)*np.log(1+ (s/(b+br)))- s)\n",
        "    score = np.sqrt(score)\n",
        "    print(f\"AMS score : {score}\")\n",
        "    return score"
      ],
      "metadata": {
        "id": "-QtQGtoTe3E4"
      },
      "execution_count": 228,
      "outputs": []
    },
    {
      "cell_type": "code",
      "source": [
        "train = pd.read_csv('/content/drive/MyDrive/ML for Physics Applications/Content/Beginner Program/Notebooks/Week 9/Higgs Boston/Datasets/training.csv')"
      ],
      "metadata": {
        "id": "SLTWHNoOu_We"
      },
      "execution_count": 239,
      "outputs": []
    },
    {
      "cell_type": "code",
      "source": [
        "X"
      ],
      "metadata": {
        "colab": {
          "base_uri": "https://localhost:8080/",
          "height": 424
        },
        "id": "u6AyU9oyxQdJ",
        "outputId": "8340ca18-19ec-4ea7-e7ae-209d6fc8d48c"
      },
      "execution_count": 244,
      "outputs": [
        {
          "output_type": "execute_result",
          "data": {
            "text/plain": [
              "        DER_mass_transverse_met_lep  DER_mass_vis  DER_pt_h  \\\n",
              "0                            51.655        97.827    27.980   \n",
              "1                            68.768       103.235    48.146   \n",
              "2                           162.172       125.953    35.635   \n",
              "3                            81.417        80.943     0.414   \n",
              "4                            16.915       134.805    16.405   \n",
              "...                             ...           ...       ...   \n",
              "249995                       71.989        36.548     5.042   \n",
              "249996                       58.179        68.083    22.439   \n",
              "249997                       60.526        75.839    39.757   \n",
              "249998                       19.362        68.812    13.504   \n",
              "249999                       72.756        70.831     7.479   \n",
              "\n",
              "        DER_deltar_tau_lep  DER_pt_ratio_lep_tau  DER_met_phi_centrality  \\\n",
              "0                    3.064                 1.582                   1.396   \n",
              "1                    3.473                 0.879                   1.414   \n",
              "2                    3.148                 3.776                   1.414   \n",
              "3                    3.310                 2.354                  -1.285   \n",
              "4                    3.891                 1.056                  -1.385   \n",
              "...                    ...                   ...                     ...   \n",
              "249995               1.392                 1.258                  -1.414   \n",
              "249996               2.585                 1.162                  -1.345   \n",
              "249997               2.390                 1.202                   0.529   \n",
              "249998               3.365                 0.999                   1.414   \n",
              "249999               2.025                 0.936                  -1.411   \n",
              "\n",
              "        PRI_tau_pt  PRI_tau_eta  PRI_lep_eta  PRI_met  \n",
              "0           32.638        1.017        2.273   16.824  \n",
              "1           42.014        2.039        0.501   44.704  \n",
              "2           32.154       -0.705       -0.953   54.283  \n",
              "3           22.647       -1.655       -0.522   31.082  \n",
              "4           28.209       -2.197        0.798    2.723  \n",
              "...            ...          ...          ...      ...  \n",
              "249995      24.754       -0.414       -0.950   46.520  \n",
              "249996      23.416       -1.609        0.308   46.737  \n",
              "249997      35.636       -0.266        0.381   23.419  \n",
              "249998      27.944       -2.211       -0.874   12.150  \n",
              "249999      43.003        1.685        1.490   40.729  \n",
              "\n",
              "[250000 rows x 10 columns]"
            ],
            "text/html": [
              "\n",
              "  <div id=\"df-9aaab5ad-1024-486b-8008-575059c9dc96\">\n",
              "    <div class=\"colab-df-container\">\n",
              "      <div>\n",
              "<style scoped>\n",
              "    .dataframe tbody tr th:only-of-type {\n",
              "        vertical-align: middle;\n",
              "    }\n",
              "\n",
              "    .dataframe tbody tr th {\n",
              "        vertical-align: top;\n",
              "    }\n",
              "\n",
              "    .dataframe thead th {\n",
              "        text-align: right;\n",
              "    }\n",
              "</style>\n",
              "<table border=\"1\" class=\"dataframe\">\n",
              "  <thead>\n",
              "    <tr style=\"text-align: right;\">\n",
              "      <th></th>\n",
              "      <th>DER_mass_transverse_met_lep</th>\n",
              "      <th>DER_mass_vis</th>\n",
              "      <th>DER_pt_h</th>\n",
              "      <th>DER_deltar_tau_lep</th>\n",
              "      <th>DER_pt_ratio_lep_tau</th>\n",
              "      <th>DER_met_phi_centrality</th>\n",
              "      <th>PRI_tau_pt</th>\n",
              "      <th>PRI_tau_eta</th>\n",
              "      <th>PRI_lep_eta</th>\n",
              "      <th>PRI_met</th>\n",
              "    </tr>\n",
              "  </thead>\n",
              "  <tbody>\n",
              "    <tr>\n",
              "      <th>0</th>\n",
              "      <td>51.655</td>\n",
              "      <td>97.827</td>\n",
              "      <td>27.980</td>\n",
              "      <td>3.064</td>\n",
              "      <td>1.582</td>\n",
              "      <td>1.396</td>\n",
              "      <td>32.638</td>\n",
              "      <td>1.017</td>\n",
              "      <td>2.273</td>\n",
              "      <td>16.824</td>\n",
              "    </tr>\n",
              "    <tr>\n",
              "      <th>1</th>\n",
              "      <td>68.768</td>\n",
              "      <td>103.235</td>\n",
              "      <td>48.146</td>\n",
              "      <td>3.473</td>\n",
              "      <td>0.879</td>\n",
              "      <td>1.414</td>\n",
              "      <td>42.014</td>\n",
              "      <td>2.039</td>\n",
              "      <td>0.501</td>\n",
              "      <td>44.704</td>\n",
              "    </tr>\n",
              "    <tr>\n",
              "      <th>2</th>\n",
              "      <td>162.172</td>\n",
              "      <td>125.953</td>\n",
              "      <td>35.635</td>\n",
              "      <td>3.148</td>\n",
              "      <td>3.776</td>\n",
              "      <td>1.414</td>\n",
              "      <td>32.154</td>\n",
              "      <td>-0.705</td>\n",
              "      <td>-0.953</td>\n",
              "      <td>54.283</td>\n",
              "    </tr>\n",
              "    <tr>\n",
              "      <th>3</th>\n",
              "      <td>81.417</td>\n",
              "      <td>80.943</td>\n",
              "      <td>0.414</td>\n",
              "      <td>3.310</td>\n",
              "      <td>2.354</td>\n",
              "      <td>-1.285</td>\n",
              "      <td>22.647</td>\n",
              "      <td>-1.655</td>\n",
              "      <td>-0.522</td>\n",
              "      <td>31.082</td>\n",
              "    </tr>\n",
              "    <tr>\n",
              "      <th>4</th>\n",
              "      <td>16.915</td>\n",
              "      <td>134.805</td>\n",
              "      <td>16.405</td>\n",
              "      <td>3.891</td>\n",
              "      <td>1.056</td>\n",
              "      <td>-1.385</td>\n",
              "      <td>28.209</td>\n",
              "      <td>-2.197</td>\n",
              "      <td>0.798</td>\n",
              "      <td>2.723</td>\n",
              "    </tr>\n",
              "    <tr>\n",
              "      <th>...</th>\n",
              "      <td>...</td>\n",
              "      <td>...</td>\n",
              "      <td>...</td>\n",
              "      <td>...</td>\n",
              "      <td>...</td>\n",
              "      <td>...</td>\n",
              "      <td>...</td>\n",
              "      <td>...</td>\n",
              "      <td>...</td>\n",
              "      <td>...</td>\n",
              "    </tr>\n",
              "    <tr>\n",
              "      <th>249995</th>\n",
              "      <td>71.989</td>\n",
              "      <td>36.548</td>\n",
              "      <td>5.042</td>\n",
              "      <td>1.392</td>\n",
              "      <td>1.258</td>\n",
              "      <td>-1.414</td>\n",
              "      <td>24.754</td>\n",
              "      <td>-0.414</td>\n",
              "      <td>-0.950</td>\n",
              "      <td>46.520</td>\n",
              "    </tr>\n",
              "    <tr>\n",
              "      <th>249996</th>\n",
              "      <td>58.179</td>\n",
              "      <td>68.083</td>\n",
              "      <td>22.439</td>\n",
              "      <td>2.585</td>\n",
              "      <td>1.162</td>\n",
              "      <td>-1.345</td>\n",
              "      <td>23.416</td>\n",
              "      <td>-1.609</td>\n",
              "      <td>0.308</td>\n",
              "      <td>46.737</td>\n",
              "    </tr>\n",
              "    <tr>\n",
              "      <th>249997</th>\n",
              "      <td>60.526</td>\n",
              "      <td>75.839</td>\n",
              "      <td>39.757</td>\n",
              "      <td>2.390</td>\n",
              "      <td>1.202</td>\n",
              "      <td>0.529</td>\n",
              "      <td>35.636</td>\n",
              "      <td>-0.266</td>\n",
              "      <td>0.381</td>\n",
              "      <td>23.419</td>\n",
              "    </tr>\n",
              "    <tr>\n",
              "      <th>249998</th>\n",
              "      <td>19.362</td>\n",
              "      <td>68.812</td>\n",
              "      <td>13.504</td>\n",
              "      <td>3.365</td>\n",
              "      <td>0.999</td>\n",
              "      <td>1.414</td>\n",
              "      <td>27.944</td>\n",
              "      <td>-2.211</td>\n",
              "      <td>-0.874</td>\n",
              "      <td>12.150</td>\n",
              "    </tr>\n",
              "    <tr>\n",
              "      <th>249999</th>\n",
              "      <td>72.756</td>\n",
              "      <td>70.831</td>\n",
              "      <td>7.479</td>\n",
              "      <td>2.025</td>\n",
              "      <td>0.936</td>\n",
              "      <td>-1.411</td>\n",
              "      <td>43.003</td>\n",
              "      <td>1.685</td>\n",
              "      <td>1.490</td>\n",
              "      <td>40.729</td>\n",
              "    </tr>\n",
              "  </tbody>\n",
              "</table>\n",
              "<p>250000 rows × 10 columns</p>\n",
              "</div>\n",
              "      <button class=\"colab-df-convert\" onclick=\"convertToInteractive('df-9aaab5ad-1024-486b-8008-575059c9dc96')\"\n",
              "              title=\"Convert this dataframe to an interactive table.\"\n",
              "              style=\"display:none;\">\n",
              "        \n",
              "  <svg xmlns=\"http://www.w3.org/2000/svg\" height=\"24px\"viewBox=\"0 0 24 24\"\n",
              "       width=\"24px\">\n",
              "    <path d=\"M0 0h24v24H0V0z\" fill=\"none\"/>\n",
              "    <path d=\"M18.56 5.44l.94 2.06.94-2.06 2.06-.94-2.06-.94-.94-2.06-.94 2.06-2.06.94zm-11 1L8.5 8.5l.94-2.06 2.06-.94-2.06-.94L8.5 2.5l-.94 2.06-2.06.94zm10 10l.94 2.06.94-2.06 2.06-.94-2.06-.94-.94-2.06-.94 2.06-2.06.94z\"/><path d=\"M17.41 7.96l-1.37-1.37c-.4-.4-.92-.59-1.43-.59-.52 0-1.04.2-1.43.59L10.3 9.45l-7.72 7.72c-.78.78-.78 2.05 0 2.83L4 21.41c.39.39.9.59 1.41.59.51 0 1.02-.2 1.41-.59l7.78-7.78 2.81-2.81c.8-.78.8-2.07 0-2.86zM5.41 20L4 18.59l7.72-7.72 1.47 1.35L5.41 20z\"/>\n",
              "  </svg>\n",
              "      </button>\n",
              "      \n",
              "  <style>\n",
              "    .colab-df-container {\n",
              "      display:flex;\n",
              "      flex-wrap:wrap;\n",
              "      gap: 12px;\n",
              "    }\n",
              "\n",
              "    .colab-df-convert {\n",
              "      background-color: #E8F0FE;\n",
              "      border: none;\n",
              "      border-radius: 50%;\n",
              "      cursor: pointer;\n",
              "      display: none;\n",
              "      fill: #1967D2;\n",
              "      height: 32px;\n",
              "      padding: 0 0 0 0;\n",
              "      width: 32px;\n",
              "    }\n",
              "\n",
              "    .colab-df-convert:hover {\n",
              "      background-color: #E2EBFA;\n",
              "      box-shadow: 0px 1px 2px rgba(60, 64, 67, 0.3), 0px 1px 3px 1px rgba(60, 64, 67, 0.15);\n",
              "      fill: #174EA6;\n",
              "    }\n",
              "\n",
              "    [theme=dark] .colab-df-convert {\n",
              "      background-color: #3B4455;\n",
              "      fill: #D2E3FC;\n",
              "    }\n",
              "\n",
              "    [theme=dark] .colab-df-convert:hover {\n",
              "      background-color: #434B5C;\n",
              "      box-shadow: 0px 1px 3px 1px rgba(0, 0, 0, 0.15);\n",
              "      filter: drop-shadow(0px 1px 2px rgba(0, 0, 0, 0.3));\n",
              "      fill: #FFFFFF;\n",
              "    }\n",
              "  </style>\n",
              "\n",
              "      <script>\n",
              "        const buttonEl =\n",
              "          document.querySelector('#df-9aaab5ad-1024-486b-8008-575059c9dc96 button.colab-df-convert');\n",
              "        buttonEl.style.display =\n",
              "          google.colab.kernel.accessAllowed ? 'block' : 'none';\n",
              "\n",
              "        async function convertToInteractive(key) {\n",
              "          const element = document.querySelector('#df-9aaab5ad-1024-486b-8008-575059c9dc96');\n",
              "          const dataTable =\n",
              "            await google.colab.kernel.invokeFunction('convertToInteractive',\n",
              "                                                     [key], {});\n",
              "          if (!dataTable) return;\n",
              "\n",
              "          const docLinkHtml = 'Like what you see? Visit the ' +\n",
              "            '<a target=\"_blank\" href=https://colab.research.google.com/notebooks/data_table.ipynb>data table notebook</a>'\n",
              "            + ' to learn more about interactive tables.';\n",
              "          element.innerHTML = '';\n",
              "          dataTable['output_type'] = 'display_data';\n",
              "          await google.colab.output.renderOutput(dataTable, element);\n",
              "          const docLink = document.createElement('div');\n",
              "          docLink.innerHTML = docLinkHtml;\n",
              "          element.appendChild(docLink);\n",
              "        }\n",
              "      </script>\n",
              "    </div>\n",
              "  </div>\n",
              "  "
            ]
          },
          "metadata": {},
          "execution_count": 244
        }
      ]
    },
    {
      "cell_type": "code",
      "source": [
        "y"
      ],
      "metadata": {
        "colab": {
          "base_uri": "https://localhost:8080/"
        },
        "id": "gz9ykEs9xR2J",
        "outputId": "6902d9ca-3bf5-40c8-f8b4-19eb6930804c"
      },
      "execution_count": 245,
      "outputs": [
        {
          "output_type": "execute_result",
          "data": {
            "text/plain": [
              "0         1\n",
              "1         0\n",
              "2         0\n",
              "3         0\n",
              "4         0\n",
              "         ..\n",
              "249995    0\n",
              "249996    0\n",
              "249997    1\n",
              "249998    0\n",
              "249999    0\n",
              "Name: Label, Length: 250000, dtype: int64"
            ]
          },
          "metadata": {},
          "execution_count": 245
        }
      ]
    },
    {
      "cell_type": "code",
      "source": [
        "scaler = StandardScaler()"
      ],
      "metadata": {
        "id": "F8p4hQc1xf56"
      },
      "execution_count": 246,
      "outputs": []
    },
    {
      "cell_type": "code",
      "source": [
        "scalar= StandardScaler()  \n",
        "x_std= scalar.fit_transform(X)  \n",
        " "
      ],
      "metadata": {
        "id": "k71DhVZ7xj8p"
      },
      "execution_count": 247,
      "outputs": []
    },
    {
      "cell_type": "code",
      "source": [
        "whole_label= y\n",
        "whole_weight= train['Weight'].values"
      ],
      "metadata": {
        "id": "rIvSH7a-zeOx"
      },
      "execution_count": 252,
      "outputs": []
    },
    {
      "cell_type": "markdown",
      "source": [
        "AMS score from best ML model(Random Forest)"
      ],
      "metadata": {
        "id": "k0SMgTDnykth"
      }
    },
    {
      "cell_type": "code",
      "source": [
        "loaded_model = pickle.load(open('/content/finalized_model_random_forest.sav', 'rb'))\n",
        "prediction = loaded_model.predict(x_std)"
      ],
      "metadata": {
        "id": "I7wm-5tiyoMp"
      },
      "execution_count": 253,
      "outputs": []
    },
    {
      "cell_type": "code",
      "source": [
        "get_AMS(prediction, whole_label, whole_weight)"
      ],
      "metadata": {
        "colab": {
          "base_uri": "https://localhost:8080/",
          "height": 458
        },
        "id": "kkpaiW9eykTK",
        "outputId": "9be7414a-0d89-447c-8c58-d4fb96e7ff45"
      },
      "execution_count": 254,
      "outputs": [
        {
          "output_type": "display_data",
          "data": {
            "text/plain": [
              "        Predicted  Actual    Weight\n",
              "0               0       1  0.002653\n",
              "1               0       0  2.233584\n",
              "2               0       0  2.347389\n",
              "3               0       0  5.446378\n",
              "4               0       0  6.245333\n",
              "...           ...     ...       ...\n",
              "249995          0       0  4.505083\n",
              "249996          0       0  2.497259\n",
              "249997          0       1  0.018636\n",
              "249998          0       0  1.681611\n",
              "249999          0       0  1.877474\n",
              "\n",
              "[250000 rows x 3 columns]"
            ],
            "text/html": [
              "\n",
              "  <div id=\"df-fc1d9ae4-8490-4a6f-92cd-0ef343f4f6e4\">\n",
              "    <div class=\"colab-df-container\">\n",
              "      <div>\n",
              "<style scoped>\n",
              "    .dataframe tbody tr th:only-of-type {\n",
              "        vertical-align: middle;\n",
              "    }\n",
              "\n",
              "    .dataframe tbody tr th {\n",
              "        vertical-align: top;\n",
              "    }\n",
              "\n",
              "    .dataframe thead th {\n",
              "        text-align: right;\n",
              "    }\n",
              "</style>\n",
              "<table border=\"1\" class=\"dataframe\">\n",
              "  <thead>\n",
              "    <tr style=\"text-align: right;\">\n",
              "      <th></th>\n",
              "      <th>Predicted</th>\n",
              "      <th>Actual</th>\n",
              "      <th>Weight</th>\n",
              "    </tr>\n",
              "  </thead>\n",
              "  <tbody>\n",
              "    <tr>\n",
              "      <th>0</th>\n",
              "      <td>0</td>\n",
              "      <td>1</td>\n",
              "      <td>0.002653</td>\n",
              "    </tr>\n",
              "    <tr>\n",
              "      <th>1</th>\n",
              "      <td>0</td>\n",
              "      <td>0</td>\n",
              "      <td>2.233584</td>\n",
              "    </tr>\n",
              "    <tr>\n",
              "      <th>2</th>\n",
              "      <td>0</td>\n",
              "      <td>0</td>\n",
              "      <td>2.347389</td>\n",
              "    </tr>\n",
              "    <tr>\n",
              "      <th>3</th>\n",
              "      <td>0</td>\n",
              "      <td>0</td>\n",
              "      <td>5.446378</td>\n",
              "    </tr>\n",
              "    <tr>\n",
              "      <th>4</th>\n",
              "      <td>0</td>\n",
              "      <td>0</td>\n",
              "      <td>6.245333</td>\n",
              "    </tr>\n",
              "    <tr>\n",
              "      <th>...</th>\n",
              "      <td>...</td>\n",
              "      <td>...</td>\n",
              "      <td>...</td>\n",
              "    </tr>\n",
              "    <tr>\n",
              "      <th>249995</th>\n",
              "      <td>0</td>\n",
              "      <td>0</td>\n",
              "      <td>4.505083</td>\n",
              "    </tr>\n",
              "    <tr>\n",
              "      <th>249996</th>\n",
              "      <td>0</td>\n",
              "      <td>0</td>\n",
              "      <td>2.497259</td>\n",
              "    </tr>\n",
              "    <tr>\n",
              "      <th>249997</th>\n",
              "      <td>0</td>\n",
              "      <td>1</td>\n",
              "      <td>0.018636</td>\n",
              "    </tr>\n",
              "    <tr>\n",
              "      <th>249998</th>\n",
              "      <td>0</td>\n",
              "      <td>0</td>\n",
              "      <td>1.681611</td>\n",
              "    </tr>\n",
              "    <tr>\n",
              "      <th>249999</th>\n",
              "      <td>0</td>\n",
              "      <td>0</td>\n",
              "      <td>1.877474</td>\n",
              "    </tr>\n",
              "  </tbody>\n",
              "</table>\n",
              "<p>250000 rows × 3 columns</p>\n",
              "</div>\n",
              "      <button class=\"colab-df-convert\" onclick=\"convertToInteractive('df-fc1d9ae4-8490-4a6f-92cd-0ef343f4f6e4')\"\n",
              "              title=\"Convert this dataframe to an interactive table.\"\n",
              "              style=\"display:none;\">\n",
              "        \n",
              "  <svg xmlns=\"http://www.w3.org/2000/svg\" height=\"24px\"viewBox=\"0 0 24 24\"\n",
              "       width=\"24px\">\n",
              "    <path d=\"M0 0h24v24H0V0z\" fill=\"none\"/>\n",
              "    <path d=\"M18.56 5.44l.94 2.06.94-2.06 2.06-.94-2.06-.94-.94-2.06-.94 2.06-2.06.94zm-11 1L8.5 8.5l.94-2.06 2.06-.94-2.06-.94L8.5 2.5l-.94 2.06-2.06.94zm10 10l.94 2.06.94-2.06 2.06-.94-2.06-.94-.94-2.06-.94 2.06-2.06.94z\"/><path d=\"M17.41 7.96l-1.37-1.37c-.4-.4-.92-.59-1.43-.59-.52 0-1.04.2-1.43.59L10.3 9.45l-7.72 7.72c-.78.78-.78 2.05 0 2.83L4 21.41c.39.39.9.59 1.41.59.51 0 1.02-.2 1.41-.59l7.78-7.78 2.81-2.81c.8-.78.8-2.07 0-2.86zM5.41 20L4 18.59l7.72-7.72 1.47 1.35L5.41 20z\"/>\n",
              "  </svg>\n",
              "      </button>\n",
              "      \n",
              "  <style>\n",
              "    .colab-df-container {\n",
              "      display:flex;\n",
              "      flex-wrap:wrap;\n",
              "      gap: 12px;\n",
              "    }\n",
              "\n",
              "    .colab-df-convert {\n",
              "      background-color: #E8F0FE;\n",
              "      border: none;\n",
              "      border-radius: 50%;\n",
              "      cursor: pointer;\n",
              "      display: none;\n",
              "      fill: #1967D2;\n",
              "      height: 32px;\n",
              "      padding: 0 0 0 0;\n",
              "      width: 32px;\n",
              "    }\n",
              "\n",
              "    .colab-df-convert:hover {\n",
              "      background-color: #E2EBFA;\n",
              "      box-shadow: 0px 1px 2px rgba(60, 64, 67, 0.3), 0px 1px 3px 1px rgba(60, 64, 67, 0.15);\n",
              "      fill: #174EA6;\n",
              "    }\n",
              "\n",
              "    [theme=dark] .colab-df-convert {\n",
              "      background-color: #3B4455;\n",
              "      fill: #D2E3FC;\n",
              "    }\n",
              "\n",
              "    [theme=dark] .colab-df-convert:hover {\n",
              "      background-color: #434B5C;\n",
              "      box-shadow: 0px 1px 3px 1px rgba(0, 0, 0, 0.15);\n",
              "      filter: drop-shadow(0px 1px 2px rgba(0, 0, 0, 0.3));\n",
              "      fill: #FFFFFF;\n",
              "    }\n",
              "  </style>\n",
              "\n",
              "      <script>\n",
              "        const buttonEl =\n",
              "          document.querySelector('#df-fc1d9ae4-8490-4a6f-92cd-0ef343f4f6e4 button.colab-df-convert');\n",
              "        buttonEl.style.display =\n",
              "          google.colab.kernel.accessAllowed ? 'block' : 'none';\n",
              "\n",
              "        async function convertToInteractive(key) {\n",
              "          const element = document.querySelector('#df-fc1d9ae4-8490-4a6f-92cd-0ef343f4f6e4');\n",
              "          const dataTable =\n",
              "            await google.colab.kernel.invokeFunction('convertToInteractive',\n",
              "                                                     [key], {});\n",
              "          if (!dataTable) return;\n",
              "\n",
              "          const docLinkHtml = 'Like what you see? Visit the ' +\n",
              "            '<a target=\"_blank\" href=https://colab.research.google.com/notebooks/data_table.ipynb>data table notebook</a>'\n",
              "            + ' to learn more about interactive tables.';\n",
              "          element.innerHTML = '';\n",
              "          dataTable['output_type'] = 'display_data';\n",
              "          await google.colab.output.renderOutput(dataTable, element);\n",
              "          const docLink = document.createElement('div');\n",
              "          docLink.innerHTML = docLinkHtml;\n",
              "          element.appendChild(docLink);\n",
              "        }\n",
              "      </script>\n",
              "    </div>\n",
              "  </div>\n",
              "  "
            ]
          },
          "metadata": {}
        },
        {
          "output_type": "stream",
          "name": "stdout",
          "text": [
            "AMS score : 2.681736626371994\n"
          ]
        },
        {
          "output_type": "execute_result",
          "data": {
            "text/plain": [
              "2.681736626371994"
            ]
          },
          "metadata": {},
          "execution_count": 254
        }
      ]
    },
    {
      "cell_type": "markdown",
      "source": [
        "Prediction for Test data"
      ],
      "metadata": {
        "id": "LfbrbUbT1Wqh"
      }
    },
    {
      "cell_type": "code",
      "source": [
        "Test_checkpoint_2"
      ],
      "metadata": {
        "colab": {
          "base_uri": "https://localhost:8080/",
          "height": 424
        },
        "id": "bTypg-uL0jGL",
        "outputId": "f88afc53-b9e8-4a23-827d-7b850effbf66"
      },
      "execution_count": 256,
      "outputs": [
        {
          "output_type": "execute_result",
          "data": {
            "text/plain": [
              "        EventId  DER_mass_transverse_met_lep  DER_mass_vis  DER_pt_h  \\\n",
              "0        350000                       79.589        23.916     3.036   \n",
              "1        350001                       67.490        87.949    49.994   \n",
              "2        350002                       56.226        96.358     4.137   \n",
              "3        350003                       30.604        97.288     9.104   \n",
              "4        350004                       82.772        58.731    89.646   \n",
              "...         ...                          ...           ...       ...   \n",
              "549995   899995                       28.185       170.795    99.349   \n",
              "549996   899996                        5.096        77.256    33.040   \n",
              "549997   899997                       69.470        51.766     1.189   \n",
              "549998   899998                       13.500        79.833    50.801   \n",
              "549999   899999                       85.200        75.670    42.009   \n",
              "\n",
              "        DER_deltar_tau_lep  DER_pt_ratio_lep_tau  DER_met_phi_centrality  \\\n",
              "0                    0.903                 1.536                  -1.404   \n",
              "1                    2.048                 1.777                  -1.204   \n",
              "2                    2.755                 1.096                  -1.408   \n",
              "3                    2.811                 0.819                  -1.382   \n",
              "4                    1.028                 1.713                  -0.913   \n",
              "...                    ...                   ...                     ...   \n",
              "549995               3.061                 0.708                   1.346   \n",
              "549996               2.693                 0.948                   0.551   \n",
              "549997               1.615                 0.752                  -1.398   \n",
              "549998               2.026                 1.087                  -0.288   \n",
              "549999               2.877                 2.175                   1.401   \n",
              "\n",
              "        PRI_tau_pt  PRI_tau_eta  PRI_lep_eta  PRI_met  \n",
              "0           22.088       -0.540       -0.504   48.509  \n",
              "1           30.716       -1.784       -0.169   21.093  \n",
              "2           46.564       -0.298       -0.548   19.461  \n",
              "3           51.741        0.388       -0.295   25.131  \n",
              "4           45.087       -1.548       -1.913   22.200  \n",
              "...            ...          ...          ...      ...  \n",
              "549995      67.429        0.657       -1.372   61.754  \n",
              "549996      31.964        0.162       -1.404   12.670  \n",
              "549997      41.290        0.559        0.578   49.505  \n",
              "549998      44.403       -0.504       -0.096    7.741  \n",
              "549999      25.473       -1.098       -0.731   41.663  \n",
              "\n",
              "[550000 rows x 11 columns]"
            ],
            "text/html": [
              "\n",
              "  <div id=\"df-5e59d0d2-dd14-4dcc-9a85-3672d74b4d68\">\n",
              "    <div class=\"colab-df-container\">\n",
              "      <div>\n",
              "<style scoped>\n",
              "    .dataframe tbody tr th:only-of-type {\n",
              "        vertical-align: middle;\n",
              "    }\n",
              "\n",
              "    .dataframe tbody tr th {\n",
              "        vertical-align: top;\n",
              "    }\n",
              "\n",
              "    .dataframe thead th {\n",
              "        text-align: right;\n",
              "    }\n",
              "</style>\n",
              "<table border=\"1\" class=\"dataframe\">\n",
              "  <thead>\n",
              "    <tr style=\"text-align: right;\">\n",
              "      <th></th>\n",
              "      <th>EventId</th>\n",
              "      <th>DER_mass_transverse_met_lep</th>\n",
              "      <th>DER_mass_vis</th>\n",
              "      <th>DER_pt_h</th>\n",
              "      <th>DER_deltar_tau_lep</th>\n",
              "      <th>DER_pt_ratio_lep_tau</th>\n",
              "      <th>DER_met_phi_centrality</th>\n",
              "      <th>PRI_tau_pt</th>\n",
              "      <th>PRI_tau_eta</th>\n",
              "      <th>PRI_lep_eta</th>\n",
              "      <th>PRI_met</th>\n",
              "    </tr>\n",
              "  </thead>\n",
              "  <tbody>\n",
              "    <tr>\n",
              "      <th>0</th>\n",
              "      <td>350000</td>\n",
              "      <td>79.589</td>\n",
              "      <td>23.916</td>\n",
              "      <td>3.036</td>\n",
              "      <td>0.903</td>\n",
              "      <td>1.536</td>\n",
              "      <td>-1.404</td>\n",
              "      <td>22.088</td>\n",
              "      <td>-0.540</td>\n",
              "      <td>-0.504</td>\n",
              "      <td>48.509</td>\n",
              "    </tr>\n",
              "    <tr>\n",
              "      <th>1</th>\n",
              "      <td>350001</td>\n",
              "      <td>67.490</td>\n",
              "      <td>87.949</td>\n",
              "      <td>49.994</td>\n",
              "      <td>2.048</td>\n",
              "      <td>1.777</td>\n",
              "      <td>-1.204</td>\n",
              "      <td>30.716</td>\n",
              "      <td>-1.784</td>\n",
              "      <td>-0.169</td>\n",
              "      <td>21.093</td>\n",
              "    </tr>\n",
              "    <tr>\n",
              "      <th>2</th>\n",
              "      <td>350002</td>\n",
              "      <td>56.226</td>\n",
              "      <td>96.358</td>\n",
              "      <td>4.137</td>\n",
              "      <td>2.755</td>\n",
              "      <td>1.096</td>\n",
              "      <td>-1.408</td>\n",
              "      <td>46.564</td>\n",
              "      <td>-0.298</td>\n",
              "      <td>-0.548</td>\n",
              "      <td>19.461</td>\n",
              "    </tr>\n",
              "    <tr>\n",
              "      <th>3</th>\n",
              "      <td>350003</td>\n",
              "      <td>30.604</td>\n",
              "      <td>97.288</td>\n",
              "      <td>9.104</td>\n",
              "      <td>2.811</td>\n",
              "      <td>0.819</td>\n",
              "      <td>-1.382</td>\n",
              "      <td>51.741</td>\n",
              "      <td>0.388</td>\n",
              "      <td>-0.295</td>\n",
              "      <td>25.131</td>\n",
              "    </tr>\n",
              "    <tr>\n",
              "      <th>4</th>\n",
              "      <td>350004</td>\n",
              "      <td>82.772</td>\n",
              "      <td>58.731</td>\n",
              "      <td>89.646</td>\n",
              "      <td>1.028</td>\n",
              "      <td>1.713</td>\n",
              "      <td>-0.913</td>\n",
              "      <td>45.087</td>\n",
              "      <td>-1.548</td>\n",
              "      <td>-1.913</td>\n",
              "      <td>22.200</td>\n",
              "    </tr>\n",
              "    <tr>\n",
              "      <th>...</th>\n",
              "      <td>...</td>\n",
              "      <td>...</td>\n",
              "      <td>...</td>\n",
              "      <td>...</td>\n",
              "      <td>...</td>\n",
              "      <td>...</td>\n",
              "      <td>...</td>\n",
              "      <td>...</td>\n",
              "      <td>...</td>\n",
              "      <td>...</td>\n",
              "      <td>...</td>\n",
              "    </tr>\n",
              "    <tr>\n",
              "      <th>549995</th>\n",
              "      <td>899995</td>\n",
              "      <td>28.185</td>\n",
              "      <td>170.795</td>\n",
              "      <td>99.349</td>\n",
              "      <td>3.061</td>\n",
              "      <td>0.708</td>\n",
              "      <td>1.346</td>\n",
              "      <td>67.429</td>\n",
              "      <td>0.657</td>\n",
              "      <td>-1.372</td>\n",
              "      <td>61.754</td>\n",
              "    </tr>\n",
              "    <tr>\n",
              "      <th>549996</th>\n",
              "      <td>899996</td>\n",
              "      <td>5.096</td>\n",
              "      <td>77.256</td>\n",
              "      <td>33.040</td>\n",
              "      <td>2.693</td>\n",
              "      <td>0.948</td>\n",
              "      <td>0.551</td>\n",
              "      <td>31.964</td>\n",
              "      <td>0.162</td>\n",
              "      <td>-1.404</td>\n",
              "      <td>12.670</td>\n",
              "    </tr>\n",
              "    <tr>\n",
              "      <th>549997</th>\n",
              "      <td>899997</td>\n",
              "      <td>69.470</td>\n",
              "      <td>51.766</td>\n",
              "      <td>1.189</td>\n",
              "      <td>1.615</td>\n",
              "      <td>0.752</td>\n",
              "      <td>-1.398</td>\n",
              "      <td>41.290</td>\n",
              "      <td>0.559</td>\n",
              "      <td>0.578</td>\n",
              "      <td>49.505</td>\n",
              "    </tr>\n",
              "    <tr>\n",
              "      <th>549998</th>\n",
              "      <td>899998</td>\n",
              "      <td>13.500</td>\n",
              "      <td>79.833</td>\n",
              "      <td>50.801</td>\n",
              "      <td>2.026</td>\n",
              "      <td>1.087</td>\n",
              "      <td>-0.288</td>\n",
              "      <td>44.403</td>\n",
              "      <td>-0.504</td>\n",
              "      <td>-0.096</td>\n",
              "      <td>7.741</td>\n",
              "    </tr>\n",
              "    <tr>\n",
              "      <th>549999</th>\n",
              "      <td>899999</td>\n",
              "      <td>85.200</td>\n",
              "      <td>75.670</td>\n",
              "      <td>42.009</td>\n",
              "      <td>2.877</td>\n",
              "      <td>2.175</td>\n",
              "      <td>1.401</td>\n",
              "      <td>25.473</td>\n",
              "      <td>-1.098</td>\n",
              "      <td>-0.731</td>\n",
              "      <td>41.663</td>\n",
              "    </tr>\n",
              "  </tbody>\n",
              "</table>\n",
              "<p>550000 rows × 11 columns</p>\n",
              "</div>\n",
              "      <button class=\"colab-df-convert\" onclick=\"convertToInteractive('df-5e59d0d2-dd14-4dcc-9a85-3672d74b4d68')\"\n",
              "              title=\"Convert this dataframe to an interactive table.\"\n",
              "              style=\"display:none;\">\n",
              "        \n",
              "  <svg xmlns=\"http://www.w3.org/2000/svg\" height=\"24px\"viewBox=\"0 0 24 24\"\n",
              "       width=\"24px\">\n",
              "    <path d=\"M0 0h24v24H0V0z\" fill=\"none\"/>\n",
              "    <path d=\"M18.56 5.44l.94 2.06.94-2.06 2.06-.94-2.06-.94-.94-2.06-.94 2.06-2.06.94zm-11 1L8.5 8.5l.94-2.06 2.06-.94-2.06-.94L8.5 2.5l-.94 2.06-2.06.94zm10 10l.94 2.06.94-2.06 2.06-.94-2.06-.94-.94-2.06-.94 2.06-2.06.94z\"/><path d=\"M17.41 7.96l-1.37-1.37c-.4-.4-.92-.59-1.43-.59-.52 0-1.04.2-1.43.59L10.3 9.45l-7.72 7.72c-.78.78-.78 2.05 0 2.83L4 21.41c.39.39.9.59 1.41.59.51 0 1.02-.2 1.41-.59l7.78-7.78 2.81-2.81c.8-.78.8-2.07 0-2.86zM5.41 20L4 18.59l7.72-7.72 1.47 1.35L5.41 20z\"/>\n",
              "  </svg>\n",
              "      </button>\n",
              "      \n",
              "  <style>\n",
              "    .colab-df-container {\n",
              "      display:flex;\n",
              "      flex-wrap:wrap;\n",
              "      gap: 12px;\n",
              "    }\n",
              "\n",
              "    .colab-df-convert {\n",
              "      background-color: #E8F0FE;\n",
              "      border: none;\n",
              "      border-radius: 50%;\n",
              "      cursor: pointer;\n",
              "      display: none;\n",
              "      fill: #1967D2;\n",
              "      height: 32px;\n",
              "      padding: 0 0 0 0;\n",
              "      width: 32px;\n",
              "    }\n",
              "\n",
              "    .colab-df-convert:hover {\n",
              "      background-color: #E2EBFA;\n",
              "      box-shadow: 0px 1px 2px rgba(60, 64, 67, 0.3), 0px 1px 3px 1px rgba(60, 64, 67, 0.15);\n",
              "      fill: #174EA6;\n",
              "    }\n",
              "\n",
              "    [theme=dark] .colab-df-convert {\n",
              "      background-color: #3B4455;\n",
              "      fill: #D2E3FC;\n",
              "    }\n",
              "\n",
              "    [theme=dark] .colab-df-convert:hover {\n",
              "      background-color: #434B5C;\n",
              "      box-shadow: 0px 1px 3px 1px rgba(0, 0, 0, 0.15);\n",
              "      filter: drop-shadow(0px 1px 2px rgba(0, 0, 0, 0.3));\n",
              "      fill: #FFFFFF;\n",
              "    }\n",
              "  </style>\n",
              "\n",
              "      <script>\n",
              "        const buttonEl =\n",
              "          document.querySelector('#df-5e59d0d2-dd14-4dcc-9a85-3672d74b4d68 button.colab-df-convert');\n",
              "        buttonEl.style.display =\n",
              "          google.colab.kernel.accessAllowed ? 'block' : 'none';\n",
              "\n",
              "        async function convertToInteractive(key) {\n",
              "          const element = document.querySelector('#df-5e59d0d2-dd14-4dcc-9a85-3672d74b4d68');\n",
              "          const dataTable =\n",
              "            await google.colab.kernel.invokeFunction('convertToInteractive',\n",
              "                                                     [key], {});\n",
              "          if (!dataTable) return;\n",
              "\n",
              "          const docLinkHtml = 'Like what you see? Visit the ' +\n",
              "            '<a target=\"_blank\" href=https://colab.research.google.com/notebooks/data_table.ipynb>data table notebook</a>'\n",
              "            + ' to learn more about interactive tables.';\n",
              "          element.innerHTML = '';\n",
              "          dataTable['output_type'] = 'display_data';\n",
              "          await google.colab.output.renderOutput(dataTable, element);\n",
              "          const docLink = document.createElement('div');\n",
              "          docLink.innerHTML = docLinkHtml;\n",
              "          element.appendChild(docLink);\n",
              "        }\n",
              "      </script>\n",
              "    </div>\n",
              "  </div>\n",
              "  "
            ]
          },
          "metadata": {},
          "execution_count": 256
        }
      ]
    },
    {
      "cell_type": "code",
      "source": [
        "test_data = Test_checkpoint_2.iloc[:,1:]"
      ],
      "metadata": {
        "id": "1XJaxdoN0wMb"
      },
      "execution_count": 258,
      "outputs": []
    },
    {
      "cell_type": "code",
      "source": [
        "scalar= StandardScaler()  \n",
        "x_test= scalar.fit_transform(test_data)"
      ],
      "metadata": {
        "id": "nDdDD5rd1Jsx"
      },
      "execution_count": 260,
      "outputs": []
    },
    {
      "cell_type": "code",
      "source": [
        "prediction = loaded_model.predict(x_test)"
      ],
      "metadata": {
        "id": "xqL5fPnW1QYB"
      },
      "execution_count": 261,
      "outputs": []
    },
    {
      "cell_type": "code",
      "source": [
        "prediction.shape"
      ],
      "metadata": {
        "colab": {
          "base_uri": "https://localhost:8080/"
        },
        "id": "SNMCuFEw1cIB",
        "outputId": "8b69d549-4067-46de-a33f-87f377079a40"
      },
      "execution_count": 263,
      "outputs": [
        {
          "output_type": "execute_result",
          "data": {
            "text/plain": [
              "(550000,)"
            ]
          },
          "metadata": {},
          "execution_count": 263
        }
      ]
    },
    {
      "cell_type": "code",
      "source": [
        "prediction = pd.DataFrame(data = prediction, \n",
        "              \n",
        "                  columns = ['Prediction'])"
      ],
      "metadata": {
        "id": "9vpdxS3z2PIw"
      },
      "execution_count": 267,
      "outputs": []
    },
    {
      "cell_type": "code",
      "source": [
        "prediction"
      ],
      "metadata": {
        "colab": {
          "base_uri": "https://localhost:8080/",
          "height": 424
        },
        "id": "kcdfRu_h2vnO",
        "outputId": "a42ee8b9-315b-41d1-a0a4-f448f6eb8d30"
      },
      "execution_count": 268,
      "outputs": [
        {
          "output_type": "execute_result",
          "data": {
            "text/plain": [
              "        Prediction\n",
              "0                0\n",
              "1                0\n",
              "2                0\n",
              "3                1\n",
              "4                0\n",
              "...            ...\n",
              "549995           0\n",
              "549996           1\n",
              "549997           0\n",
              "549998           1\n",
              "549999           0\n",
              "\n",
              "[550000 rows x 1 columns]"
            ],
            "text/html": [
              "\n",
              "  <div id=\"df-9c6d6836-803c-43ce-b9b7-760ddaad6c51\">\n",
              "    <div class=\"colab-df-container\">\n",
              "      <div>\n",
              "<style scoped>\n",
              "    .dataframe tbody tr th:only-of-type {\n",
              "        vertical-align: middle;\n",
              "    }\n",
              "\n",
              "    .dataframe tbody tr th {\n",
              "        vertical-align: top;\n",
              "    }\n",
              "\n",
              "    .dataframe thead th {\n",
              "        text-align: right;\n",
              "    }\n",
              "</style>\n",
              "<table border=\"1\" class=\"dataframe\">\n",
              "  <thead>\n",
              "    <tr style=\"text-align: right;\">\n",
              "      <th></th>\n",
              "      <th>Prediction</th>\n",
              "    </tr>\n",
              "  </thead>\n",
              "  <tbody>\n",
              "    <tr>\n",
              "      <th>0</th>\n",
              "      <td>0</td>\n",
              "    </tr>\n",
              "    <tr>\n",
              "      <th>1</th>\n",
              "      <td>0</td>\n",
              "    </tr>\n",
              "    <tr>\n",
              "      <th>2</th>\n",
              "      <td>0</td>\n",
              "    </tr>\n",
              "    <tr>\n",
              "      <th>3</th>\n",
              "      <td>1</td>\n",
              "    </tr>\n",
              "    <tr>\n",
              "      <th>4</th>\n",
              "      <td>0</td>\n",
              "    </tr>\n",
              "    <tr>\n",
              "      <th>...</th>\n",
              "      <td>...</td>\n",
              "    </tr>\n",
              "    <tr>\n",
              "      <th>549995</th>\n",
              "      <td>0</td>\n",
              "    </tr>\n",
              "    <tr>\n",
              "      <th>549996</th>\n",
              "      <td>1</td>\n",
              "    </tr>\n",
              "    <tr>\n",
              "      <th>549997</th>\n",
              "      <td>0</td>\n",
              "    </tr>\n",
              "    <tr>\n",
              "      <th>549998</th>\n",
              "      <td>1</td>\n",
              "    </tr>\n",
              "    <tr>\n",
              "      <th>549999</th>\n",
              "      <td>0</td>\n",
              "    </tr>\n",
              "  </tbody>\n",
              "</table>\n",
              "<p>550000 rows × 1 columns</p>\n",
              "</div>\n",
              "      <button class=\"colab-df-convert\" onclick=\"convertToInteractive('df-9c6d6836-803c-43ce-b9b7-760ddaad6c51')\"\n",
              "              title=\"Convert this dataframe to an interactive table.\"\n",
              "              style=\"display:none;\">\n",
              "        \n",
              "  <svg xmlns=\"http://www.w3.org/2000/svg\" height=\"24px\"viewBox=\"0 0 24 24\"\n",
              "       width=\"24px\">\n",
              "    <path d=\"M0 0h24v24H0V0z\" fill=\"none\"/>\n",
              "    <path d=\"M18.56 5.44l.94 2.06.94-2.06 2.06-.94-2.06-.94-.94-2.06-.94 2.06-2.06.94zm-11 1L8.5 8.5l.94-2.06 2.06-.94-2.06-.94L8.5 2.5l-.94 2.06-2.06.94zm10 10l.94 2.06.94-2.06 2.06-.94-2.06-.94-.94-2.06-.94 2.06-2.06.94z\"/><path d=\"M17.41 7.96l-1.37-1.37c-.4-.4-.92-.59-1.43-.59-.52 0-1.04.2-1.43.59L10.3 9.45l-7.72 7.72c-.78.78-.78 2.05 0 2.83L4 21.41c.39.39.9.59 1.41.59.51 0 1.02-.2 1.41-.59l7.78-7.78 2.81-2.81c.8-.78.8-2.07 0-2.86zM5.41 20L4 18.59l7.72-7.72 1.47 1.35L5.41 20z\"/>\n",
              "  </svg>\n",
              "      </button>\n",
              "      \n",
              "  <style>\n",
              "    .colab-df-container {\n",
              "      display:flex;\n",
              "      flex-wrap:wrap;\n",
              "      gap: 12px;\n",
              "    }\n",
              "\n",
              "    .colab-df-convert {\n",
              "      background-color: #E8F0FE;\n",
              "      border: none;\n",
              "      border-radius: 50%;\n",
              "      cursor: pointer;\n",
              "      display: none;\n",
              "      fill: #1967D2;\n",
              "      height: 32px;\n",
              "      padding: 0 0 0 0;\n",
              "      width: 32px;\n",
              "    }\n",
              "\n",
              "    .colab-df-convert:hover {\n",
              "      background-color: #E2EBFA;\n",
              "      box-shadow: 0px 1px 2px rgba(60, 64, 67, 0.3), 0px 1px 3px 1px rgba(60, 64, 67, 0.15);\n",
              "      fill: #174EA6;\n",
              "    }\n",
              "\n",
              "    [theme=dark] .colab-df-convert {\n",
              "      background-color: #3B4455;\n",
              "      fill: #D2E3FC;\n",
              "    }\n",
              "\n",
              "    [theme=dark] .colab-df-convert:hover {\n",
              "      background-color: #434B5C;\n",
              "      box-shadow: 0px 1px 3px 1px rgba(0, 0, 0, 0.15);\n",
              "      filter: drop-shadow(0px 1px 2px rgba(0, 0, 0, 0.3));\n",
              "      fill: #FFFFFF;\n",
              "    }\n",
              "  </style>\n",
              "\n",
              "      <script>\n",
              "        const buttonEl =\n",
              "          document.querySelector('#df-9c6d6836-803c-43ce-b9b7-760ddaad6c51 button.colab-df-convert');\n",
              "        buttonEl.style.display =\n",
              "          google.colab.kernel.accessAllowed ? 'block' : 'none';\n",
              "\n",
              "        async function convertToInteractive(key) {\n",
              "          const element = document.querySelector('#df-9c6d6836-803c-43ce-b9b7-760ddaad6c51');\n",
              "          const dataTable =\n",
              "            await google.colab.kernel.invokeFunction('convertToInteractive',\n",
              "                                                     [key], {});\n",
              "          if (!dataTable) return;\n",
              "\n",
              "          const docLinkHtml = 'Like what you see? Visit the ' +\n",
              "            '<a target=\"_blank\" href=https://colab.research.google.com/notebooks/data_table.ipynb>data table notebook</a>'\n",
              "            + ' to learn more about interactive tables.';\n",
              "          element.innerHTML = '';\n",
              "          dataTable['output_type'] = 'display_data';\n",
              "          await google.colab.output.renderOutput(dataTable, element);\n",
              "          const docLink = document.createElement('div');\n",
              "          docLink.innerHTML = docLinkHtml;\n",
              "          element.appendChild(docLink);\n",
              "        }\n",
              "      </script>\n",
              "    </div>\n",
              "  </div>\n",
              "  "
            ]
          },
          "metadata": {},
          "execution_count": 268
        }
      ]
    },
    {
      "cell_type": "code",
      "source": [
        "sns.countplot(prediction['Prediction'], palette = \"viridis\")"
      ],
      "metadata": {
        "colab": {
          "base_uri": "https://localhost:8080/",
          "height": 296
        },
        "id": "C1PUeTId1f-K",
        "outputId": "632c10e3-933e-4021-8487-98705a6be58e"
      },
      "execution_count": 277,
      "outputs": [
        {
          "output_type": "execute_result",
          "data": {
            "text/plain": [
              "<matplotlib.axes._subplots.AxesSubplot at 0x7ff4d8735fa0>"
            ]
          },
          "metadata": {},
          "execution_count": 277
        },
        {
          "output_type": "display_data",
          "data": {
            "text/plain": [
              "<Figure size 432x288 with 1 Axes>"
            ],
            "image/png": "[encoded data removed]"
          },
          "metadata": {
            "needs_background": "light"
          }
        }
      ]
    },
    {
      "cell_type": "markdown",
      "source": [
        "#Thank You Rohan Jiiiiiiiiiiiiiiiiiiiiiiiiii"
      ],
      "metadata": {
        "id": "MZi_Tzk53ghL"
      }
    }
  ]
}